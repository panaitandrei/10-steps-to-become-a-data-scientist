{
  "cells": [
    {
      "metadata": {
        "_uuid": "a8f9622945156d6337ba73c481da2de7efef7384"
      },
      "cell_type": "markdown",
      "source": "# <div style=\"text-align: center\">A Data Science Framework for Quora </div>\n### <div align=\"center\"><b>Quite Practical and Far from any Theoretical Concepts</b></div>\n<img src='http://s9.picofile.com/file/8342477368/kq.png'>\n<div style=\"text-align:center\">last update: <b>11/26/2018</b></div>\n\nYou can Fork and Run this kernel on **Github**:\n> ###### [ GitHub](https://github.com/mjbahmani/10-steps-to-become-a-data-scientist)\n"
    },
    {
      "metadata": {
        "_uuid": "750903cc2679d39058f56df6c6c040be02b748df"
      },
      "cell_type": "markdown",
      "source": " <a id=\"1\"></a> <br>\n## 1- Introduction\n<font color=\"red\">Quora</font> has defined a competition in **Kaggle**. A realistic and attractive data set for data scientists.\non this notebook, I will provide a **comprehensive** approach to solve Quora classification problem.\n\nI am open to getting your feedback for improving this **kernel**."
    },
    {
      "metadata": {
        "_uuid": "cda11210a88d6484112cbe2c3624225328326c6a"
      },
      "cell_type": "markdown",
      "source": "<a id=\"top\"></a> <br>\n## Notebook  Content\n1. [Introduction](#1)\n1. [Data Science Workflow for Quora](#2)\n1. [Problem Definition](#3)\n    1. [Business View](#31)\n        1. [Real world Application Vs Competitions](#311)\n    1. [What is a insincere question?](#32)\n    1. [How can we find insincere question?](#33)\n1. [Problem feature](#4)\n    1. [Aim](#41)\n    1. [Variables](#42)\n    1. [ Inputs & Outputs](#43)\n1. [Select Framework](#5)\n    1. [Import](#51)\n    1. [Version](#52)\n    1. [Setup](#53)\n1. [Exploratory data analysis](#6)\n    1. [Data Collection](#61)\n        1. [Features](#611)\n        1. [Explorer Dataset](#612)\n    1. [Data Cleaning](#62)\n    1. [Data Preprocessing](#63)\n        1. [Is data set imbalance?](#631)\n        1. [Some Feature Engineering](#632)\n    1. [Data Visualization](#64)\n        1. [countplot](#641)\n        1. [pie plot](#642)\n        1. [Histogram](#643)\n        1. [violin plot](#645)\n        1. [kdeplot](#646)\n1. [Apply Learning](#7)\n1. [Conclusion](#8)\n1. [References](#9)"
    },
    {
      "metadata": {
        "_uuid": "e9438d850fcacb93c4dc1f7873255803ecbf521c"
      },
      "cell_type": "markdown",
      "source": "-------------------------------------------------------------------------------------------------------------\n\n **I hope you find this kernel helpful and some <font color=\"red\"><b>UPVOTES</b></font> would be very much appreciated**\n \n -----------"
    },
    {
      "metadata": {
        "_uuid": "e11b73b618b0f6e4335520ef80267c6d577d1ba5"
      },
      "cell_type": "markdown",
      "source": "<a id=\"2\"></a> <br>\n## 2- A Data Science Workflow for Quora\nOf course, the same solution can not be provided for all problems, so the best way is to create a **general framework** and adapt it to new problem.\n\n**You can see my workflow in the below image** :\n\n <img src=\"http://s8.picofile.com/file/8342707700/workflow2.png\"  />\n\n**You should feel free\tto\tadjust \tthis\tchecklist \tto\tyour needs**\n###### [Go to top](#top)"
    },
    {
      "metadata": {
        "_uuid": "600be852c0d28e7c0c5ebb718904ab15a536342c"
      },
      "cell_type": "markdown",
      "source": "<a id=\"3\"></a> <br>\n## 3- Problem Definition\nI think one of the important things when you start a new machine learning project is Defining your problem. that means you should understand business problem.( **Problem Formalization**)\n> **we will be predicting whether a question asked on Quora is sincere or not.**\n<a id=\"31\"></a> <br>\n## 3-1 About Quora\nQuora is a platform that empowers people to learn from each other. On Quora, people can ask questions and connect with others who contribute unique insights and quality answers. A key challenge is to weed out insincere questions -- those founded upon false premises, or that intend to make a statement rather than look for helpful answers.\n<a id=\"32\"></a> <br>\n## 3-2 Business View \nAn existential problem for any major website today is how to handle toxic and divisive content. **Quora** wants to tackle this problem head-on to keep their platform a place where users can feel safe sharing their knowledge with the world.\n\n**Quora** is a platform that empowers people to learn from each other. On Quora, people can ask questions and connect with others who contribute unique insights and quality answers. A key challenge is to weed out insincere questions -- those founded upon false premises, or that intend to make a statement rather than look for helpful answers.\n\nIn this kernel, I will develop models that identify and flag insincere questions.we Help Quora uphold their policy of “Be Nice, Be Respectful” and continue to be a place for sharing and growing the world’s knowledge.\n<a id=\"321\"></a> <br>\n### 3-2-1 Real world Application Vs Competitions\nJust a simple comparison between real-world apps with competitions:\n<img src=\"http://s9.picofile.com/file/8339956300/reallife.png\" height=\"600\" width=\"500\" />\n<a id=\"33\"></a> <br>\n## 3-3 What is a insincere question?\nIs defined as a question intended to make a **statement** rather than look for **helpful answers**.\n<img src='http://s8.picofile.com/file/8342711526/Quora_moderation.png'>\n<a id=\"34\"></a> <br>\n## 3-4 How can we find insincere question?\nSome characteristics that can signify that a question is insincere:\n\n1. **Has a non-neutral tone**\n    1. Has an exaggerated tone to underscore a point about a group of people\n    1. Is rhetorical and meant to imply a statement about a group of people\n1. **Is disparaging or inflammatory**\n    1. Suggests a discriminatory idea against a protected class of people, or seeks confirmation of a stereotype\n    1. Makes disparaging attacks/insults against a specific person or group of people\n    1. Based on an outlandish premise about a group of people\n    1. Disparages against a characteristic that is not fixable and not measurable\n1. **Isn't grounded in reality**\n    1. Based on false information, or contains absurd assumptions\n    1. Uses sexual content (incest, bestiality, pedophilia) for shock value, and not to seek genuine answers\n    ###### [Go to top](#top)"
    },
    {
      "metadata": {
        "_uuid": "556980c672d2f7b2a4ee943b9d13b88de6e41e04"
      },
      "cell_type": "markdown",
      "source": "<a id=\"4\"></a> <br>\n## 4- Problem Feature\nProblem Definition has three steps that have illustrated in the picture below:\n\n1. Aim\n1. Variable\n1. Inputs & Outputs\n\n\n\n\n\n<a id=\"41\"></a> <br>\n### 4-1 Aim\nWe will be predicting whether a question asked on Quora is **sincere** or not.\n\n\n<a id=\"42\"></a> <br>\n### 4-2 Variables\n\n1. qid - unique question identifier\n1. question_text - Quora question text\n1. target - a question labeled \"insincere\" has a value of 1, otherwise 0\n\n<a id=\"43\"></a> <br>\n### 4-3 Inputs & Outputs\nwe use train.csv and test.csv as Input and we should upload a  submission.csv as Output\n\n\n**<< Note >>**\n> You must answer the following question:\nHow does your company expect to use and benefit from **your model**.\n###### [Go to top](#top)"
    },
    {
      "metadata": {
        "_uuid": "fbedcae8843986c2139f18dad4b5f313e6535ac5"
      },
      "cell_type": "markdown",
      "source": "<a id=\"5\"></a> <br>\n## 5- Select Framework\nAfter problem definition and problem feature, we should select our framework to solve the problem.\nWhat we mean by the framework is that  the programming languages you use and by what modules the problem will be solved.\n\n<a id=\"51\"></a> <br>\n## 5-1 Python Deep Learning Packages\n<img src='https://cdn-images-1.medium.com/max/800/1*dYjDEI0mLpsCOySKUuX1VA.png'>\n*State of open source deep learning frameworks in 2017*\n1. **keras**[11]\n>Well known for being minimalistic, the Keras neural network library (with a supporting interface of Python) supports both convolutional and recurrent networks that are capable of running on either TensorFlow or Theano. The library is written in Python and was developed keeping quick experimentation as its USP.\n1. **TensorFlow**\n> TensorFlow is arguably one of the best deep learning frameworks and has been adopted by several giants such as Airbus, Twitter, IBM, and others mainly due to its highly flexible system architecture.\n1. **Caffe**\n> Caffe is a deep learning framework that is supported with interfaces like C, C++, Python, and MATLAB as well as the command line interface. It is well known for its speed and transposability and its applicability in modeling convolution neural networks (CNN).\n1. **Microsoft Cognitive Toolkit/CNTK**\n> Popularly known for easy training and the combination of popular model types across servers, the Microsoft Cognitive Toolkit (previously known as CNTK) is an open-source deep learning framework to train deep learning models. It performs efficient convolution neural networks and training for image, speech, and text-based data. Similar to Caffe, it is supported by interfaces such as Python, C++, and the command line interface.\n1. **Torch/PyTorch**\n> Torch is a scientific computing framework that offers wide support for machine learning algorithms. It is a Lua-based deep learning framework and is used widely amongst industry giants such as Facebook, Twitter, and Google. It employs CUDA along with C/C++ libraries for processing and was basically made to scale the production of building models and provide overall flexibility.\n1. **MXNet**\n> Designed specifically for the purpose of high efficiency, productivity, and flexibility, MXNet(pronounced as mix-net) is a deep learning framework supported by Python, R, C++, and Julia.\n1. **Chainer**\n>Highly powerful, dynamic and intuitive, Chainer is a Python-based deep learning framework for neural networks that is designed by the run strategy. Compared to other frameworks that use the same strategy, you can modify the networks during runtime, allowing you to execute arbitrary control flow statements.\n1. **Deeplearning4j**\n>Parallel training through iterative reduce, microservice architecture adaptation, and distributed CPUs and GPUs are some of the salient features of the Deeplearning4j deep learning framework. It is developed in Java as well as Scala and supports other JVM languages, too.\n1. **Theano**\n>Theano is beautiful. Without Theano, we wouldn’t have anywhere near the amount of deep learning libraries (specifically in Python) that we do today. In the same way that without NumPy, we couldn’t have SciPy, scikit-learn, and scikit-image, the same can be said about Theano and higher-level abstractions of deep learning.\n1. **Lasagne**\n>Lasagne is a lightweight library used to construct and train networks in Theano. The key term here is lightweight — it is not meant to be a heavy wrapper around Theano like Keras is. While this leads to your code being more verbose, it does free you from any restraints, while still giving you modular building blocks based on Theano.\n1. **PaddlePaddle**\n>PaddlePaddle (PArallel Distributed Deep LEarning) is an easy-to-use, efficient, flexible and scalable deep learning platform, which is originally developed by Baidu scientists and engineers for the purpose of applying deep learning to many products at Baidu.\n\n###### [Go to top](#top)"
    },
    {
      "metadata": {
        "_uuid": "c90e261f3b150e10aaec1f34ab3be768acf7aa25"
      },
      "cell_type": "markdown",
      "source": "<a id=\"52\"></a> <br>\n## 5-2 Import"
    },
    {
      "metadata": {
        "_cell_guid": "b1076dfc-b9ad-4769-8c92-a6c4dae69d19",
        "_kg_hide-input": true,
        "_uuid": "8f2839f25d086af736a60e9eeb907d3b93b6e0e5",
        "trusted": true
      },
      "cell_type": "code",
      "source": "from sklearn.model_selection import train_test_split\nfrom sklearn.metrics import classification_report\nfrom sklearn.metrics import confusion_matrix\nfrom sklearn.metrics import accuracy_score\nfrom wordcloud import WordCloud as wc\nfrom nltk.corpus import stopwords\nimport matplotlib.pylab as pylab\nimport matplotlib.pyplot as plt\nfrom pandas import get_dummies\nimport matplotlib as mpl\nimport seaborn as sns\nimport pandas as pd\nimport numpy as np\nimport matplotlib\nimport warnings\nimport sklearn\nimport string\nimport scipy\nimport numpy\nimport nltk\nimport json\nimport sys\nimport csv\nimport os",
      "execution_count": 1,
      "outputs": []
    },
    {
      "metadata": {
        "_uuid": "1c2beac253f7ddddcc2e1aa26dc850d5b87268f3"
      },
      "cell_type": "markdown",
      "source": "<a id=\"53\"></a> <br>\n## 5-3 version"
    },
    {
      "metadata": {
        "_kg_hide-input": true,
        "_uuid": "9ffe2f1e5995150c8138f9e98509c7525fb230b4",
        "trusted": true
      },
      "cell_type": "code",
      "source": "print('matplotlib: {}'.format(matplotlib.__version__))\nprint('sklearn: {}'.format(sklearn.__version__))\nprint('scipy: {}'.format(scipy.__version__))\nprint('seaborn: {}'.format(sns.__version__))\nprint('pandas: {}'.format(pd.__version__))\nprint('numpy: {}'.format(np.__version__))\nprint('Python: {}'.format(sys.version))\n",
      "execution_count": 2,
      "outputs": [
        {
          "output_type": "stream",
          "text": "matplotlib: 2.2.3\nsklearn: 0.20.2\nscipy: 1.1.0\nseaborn: 0.9.0\npandas: 0.23.4\nnumpy: 1.15.4\nPython: 3.6.6 |Anaconda, Inc.| (default, Oct  9 2018, 12:34:16) \n[GCC 7.3.0]\n",
          "name": "stdout"
        }
      ]
    },
    {
      "metadata": {
        "_uuid": "431bf889ae401c1089a13835356c13f2b6a06f6c"
      },
      "cell_type": "markdown",
      "source": "<a id=\"54\"></a> <br>\n## 5-4 Setup\n\nA few tiny adjustments for better **code readability**"
    },
    {
      "metadata": {
        "_uuid": "c5048b61a4837c8826551c8871609973ebbe3847"
      },
      "cell_type": "markdown",
      "source": "<a id=\"55\"></a> <br>\n## 5-5 NLTK\nIn this kernel, we use the NLTK library So, before we begin the next step, we will first introduce this library.\nThe Natural Language Toolkit (NLTK) is one of the leading platforms for working with human language data and Python, the module NLTK is used for natural language processing. NLTK is literally an acronym for Natural Language Toolkit. with it you can tokenizing words and sentences.\nNLTK is a library of Python that can mine (scrap and upload data) and analyse very large amounts of textual data using computational methods.\n<img src='https://arts.unimelb.edu.au/__data/assets/image/0005/2735348/nltk.jpg'>"
    },
    {
      "metadata": {
        "_kg_hide-input": true,
        "_uuid": "adadeb7a83d0bc711a779948197c40841b10f1ca",
        "trusted": true
      },
      "cell_type": "code",
      "source": "from nltk.tokenize import sent_tokenize, word_tokenize\n \ndata = \"All work and no play makes jack a dull boy, all work and no play\"\nprint(word_tokenize(data))",
      "execution_count": 3,
      "outputs": [
        {
          "output_type": "stream",
          "text": "['All', 'work', 'and', 'no', 'play', 'makes', 'jack', 'a', 'dull', 'boy', ',', 'all', 'work', 'and', 'no', 'play']\n",
          "name": "stdout"
        }
      ]
    },
    {
      "metadata": {
        "_uuid": "e49407d9fe96b86c9851fbd7065ebfb218281687"
      },
      "cell_type": "markdown",
      "source": "<a id=\"551\"></a> <br>\nAll of them are words except the comma. Special characters are treated as separate tokens.\n\n## 5-5-1 Tokenizing sentences\nThe same principle can be applied to sentences. Simply change the to sent_tokenize()\nWe have added two sentences to the variable data:"
    },
    {
      "metadata": {
        "_kg_hide-input": true,
        "_uuid": "ec9e6c715a1d49b2813c934fb4405ccec77884a1",
        "trusted": true
      },
      "cell_type": "code",
      "source": "from nltk.tokenize import sent_tokenize, word_tokenize\n \ndata = \"All work and no play makes jack dull boy. All work and no play makes jack a dull boy.\"\nprint(sent_tokenize(data))",
      "execution_count": 4,
      "outputs": [
        {
          "output_type": "stream",
          "text": "['All work and no play makes jack dull boy.', 'All work and no play makes jack a dull boy.']\n",
          "name": "stdout"
        }
      ]
    },
    {
      "metadata": {
        "_uuid": "75bb691fdb4982097ee8eb59ae930c1d81074afa"
      },
      "cell_type": "markdown",
      "source": "<a id=\"552\"></a> <br>\n## 5-5-2 NLTK and arrays\nIf you wish to you can store the words and sentences in arrays"
    },
    {
      "metadata": {
        "_kg_hide-input": true,
        "_uuid": "fde02d4189b0a52b7f919ac0fa0643d84ebacaf7",
        "trusted": true
      },
      "cell_type": "code",
      "source": "from nltk.tokenize import sent_tokenize, word_tokenize\n \ndata = \"All work and no play makes jack dull boy. All work and no play makes jack a dull boy.\"\n \nphrases = sent_tokenize(data)\nwords = word_tokenize(data)\n \nprint(phrases)\nprint(words)",
      "execution_count": 5,
      "outputs": [
        {
          "output_type": "stream",
          "text": "['All work and no play makes jack dull boy.', 'All work and no play makes jack a dull boy.']\n['All', 'work', 'and', 'no', 'play', 'makes', 'jack', 'dull', 'boy', '.', 'All', 'work', 'and', 'no', 'play', 'makes', 'jack', 'a', 'dull', 'boy', '.']\n",
          "name": "stdout"
        }
      ]
    },
    {
      "metadata": {
        "_uuid": "f7fad127cb8ed99cc063b98b3391645263737958"
      },
      "cell_type": "markdown",
      "source": "<a id=\"553\"></a> <br>\n## 5-5-3 NLTK stop words\nNatural language processing (nlp) is a research field that presents many challenges such as natural language understanding.\nText may contain stop words like ‘the’, ‘is’, ‘are’. Stop words can be filtered from the text to be processed. There is no universal list of stop words in nlp research, however the nltk module contains a list of stop words.\n\nIn this article you will learn how to remove stop words with the nltk module."
    },
    {
      "metadata": {
        "_kg_hide-input": true,
        "_uuid": "3357ec158943478d584c392bb7702fe7e6d4b355",
        "trusted": true
      },
      "cell_type": "code",
      "source": "from nltk.tokenize import sent_tokenize, word_tokenize\nfrom nltk.corpus import stopwords\n \ndata = \"All work and no play makes jack dull boy. All work and no play makes jack a dull boy.\"\nstopWords = set(stopwords.words('english'))\nwords = word_tokenize(data)\nwordsFiltered = []\n \nfor w in words:\n    if w not in stopWords:\n        wordsFiltered.append(w)\n \nprint(wordsFiltered)",
      "execution_count": 6,
      "outputs": [
        {
          "output_type": "stream",
          "text": "['All', 'work', 'play', 'makes', 'jack', 'dull', 'boy', '.', 'All', 'work', 'play', 'makes', 'jack', 'dull', 'boy', '.']\n",
          "name": "stdout"
        }
      ]
    },
    {
      "metadata": {
        "_uuid": "581a7ba2ce1ae5dae6c36d54f8999af838c7b80c"
      },
      "cell_type": "markdown",
      "source": "A module has been imported:\n\n"
    },
    {
      "metadata": {
        "_uuid": "2cb63648a5f138fe779744f0c52d570f30f84b13",
        "trusted": true,
        "_kg_hide-input": true
      },
      "cell_type": "code",
      "source": "from nltk.corpus import stopwords\n",
      "execution_count": 7,
      "outputs": []
    },
    {
      "metadata": {
        "_uuid": "e7528080723ea540729e78b6e135475a870a5618"
      },
      "cell_type": "markdown",
      "source": "We get a set of English stop words using the line:\n\n"
    },
    {
      "metadata": {
        "_uuid": "6fbe468728072fb1883e064d0c1e892259fb1c0c",
        "trusted": true,
        "_kg_hide-input": true
      },
      "cell_type": "code",
      "source": "stopWords = set(stopwords.words('english'))\n",
      "execution_count": 8,
      "outputs": []
    },
    {
      "metadata": {
        "_uuid": "43843cdaccbe961422631c13d982e13bf25607c6"
      },
      "cell_type": "markdown",
      "source": "The returned list stopWords contains 153 stop words on my computer.\nYou can view the length or contents of this array with the lines:"
    },
    {
      "metadata": {
        "_uuid": "53582f8f5ae2871e2cbba4542fc38965b61a5012",
        "trusted": true,
        "_kg_hide-input": true
      },
      "cell_type": "code",
      "source": "print(len(stopWords))\nprint(stopWords)",
      "execution_count": 9,
      "outputs": [
        {
          "output_type": "stream",
          "text": "179\n{'he', \"you're\", 'theirs', \"needn't\", 'as', 'over', 'below', 'won', \"doesn't\", 'under', 'wasn', 'any', 'herself', 'at', 'himself', 'had', 'only', 'yourselves', 'more', 'but', \"couldn't\", \"it's\", 'there', 'hasn', 'for', \"isn't\", 'should', 'am', 'whom', 'such', \"hadn't\", \"you've\", 's', 'be', 'those', 'having', 'all', 'that', 'an', 'now', 'again', \"weren't\", 'were', 'and', 've', 'up', 'few', 'where', 'll', 'them', 'when', 'is', 'doing', 'wouldn', \"shan't\", 'with', 'been', 'him', 'if', 'me', 'yours', 'what', 'itself', 'myself', \"mustn't\", 'too', 'couldn', \"she's\", 'down', \"hasn't\", 'once', 't', 'here', 'on', 'they', 'hers', 'their', 'a', 'same', 'shouldn', 'does', 'both', 'd', \"won't\", 'have', 'than', 'so', 'isn', \"you'd\", 'did', 'about', 'her', 'doesn', 'was', 'my', 'will', 'yourself', 'not', 'or', \"shouldn't\", 'don', 'haven', \"you'll\", 'off', 'until', 'further', 'didn', \"mightn't\", 'mightn', 'm', 'own', 'ma', 'can', 'each', \"wasn't\", 'are', 'we', 'how', 'very', 'no', 'has', 'ain', 'these', 'before', 'out', 'because', 'hadn', 'of', \"wouldn't\", 'after', 'themselves', 'then', 'our', 'its', 'you', 're', \"haven't\", 'shan', \"aren't\", 'ours', 'being', 'most', 'mustn', 'i', 'it', 'the', 'needn', 'who', 'aren', 'into', \"that'll\", \"didn't\", 'against', 'why', 'to', 'in', \"should've\", 'just', 'y', 'from', 'between', 'nor', 'by', 'through', 'weren', 'while', 'some', 'this', 'o', 'your', 'she', 'ourselves', 'during', 'his', 'which', 'do', \"don't\", 'other', 'above'}\n",
          "name": "stdout"
        }
      ]
    },
    {
      "metadata": {
        "_uuid": "d25fed9ed1fd0016cea56de8e71b010a0d3176c3"
      },
      "cell_type": "markdown",
      "source": "We create a new list called wordsFiltered which contains all words which are not stop words.\nTo create it we iterate over the list of words and only add it if its not in the stopWords list."
    },
    {
      "metadata": {
        "_uuid": "3b28823a9862bb263183c6d62a4e91286bfe8d30",
        "trusted": true,
        "_kg_hide-input": true
      },
      "cell_type": "code",
      "source": "for w in words:\n    if w not in stopWords:\n        wordsFiltered.append(w)",
      "execution_count": 10,
      "outputs": []
    },
    {
      "metadata": {
        "_uuid": "8546a903a5b3916bca4feb96116dd00db1fc51c0"
      },
      "cell_type": "markdown",
      "source": "<a id=\"554\"></a> <br>\n## 5-5-4 NLTK – stemming\nStart by defining some words:"
    },
    {
      "metadata": {
        "_uuid": "f3a8e1427f235183fc5b9656a15a1cdb9befb55b",
        "trusted": true,
        "_kg_hide-input": true
      },
      "cell_type": "code",
      "source": "words = [\"game\",\"gaming\",\"gamed\",\"games\"]\n",
      "execution_count": 11,
      "outputs": []
    },
    {
      "metadata": {
        "_uuid": "4a6ea3737dbb032d08c896f24cc6555b7b516274",
        "trusted": true,
        "_kg_hide-input": true
      },
      "cell_type": "code",
      "source": "from nltk.stem import PorterStemmer\nfrom nltk.tokenize import sent_tokenize, word_tokenize",
      "execution_count": 12,
      "outputs": []
    },
    {
      "metadata": {
        "_uuid": "4bd4f0bc00227a77cfe734575ebfa7d124d333d4"
      },
      "cell_type": "markdown",
      "source": "And stem the words in the list using:"
    },
    {
      "metadata": {
        "_uuid": "12b5f99ca390ed21e68862e5eb5968d31e3858ef",
        "trusted": true,
        "_kg_hide-input": true
      },
      "cell_type": "code",
      "source": "from nltk.stem import PorterStemmer\nfrom nltk.tokenize import sent_tokenize, word_tokenize\n\nwords = [\"game\",\"gaming\",\"gamed\",\"games\"]\nps = PorterStemmer()\n \nfor word in words:\n    print(ps.stem(word))",
      "execution_count": 13,
      "outputs": [
        {
          "output_type": "stream",
          "text": "game\ngame\ngame\ngame\n",
          "name": "stdout"
        }
      ]
    },
    {
      "metadata": {
        "_uuid": "b0af11da2319b2be2643ad0003ebbc207067dc34"
      },
      "cell_type": "markdown",
      "source": "<a id=\"555\"></a> <br>\n## 5-5-5  NLTK speech tagging\nThe module NLTK can automatically tag speech.\nGiven a sentence or paragraph, it can label words such as verbs, nouns and so on.\n\nNLTK – speech tagging example\nThe example below automatically tags words with a corresponding class."
    },
    {
      "metadata": {
        "_uuid": "fe586131bec724c1901a441b56753c1d47562483",
        "trusted": true,
        "_kg_hide-input": true
      },
      "cell_type": "code",
      "source": "import nltk\nfrom nltk.tokenize import PunktSentenceTokenizer\n \ndocument = 'Whether you\\'re new to programming or an experienced developer, it\\'s easy to learn and use Python.'\nsentences = nltk.sent_tokenize(document)   \nfor sent in sentences:\n    print(nltk.pos_tag(nltk.word_tokenize(sent)))",
      "execution_count": 14,
      "outputs": [
        {
          "output_type": "stream",
          "text": "[('Whether', 'IN'), ('you', 'PRP'), (\"'re\", 'VBP'), ('new', 'JJ'), ('to', 'TO'), ('programming', 'VBG'), ('or', 'CC'), ('an', 'DT'), ('experienced', 'JJ'), ('developer', 'NN'), (',', ','), ('it', 'PRP'), (\"'s\", 'VBZ'), ('easy', 'JJ'), ('to', 'TO'), ('learn', 'VB'), ('and', 'CC'), ('use', 'VB'), ('Python', 'NNP'), ('.', '.')]\n",
          "name": "stdout"
        }
      ]
    },
    {
      "metadata": {
        "_uuid": "22e469c3b880de5c4f00a609192e74d97d22436a"
      },
      "cell_type": "markdown",
      "source": "We can filter this data based on the type of word:"
    },
    {
      "metadata": {
        "_uuid": "8edca0d46e25f4d8dba85c454bb70299b7c1e112",
        "trusted": true,
        "_kg_hide-input": true
      },
      "cell_type": "code",
      "source": "import nltk\nfrom nltk.corpus import state_union\nfrom nltk.tokenize import PunktSentenceTokenizer\n \ndocument = 'Today the Netherlands celebrates King\\'s Day. To honor this tradition, the Dutch embassy in San Francisco invited me to'\nsentences = nltk.sent_tokenize(document)   \n \ndata = []\nfor sent in sentences:\n    data = data + nltk.pos_tag(nltk.word_tokenize(sent))\n \nfor word in data: \n    if 'NNP' in word[1]: \n        print(word)",
      "execution_count": 15,
      "outputs": [
        {
          "output_type": "stream",
          "text": "('Netherlands', 'NNP')\n('King', 'NNP')\n('Day', 'NNP')\n('San', 'NNP')\n('Francisco', 'NNP')\n",
          "name": "stdout"
        }
      ]
    },
    {
      "metadata": {
        "_kg_hide-input": true,
        "_uuid": "2a498652935827a033d0bcb7df1d28c068f44a25",
        "trusted": true
      },
      "cell_type": "code",
      "source": "sns.set(style='white', context='notebook', palette='deep')\npylab.rcParams['figure.figsize'] = 12,8\nwarnings.filterwarnings('ignore')\nmpl.style.use('ggplot')\nsns.set_style('white')\n%matplotlib inline",
      "execution_count": 16,
      "outputs": []
    },
    {
      "metadata": {
        "_uuid": "aafdf15f9c86416ee36ca83d198bb2f212ba9208"
      },
      "cell_type": "markdown",
      "source": "<a id=\"556\"></a> <br>\n## 5-5-6 Natural Language Processing – prediction\nWe can use natural language processing to make predictions. Example: Given a product review, a computer can predict if its positive or negative based on the text. In this article you will learn how to make a prediction program based on natural language processing."
    },
    {
      "metadata": {
        "_uuid": "38cc515716212f2236fc7aa8fafbe93b40e2561a"
      },
      "cell_type": "markdown",
      "source": "<a id=\"55561\"></a> <br>\n### 5-5-5-6-1  nlp prediction example\nGiven a name, the classifier will predict if it’s a male or female.\n\nTo create our analysis program, we have several steps:\n\n1. Data preparation\n1. Feature extraction\n1. Training\n1. Prediction\n1. Data preparation\nThe first step is to prepare data. We use the names set included with nltk."
    },
    {
      "metadata": {
        "trusted": true,
        "_uuid": "a10a4b67460c9e0779234416316e5a163389a017"
      },
      "cell_type": "code",
      "source": "from nltk.corpus import names\n \n# Load data and training \nnames = ([(name, 'male') for name in names.words('male.txt')] + \n\t [(name, 'female') for name in names.words('female.txt')])",
      "execution_count": 17,
      "outputs": []
    },
    {
      "metadata": {
        "_uuid": "b4b2604b6496cf2cd03d7fef102fbdbf8e6dcd4b"
      },
      "cell_type": "markdown",
      "source": "This dataset is simply a collection of tuples. To give you an idea of what the dataset looks like:"
    },
    {
      "metadata": {
        "trusted": true,
        "_uuid": "77ab1eabc4089ac1154bba9a822374480dba6ab7",
        "_kg_hide-input": true
      },
      "cell_type": "code",
      "source": "[(u'Aaron', 'male'), (u'Abbey', 'male'), (u'Abbie', 'male')]\n[(u'Zorana', 'female'), (u'Zorina', 'female'), (u'Zorine', 'female')]",
      "execution_count": 18,
      "outputs": [
        {
          "output_type": "execute_result",
          "execution_count": 18,
          "data": {
            "text/plain": "[('Zorana', 'female'), ('Zorina', 'female'), ('Zorine', 'female')]"
          },
          "metadata": {}
        }
      ]
    },
    {
      "metadata": {
        "_uuid": "c9cf2b995e1bc74a682e78fd301266f115c5577d"
      },
      "cell_type": "markdown",
      "source": "You can define your own set of tuples if you wish, its simply a list containing many tuples.\n\nFeature extraction\nBased on the dataset, we prepare our feature. The feature we will use is the last letter of a name:\nWe define a featureset using:"
    },
    {
      "metadata": {
        "_uuid": "107b843e7e5d63f2d21b76919b26d6ff9514a6f0"
      },
      "cell_type": "markdown",
      "source": "featuresets = [(gender_features(n), g) for (n,g) in names]\nand the features (last letters) are extracted using:"
    },
    {
      "metadata": {
        "trusted": true,
        "_uuid": "c3b127d6025c488eae76ce93ffce43536bdfea78"
      },
      "cell_type": "code",
      "source": "def gender_features(word): \n    return {'last_letter': word[-1]}",
      "execution_count": 19,
      "outputs": []
    },
    {
      "metadata": {
        "_uuid": "e889ae78839261ae4d419996a2c7c315ac9b4186"
      },
      "cell_type": "markdown",
      "source": "Training and prediction\nWe train and predict using:"
    },
    {
      "metadata": {
        "trusted": true,
        "_uuid": "ed10f9ce265b40d77ab52a9bfe0e391d95ad1c75",
        "_kg_hide-input": true
      },
      "cell_type": "code",
      "source": "import nltk.classify.util\nfrom nltk.classify import NaiveBayesClassifier\nfrom nltk.corpus import names\n \ndef gender_features(word): \n    return {'last_letter': word[-1]} \n \n# Load data and training \nnames = ([(name, 'male') for name in names.words('male.txt')] + \n\t [(name, 'female') for name in names.words('female.txt')])\n \nfeaturesets = [(gender_features(n), g) for (n,g) in names] \ntrain_set = featuresets\nclassifier = nltk.NaiveBayesClassifier.train(train_set) \n \n# Predict\nprint(classifier.classify(gender_features('Frank')))",
      "execution_count": 20,
      "outputs": [
        {
          "output_type": "stream",
          "text": "male\n",
          "name": "stdout"
        }
      ]
    },
    {
      "metadata": {
        "_uuid": "375a50f4fe205a7b62c9ccb1aaec7cab4ad7ed09"
      },
      "cell_type": "markdown",
      "source": "If you want to give the name during runtime, change the last line to:\n"
    },
    {
      "metadata": {
        "trusted": true,
        "_uuid": "3ff919bd79c13fda55e929f2bf4e3dd874253414",
        "_kg_hide-input": true
      },
      "cell_type": "code",
      "source": "# Predict, you can change name\nname = 'Sarah'\nprint(classifier.classify(gender_features(name)))",
      "execution_count": 21,
      "outputs": [
        {
          "output_type": "stream",
          "text": "female\n",
          "name": "stdout"
        }
      ]
    },
    {
      "metadata": {
        "_uuid": "04ff1a533119d589baee777c21194a951168b0c7"
      },
      "cell_type": "markdown",
      "source": "<a id=\"6\"></a> <br>\n## 6- EDA\n In this section, you'll learn how to use graphical and numerical techniques to begin uncovering the structure of your data. \n \n* Which variables suggest interesting relationships?\n* Which observations are unusual?\n* Analysis of the features!\n\nBy the end of the section, you'll be able to answer these questions and more, while generating graphics that are both insightful and beautiful.  then We will review analytical and statistical operations:\n\n1. Data Collection\n1. Visualization\n1. Data Cleaning\n1. Data Preprocessing\n<img src=\"http://s9.picofile.com/file/8338476134/EDA.png\">\n\n ###### [Go to top](#top)"
    },
    {
      "metadata": {
        "_uuid": "cedecea930b278f86292367cc28d2996a235a169"
      },
      "cell_type": "markdown",
      "source": "<a id=\"61\"></a> <br>\n## 6-1 Data Collection\n**Data collection** is the process of gathering and measuring data, information or any variables of interest in a standardized and established manner that enables the collector to answer or test hypothesis and evaluate outcomes of the particular collection.[techopedia]\n\nI start Collection Data by the training and testing datasets into **Pandas DataFrames**.\n###### [Go to top](#top)"
    },
    {
      "metadata": {
        "_kg_hide-input": true,
        "_uuid": "9269ae851b744856bce56840637030a16a5877e1",
        "trusted": true
      },
      "cell_type": "code",
      "source": "train = pd.read_csv('../input/train.csv')\ntest = pd.read_csv('../input/test.csv')",
      "execution_count": 22,
      "outputs": []
    },
    {
      "metadata": {
        "_uuid": "58ed9c838069f54de5cf90b20a774c3e236149b3"
      },
      "cell_type": "markdown",
      "source": "**<< Note 1 >>**\n\n* Each **row** is an observation (also known as : sample, example, instance, record).\n* Each **column** is a feature (also known as: Predictor, attribute, Independent Variable, input, regressor, Covariate).\n###### [Go to top](#top)"
    },
    {
      "metadata": {
        "_uuid": "4708d70e39d1ae861bbf34411cf03d07f261fceb",
        "trusted": true
      },
      "cell_type": "code",
      "source": "train.sample(1) ",
      "execution_count": 23,
      "outputs": [
        {
          "output_type": "execute_result",
          "execution_count": 23,
          "data": {
            "text/plain": "                         qid  ...   target\n454870  591d7749b3090260088a  ...        0\n\n[1 rows x 3 columns]",
            "text/html": "<div>\n<style scoped>\n    .dataframe tbody tr th:only-of-type {\n        vertical-align: middle;\n    }\n\n    .dataframe tbody tr th {\n        vertical-align: top;\n    }\n\n    .dataframe thead th {\n        text-align: right;\n    }\n</style>\n<table border=\"1\" class=\"dataframe\">\n  <thead>\n    <tr style=\"text-align: right;\">\n      <th></th>\n      <th>qid</th>\n      <th>question_text</th>\n      <th>target</th>\n    </tr>\n  </thead>\n  <tbody>\n    <tr>\n      <th>454870</th>\n      <td>591d7749b3090260088a</td>\n      <td>How do I improve on my intuition skills?</td>\n      <td>0</td>\n    </tr>\n  </tbody>\n</table>\n</div>"
          },
          "metadata": {}
        }
      ]
    },
    {
      "metadata": {
        "_uuid": "f8e7a84ab982504d7263b1812fa66bba78bddbdc",
        "trusted": true,
        "_kg_hide-input": true
      },
      "cell_type": "code",
      "source": "test.sample(1) ",
      "execution_count": 24,
      "outputs": [
        {
          "output_type": "execute_result",
          "execution_count": 24,
          "data": {
            "text/plain": "                        qid                                      question_text\n17157  4d93a4af028747e71555  How muck oil should I put in my 02 Yamaha 4 st...",
            "text/html": "<div>\n<style scoped>\n    .dataframe tbody tr th:only-of-type {\n        vertical-align: middle;\n    }\n\n    .dataframe tbody tr th {\n        vertical-align: top;\n    }\n\n    .dataframe thead th {\n        text-align: right;\n    }\n</style>\n<table border=\"1\" class=\"dataframe\">\n  <thead>\n    <tr style=\"text-align: right;\">\n      <th></th>\n      <th>qid</th>\n      <th>question_text</th>\n    </tr>\n  </thead>\n  <tbody>\n    <tr>\n      <th>17157</th>\n      <td>4d93a4af028747e71555</td>\n      <td>How muck oil should I put in my 02 Yamaha 4 st...</td>\n    </tr>\n  </tbody>\n</table>\n</div>"
          },
          "metadata": {}
        }
      ]
    },
    {
      "metadata": {
        "_uuid": "3483fbc1e932d9f387703a796248963e77cefa1d"
      },
      "cell_type": "markdown",
      "source": "Or you can use others command to explorer dataset, such as "
    },
    {
      "metadata": {
        "_uuid": "08a94b16129d4c231b64d4691374e18aa80f1d80",
        "trusted": true,
        "_kg_hide-input": true
      },
      "cell_type": "code",
      "source": "train.tail(1)",
      "execution_count": 25,
      "outputs": [
        {
          "output_type": "execute_result",
          "execution_count": 25,
          "data": {
            "text/plain": "                          qid  ...   target\n1306121  ffffed09fedb5088744a  ...        0\n\n[1 rows x 3 columns]",
            "text/html": "<div>\n<style scoped>\n    .dataframe tbody tr th:only-of-type {\n        vertical-align: middle;\n    }\n\n    .dataframe tbody tr th {\n        vertical-align: top;\n    }\n\n    .dataframe thead th {\n        text-align: right;\n    }\n</style>\n<table border=\"1\" class=\"dataframe\">\n  <thead>\n    <tr style=\"text-align: right;\">\n      <th></th>\n      <th>qid</th>\n      <th>question_text</th>\n      <th>target</th>\n    </tr>\n  </thead>\n  <tbody>\n    <tr>\n      <th>1306121</th>\n      <td>ffffed09fedb5088744a</td>\n      <td>Who wins in a battle between a Wolverine and a...</td>\n      <td>0</td>\n    </tr>\n  </tbody>\n</table>\n</div>"
          },
          "metadata": {}
        }
      ]
    },
    {
      "metadata": {
        "_uuid": "581b90e6a869c3793472c7edd59091d6d6342fb2"
      },
      "cell_type": "markdown",
      "source": "<a id=\"611\"></a> <br>\n## 6-1-1 Features\nFeatures can be from following types:\n* numeric\n* categorical\n* ordinal\n* datetime\n* coordinates\n\nFind the type of features in **Qoura dataset**?!\n\nFor getting some information about the dataset you can use **info()** command."
    },
    {
      "metadata": {
        "_kg_hide-input": true,
        "_uuid": "ca840f02925751186f87e402fcb5f637ab1ab8a0",
        "trusted": true
      },
      "cell_type": "code",
      "source": "print(train.info())",
      "execution_count": 26,
      "outputs": [
        {
          "output_type": "stream",
          "text": "<class 'pandas.core.frame.DataFrame'>\nRangeIndex: 1306122 entries, 0 to 1306121\nData columns (total 3 columns):\nqid              1306122 non-null object\nquestion_text    1306122 non-null object\ntarget           1306122 non-null int64\ndtypes: int64(1), object(2)\nmemory usage: 29.9+ MB\nNone\n",
          "name": "stdout"
        }
      ]
    },
    {
      "metadata": {
        "_uuid": "4cbcf76344a6e3c8e841ccf1f43bf00d040a06a1",
        "trusted": true,
        "_kg_hide-input": true
      },
      "cell_type": "code",
      "source": "print(test.info())",
      "execution_count": 27,
      "outputs": [
        {
          "output_type": "stream",
          "text": "<class 'pandas.core.frame.DataFrame'>\nRangeIndex: 56370 entries, 0 to 56369\nData columns (total 2 columns):\nqid              56370 non-null object\nquestion_text    56370 non-null object\ndtypes: object(2)\nmemory usage: 880.9+ KB\nNone\n",
          "name": "stdout"
        }
      ]
    },
    {
      "metadata": {
        "_uuid": "73ab30f86273b590a51fc363d9bf78c2709558fa"
      },
      "cell_type": "markdown",
      "source": "<a id=\"612\"></a> <br>\n## 6-1-2 Explorer Dataset\n1- Dimensions of the dataset.\n\n2- Peek at the data itself.\n\n3- Statistical summary of all attributes.\n\n4- Breakdown of the data by the class variable.\n\nDon’t worry, each look at the data is **one command**. These are useful commands that you can use again and again on future projects.\n###### [Go to top](#top)"
    },
    {
      "metadata": {
        "_kg_hide-input": true,
        "_uuid": "4b45251be7be77333051fe738639104ae1005fa5",
        "trusted": true
      },
      "cell_type": "code",
      "source": "# shape for train and test\nprint('Shape of train:',train.shape)\nprint('Shape of test:',test.shape)",
      "execution_count": 28,
      "outputs": [
        {
          "output_type": "stream",
          "text": "Shape of train: (1306122, 3)\nShape of test: (56370, 2)\n",
          "name": "stdout"
        }
      ]
    },
    {
      "metadata": {
        "_kg_hide-input": true,
        "_uuid": "c64e9d3e0bf394fb833de94a0fc5c34f69fce24c",
        "trusted": true
      },
      "cell_type": "code",
      "source": "#columns*rows\ntrain.size",
      "execution_count": 29,
      "outputs": [
        {
          "output_type": "execute_result",
          "execution_count": 29,
          "data": {
            "text/plain": "3918366"
          },
          "metadata": {}
        }
      ]
    },
    {
      "metadata": {
        "_uuid": "7b5fd1034cd591ebd29fba1c77d342ec2b408d13"
      },
      "cell_type": "markdown",
      "source": "After loading the data via **pandas**, we should checkout what the content is, description and via the following:"
    },
    {
      "metadata": {
        "_kg_hide-input": true,
        "_uuid": "edd043f8feb76cfe51b79785302ca4936ceb7b51",
        "trusted": true
      },
      "cell_type": "code",
      "source": "type(train)",
      "execution_count": 30,
      "outputs": [
        {
          "output_type": "execute_result",
          "execution_count": 30,
          "data": {
            "text/plain": "pandas.core.frame.DataFrame"
          },
          "metadata": {}
        }
      ]
    },
    {
      "metadata": {
        "_kg_hide-input": true,
        "_uuid": "edd043f8feb76cfe51b79785302ca4936ceb7b51",
        "trusted": true
      },
      "cell_type": "code",
      "source": "type(test)",
      "execution_count": 31,
      "outputs": [
        {
          "output_type": "execute_result",
          "execution_count": 31,
          "data": {
            "text/plain": "pandas.core.frame.DataFrame"
          },
          "metadata": {}
        }
      ]
    },
    {
      "metadata": {
        "_uuid": "1b8b6f0c962a59e5258e74ed9e740a4aaf7c8113",
        "trusted": true,
        "_kg_hide-input": true
      },
      "cell_type": "code",
      "source": "train.describe()",
      "execution_count": 32,
      "outputs": [
        {
          "output_type": "execute_result",
          "execution_count": 32,
          "data": {
            "text/plain": "             target\ncount  1.306122e+06\nmean   6.187018e-02\nstd    2.409197e-01\nmin    0.000000e+00\n25%    0.000000e+00\n50%    0.000000e+00\n75%    0.000000e+00\nmax    1.000000e+00",
            "text/html": "<div>\n<style scoped>\n    .dataframe tbody tr th:only-of-type {\n        vertical-align: middle;\n    }\n\n    .dataframe tbody tr th {\n        vertical-align: top;\n    }\n\n    .dataframe thead th {\n        text-align: right;\n    }\n</style>\n<table border=\"1\" class=\"dataframe\">\n  <thead>\n    <tr style=\"text-align: right;\">\n      <th></th>\n      <th>target</th>\n    </tr>\n  </thead>\n  <tbody>\n    <tr>\n      <th>count</th>\n      <td>1.306122e+06</td>\n    </tr>\n    <tr>\n      <th>mean</th>\n      <td>6.187018e-02</td>\n    </tr>\n    <tr>\n      <th>std</th>\n      <td>2.409197e-01</td>\n    </tr>\n    <tr>\n      <th>min</th>\n      <td>0.000000e+00</td>\n    </tr>\n    <tr>\n      <th>25%</th>\n      <td>0.000000e+00</td>\n    </tr>\n    <tr>\n      <th>50%</th>\n      <td>0.000000e+00</td>\n    </tr>\n    <tr>\n      <th>75%</th>\n      <td>0.000000e+00</td>\n    </tr>\n    <tr>\n      <th>max</th>\n      <td>1.000000e+00</td>\n    </tr>\n  </tbody>\n</table>\n</div>"
          },
          "metadata": {}
        }
      ]
    },
    {
      "metadata": {
        "_uuid": "2c288c3dc8656a872a8529368812546e434d3a22"
      },
      "cell_type": "markdown",
      "source": "To pop up 5 random rows from the data set, we can use **sample(5)**  function and find the type of features."
    },
    {
      "metadata": {
        "_uuid": "09eb18d1fcf4a2b73ba2f5ddce99dfa521681140",
        "trusted": true,
        "_kg_hide-input": true
      },
      "cell_type": "code",
      "source": "train.sample(5) ",
      "execution_count": 33,
      "outputs": [
        {
          "output_type": "execute_result",
          "execution_count": 33,
          "data": {
            "text/plain": "                         qid  ...   target\n5103    00fe1332b565c7660f4e  ...        1\n685475  8641ad3206c8afd48c67  ...        0\n353029  4530747d795b67edf387  ...        1\n566897  6f1296cf4a349667739a  ...        0\n150594  1d7277886aa9f4415b9f  ...        0\n\n[5 rows x 3 columns]",
            "text/html": "<div>\n<style scoped>\n    .dataframe tbody tr th:only-of-type {\n        vertical-align: middle;\n    }\n\n    .dataframe tbody tr th {\n        vertical-align: top;\n    }\n\n    .dataframe thead th {\n        text-align: right;\n    }\n</style>\n<table border=\"1\" class=\"dataframe\">\n  <thead>\n    <tr style=\"text-align: right;\">\n      <th></th>\n      <th>qid</th>\n      <th>question_text</th>\n      <th>target</th>\n    </tr>\n  </thead>\n  <tbody>\n    <tr>\n      <th>5103</th>\n      <td>00fe1332b565c7660f4e</td>\n      <td>Does the Chinese nationalism disgust you?</td>\n      <td>1</td>\n    </tr>\n    <tr>\n      <th>685475</th>\n      <td>8641ad3206c8afd48c67</td>\n      <td>Do men try to imitate porn?</td>\n      <td>0</td>\n    </tr>\n    <tr>\n      <th>353029</th>\n      <td>4530747d795b67edf387</td>\n      <td>Should all the anti-PAkistan muhajirs be hange...</td>\n      <td>1</td>\n    </tr>\n    <tr>\n      <th>566897</th>\n      <td>6f1296cf4a349667739a</td>\n      <td>How are underground cables protected from digg...</td>\n      <td>0</td>\n    </tr>\n    <tr>\n      <th>150594</th>\n      <td>1d7277886aa9f4415b9f</td>\n      <td>What was Italian clothing like during the 14th...</td>\n      <td>0</td>\n    </tr>\n  </tbody>\n</table>\n</div>"
          },
          "metadata": {}
        }
      ]
    },
    {
      "metadata": {
        "_uuid": "8280749a19af32869978c61941d1dea306632d71"
      },
      "cell_type": "markdown",
      "source": "<a id=\"62\"></a> <br>\n## 6-2 Data Cleaning\nWhen dealing with real-world data, dirty data is the norm rather than the exception. We continuously need to predict correct values, impute missing ones, and find links between various data artefacts such as schemas and records. We need to stop treating data cleaning as a piecemeal exercise (resolving different types of errors in isolation), and instead leverage all signals and resources (such as constraints, available statistics, and dictionaries) to accurately predict corrective actions.\n\nThe primary goal of data cleaning is to detect and remove errors and **anomalies** to increase the value of data in analytics and decision making. While it has been the focus of many researchers for several years, individual problems have been addressed separately. These include missing value imputation, outliers detection, transformations, integrity constraints violations detection and repair, consistent query answering, deduplication, and many other related problems such as profiling and constraints mining.[4]\n###### [Go to top](#top)"
    },
    {
      "metadata": {
        "_uuid": "a6315bf510cecb907b2d23aad25faf6ccad32ac4"
      },
      "cell_type": "markdown",
      "source": "How many NA elements in every column!!\n\nGood news, it is Zero!\n\nTo check out how many null info are on the dataset, we can use **isnull().sum()**."
    },
    {
      "metadata": {
        "_kg_hide-input": true,
        "_uuid": "675f72fb58d83c527f71819e71ed8e17f81126f5",
        "trusted": true
      },
      "cell_type": "code",
      "source": "train.isnull().sum()",
      "execution_count": 34,
      "outputs": [
        {
          "output_type": "execute_result",
          "execution_count": 34,
          "data": {
            "text/plain": "qid              0\nquestion_text    0\ntarget           0\ndtype: int64"
          },
          "metadata": {}
        }
      ]
    },
    {
      "metadata": {
        "_uuid": "5faa6528c6667060c05268757ff46e211b4fea3f"
      },
      "cell_type": "markdown",
      "source": "But if we had , we can just use **dropna()**(be careful sometimes you should not do this!)"
    },
    {
      "metadata": {
        "_kg_hide-input": true,
        "_uuid": "e8e124ca20643ad307d9bfdc34328d548c6ddcbc",
        "trusted": true
      },
      "cell_type": "code",
      "source": "# remove rows that have NA's\nprint('Before Droping',train.shape)\ntrain = train.dropna()\nprint('After Droping',train.shape)",
      "execution_count": 35,
      "outputs": [
        {
          "output_type": "stream",
          "text": "Before Droping (1306122, 3)\nAfter Droping (1306122, 3)\n",
          "name": "stdout"
        }
      ]
    },
    {
      "metadata": {
        "_uuid": "277e1998627d6a3ddeff4e913a6b8c3dc81dec96"
      },
      "cell_type": "markdown",
      "source": "\nWe can get a quick idea of how many instances (rows) and how many attributes (columns) the data contains with the shape property."
    },
    {
      "metadata": {
        "_uuid": "c2f1eaf0b6dfdc7cc4dace04614e99ed56425d00"
      },
      "cell_type": "markdown",
      "source": "To print dataset **columns**, we can use columns atribute."
    },
    {
      "metadata": {
        "_uuid": "909d61b33ec06249d0842e6115597bbacf21163f",
        "trusted": true,
        "_kg_hide-input": true
      },
      "cell_type": "code",
      "source": "train.columns",
      "execution_count": 36,
      "outputs": [
        {
          "output_type": "execute_result",
          "execution_count": 36,
          "data": {
            "text/plain": "Index(['qid', 'question_text', 'target'], dtype='object')"
          },
          "metadata": {}
        }
      ]
    },
    {
      "metadata": {
        "_uuid": "3458838205be4c7fbff88e95ef69934e13e2199b"
      },
      "cell_type": "markdown",
      "source": "You see number of unique item for Target  with command below:"
    },
    {
      "metadata": {
        "_kg_hide-input": true,
        "_uuid": "c7937700664991b29bdb0b3f04942c59498da760",
        "trusted": true
      },
      "cell_type": "code",
      "source": "train_target = train['target'].values\n\nnp.unique(train_target)",
      "execution_count": 37,
      "outputs": [
        {
          "output_type": "execute_result",
          "execution_count": 37,
          "data": {
            "text/plain": "array([0, 1])"
          },
          "metadata": {}
        }
      ]
    },
    {
      "metadata": {
        "_uuid": "d824cb29e135dc5ae98964e71ec0adc0e05ebd43"
      },
      "cell_type": "markdown",
      "source": "YES, quora problem is a **binary classification**! :)"
    },
    {
      "metadata": {
        "_uuid": "ae08b544a8d4202c7d0a47ec83d685e81c91a66d"
      },
      "cell_type": "markdown",
      "source": "To check the first 5 rows of the data set, we can use head(5)."
    },
    {
      "metadata": {
        "_kg_hide-input": true,
        "_uuid": "5899889553c3416b27e93efceddb106eb71f5156",
        "trusted": true
      },
      "cell_type": "code",
      "source": "train.head(5) ",
      "execution_count": 38,
      "outputs": [
        {
          "output_type": "execute_result",
          "execution_count": 38,
          "data": {
            "text/plain": "                    qid  ...   target\n0  00002165364db923c7e6  ...        0\n1  000032939017120e6e44  ...        0\n2  0000412ca6e4628ce2cf  ...        0\n3  000042bf85aa498cd78e  ...        0\n4  0000455dfa3e01eae3af  ...        0\n\n[5 rows x 3 columns]",
            "text/html": "<div>\n<style scoped>\n    .dataframe tbody tr th:only-of-type {\n        vertical-align: middle;\n    }\n\n    .dataframe tbody tr th {\n        vertical-align: top;\n    }\n\n    .dataframe thead th {\n        text-align: right;\n    }\n</style>\n<table border=\"1\" class=\"dataframe\">\n  <thead>\n    <tr style=\"text-align: right;\">\n      <th></th>\n      <th>qid</th>\n      <th>question_text</th>\n      <th>target</th>\n    </tr>\n  </thead>\n  <tbody>\n    <tr>\n      <th>0</th>\n      <td>00002165364db923c7e6</td>\n      <td>How did Quebec nationalists see their province...</td>\n      <td>0</td>\n    </tr>\n    <tr>\n      <th>1</th>\n      <td>000032939017120e6e44</td>\n      <td>Do you have an adopted dog, how would you enco...</td>\n      <td>0</td>\n    </tr>\n    <tr>\n      <th>2</th>\n      <td>0000412ca6e4628ce2cf</td>\n      <td>Why does velocity affect time? Does velocity a...</td>\n      <td>0</td>\n    </tr>\n    <tr>\n      <th>3</th>\n      <td>000042bf85aa498cd78e</td>\n      <td>How did Otto von Guericke used the Magdeburg h...</td>\n      <td>0</td>\n    </tr>\n    <tr>\n      <th>4</th>\n      <td>0000455dfa3e01eae3af</td>\n      <td>Can I convert montra helicon D to a mountain b...</td>\n      <td>0</td>\n    </tr>\n  </tbody>\n</table>\n</div>"
          },
          "metadata": {}
        }
      ]
    },
    {
      "metadata": {
        "_uuid": "1150b6ac3d82562aefd5c64f9f01accee5eace4d"
      },
      "cell_type": "markdown",
      "source": "Or to check out last 5 row of the data set, we use tail() function."
    },
    {
      "metadata": {
        "_uuid": "79339442ff1f53ae1054d794337b9541295d3305",
        "trusted": true,
        "_kg_hide-input": true
      },
      "cell_type": "code",
      "source": "train.tail() ",
      "execution_count": 39,
      "outputs": [
        {
          "output_type": "execute_result",
          "execution_count": 39,
          "data": {
            "text/plain": "                          qid  ...   target\n1306117  ffffcc4e2331aaf1e41e  ...        0\n1306118  ffffd431801e5a2f4861  ...        0\n1306119  ffffd48fb36b63db010c  ...        0\n1306120  ffffec519fa37cf60c78  ...        0\n1306121  ffffed09fedb5088744a  ...        0\n\n[5 rows x 3 columns]",
            "text/html": "<div>\n<style scoped>\n    .dataframe tbody tr th:only-of-type {\n        vertical-align: middle;\n    }\n\n    .dataframe tbody tr th {\n        vertical-align: top;\n    }\n\n    .dataframe thead th {\n        text-align: right;\n    }\n</style>\n<table border=\"1\" class=\"dataframe\">\n  <thead>\n    <tr style=\"text-align: right;\">\n      <th></th>\n      <th>qid</th>\n      <th>question_text</th>\n      <th>target</th>\n    </tr>\n  </thead>\n  <tbody>\n    <tr>\n      <th>1306117</th>\n      <td>ffffcc4e2331aaf1e41e</td>\n      <td>What other technical skills do you need as a c...</td>\n      <td>0</td>\n    </tr>\n    <tr>\n      <th>1306118</th>\n      <td>ffffd431801e5a2f4861</td>\n      <td>Does MS in ECE have good job prospects in USA ...</td>\n      <td>0</td>\n    </tr>\n    <tr>\n      <th>1306119</th>\n      <td>ffffd48fb36b63db010c</td>\n      <td>Is foam insulation toxic?</td>\n      <td>0</td>\n    </tr>\n    <tr>\n      <th>1306120</th>\n      <td>ffffec519fa37cf60c78</td>\n      <td>How can one start a research project based on ...</td>\n      <td>0</td>\n    </tr>\n    <tr>\n      <th>1306121</th>\n      <td>ffffed09fedb5088744a</td>\n      <td>Who wins in a battle between a Wolverine and a...</td>\n      <td>0</td>\n    </tr>\n  </tbody>\n</table>\n</div>"
          },
          "metadata": {}
        }
      ]
    },
    {
      "metadata": {
        "_uuid": "c8a1cc36348c68fb98d6cb28aa9919fc5f2892f3"
      },
      "cell_type": "markdown",
      "source": "To give a **statistical summary** about the dataset, we can use **describe()**\n"
    },
    {
      "metadata": {
        "_uuid": "3f7211e96627b9a81c5b620a9ba61446f7719ea3",
        "trusted": true,
        "_kg_hide-input": true
      },
      "cell_type": "code",
      "source": "train.describe() ",
      "execution_count": 40,
      "outputs": [
        {
          "output_type": "execute_result",
          "execution_count": 40,
          "data": {
            "text/plain": "             target\ncount  1.306122e+06\nmean   6.187018e-02\nstd    2.409197e-01\nmin    0.000000e+00\n25%    0.000000e+00\n50%    0.000000e+00\n75%    0.000000e+00\nmax    1.000000e+00",
            "text/html": "<div>\n<style scoped>\n    .dataframe tbody tr th:only-of-type {\n        vertical-align: middle;\n    }\n\n    .dataframe tbody tr th {\n        vertical-align: top;\n    }\n\n    .dataframe thead th {\n        text-align: right;\n    }\n</style>\n<table border=\"1\" class=\"dataframe\">\n  <thead>\n    <tr style=\"text-align: right;\">\n      <th></th>\n      <th>target</th>\n    </tr>\n  </thead>\n  <tbody>\n    <tr>\n      <th>count</th>\n      <td>1.306122e+06</td>\n    </tr>\n    <tr>\n      <th>mean</th>\n      <td>6.187018e-02</td>\n    </tr>\n    <tr>\n      <th>std</th>\n      <td>2.409197e-01</td>\n    </tr>\n    <tr>\n      <th>min</th>\n      <td>0.000000e+00</td>\n    </tr>\n    <tr>\n      <th>25%</th>\n      <td>0.000000e+00</td>\n    </tr>\n    <tr>\n      <th>50%</th>\n      <td>0.000000e+00</td>\n    </tr>\n    <tr>\n      <th>75%</th>\n      <td>0.000000e+00</td>\n    </tr>\n    <tr>\n      <th>max</th>\n      <td>1.000000e+00</td>\n    </tr>\n  </tbody>\n</table>\n</div>"
          },
          "metadata": {}
        }
      ]
    },
    {
      "metadata": {
        "_uuid": "10bdb8246f66c14043392806cae714f688cc8251"
      },
      "cell_type": "markdown",
      "source": "As you can see, the statistical information that this command gives us is not suitable for this type of data\n**describe() is more useful for numerical data sets**"
    },
    {
      "metadata": {
        "_uuid": "91dda1f631cf4ed362162501aaaac6d19cfd6cc7"
      },
      "cell_type": "markdown",
      "source": "<a id=\"63\"></a> <br>\n## 6-3 Data Preprocessing\n**Data preprocessing** refers to the transformations applied to our data before feeding it to the algorithm.\n \nData Preprocessing is a technique that is used to convert the raw data into a clean data set. In other words, whenever the data is gathered from different sources it is collected in raw format which is not feasible for the analysis.\nthere are plenty of steps for data preprocessing and we just listed some of them in general(Not just for Quora) :\n1. removing Target column (id)\n1. Sampling (without replacement)\n1. Making part of iris unbalanced and balancing (with undersampling and SMOTE)\n1. Introducing missing values and treating them (replacing by average values)\n1. Noise filtering\n1. Data discretization\n1. Normalization and standardization\n1. PCA analysis\n1. Feature selection (filter, embedded, wrapper)\n1. Etc.\n\nWhat methods of preprocessing can we run on  Quora?! \n###### [Go to top](#top)"
    },
    {
      "metadata": {
        "_uuid": "6c8c838f497c66a227975fb9a2f588e431f0c568"
      },
      "cell_type": "markdown",
      "source": "**<< Note 2 >>**\nin pandas's data frame you can perform some query such as \"where\""
    },
    {
      "metadata": {
        "_uuid": "c8c8d9fd63d9bdb601183aeb4f1435affeb8a596",
        "trusted": true,
        "_kg_hide-input": true
      },
      "cell_type": "code",
      "source": "train.where(train ['target']==1).count()",
      "execution_count": 41,
      "outputs": [
        {
          "output_type": "execute_result",
          "execution_count": 41,
          "data": {
            "text/plain": "qid              80810\nquestion_text    80810\ntarget           80810\ndtype: int64"
          },
          "metadata": {}
        }
      ]
    },
    {
      "metadata": {
        "_uuid": "33fc33a18489b438a884819d99dc00a02b113be8"
      },
      "cell_type": "markdown",
      "source": "As you can see in the below in python, it is so easy perform some query on the dataframe:"
    },
    {
      "metadata": {
        "_uuid": "8b545ff7e8367c5ab9c1db710f70b6936ac8422c",
        "trusted": true,
        "_kg_hide-input": true
      },
      "cell_type": "code",
      "source": "train[train['target']>1]",
      "execution_count": 42,
      "outputs": [
        {
          "output_type": "execute_result",
          "execution_count": 42,
          "data": {
            "text/plain": "Empty DataFrame\nColumns: [qid, question_text, target]\nIndex: []",
            "text/html": "<div>\n<style scoped>\n    .dataframe tbody tr th:only-of-type {\n        vertical-align: middle;\n    }\n\n    .dataframe tbody tr th {\n        vertical-align: top;\n    }\n\n    .dataframe thead th {\n        text-align: right;\n    }\n</style>\n<table border=\"1\" class=\"dataframe\">\n  <thead>\n    <tr style=\"text-align: right;\">\n      <th></th>\n      <th>qid</th>\n      <th>question_text</th>\n      <th>target</th>\n    </tr>\n  </thead>\n  <tbody>\n  </tbody>\n</table>\n</div>"
          },
          "metadata": {}
        }
      ]
    },
    {
      "metadata": {
        "_uuid": "2788d023986eca622f7db9e1d64c2a4e02737ddb"
      },
      "cell_type": "markdown",
      "source": "Some examples of questions that they are insincere"
    },
    {
      "metadata": {
        "_uuid": "d517b2b99a455a6b89c238faf1647515b8a67d87",
        "trusted": true,
        "_kg_hide-input": true
      },
      "cell_type": "code",
      "source": "train[train['target']==1].head(5)",
      "execution_count": 43,
      "outputs": [
        {
          "output_type": "execute_result",
          "execution_count": 43,
          "data": {
            "text/plain": "                      qid  ...   target\n22   0000e91571b60c2fb487  ...        1\n30   00013ceca3f624b09f42  ...        1\n110  0004a7fcb2bf73076489  ...        1\n114  00052793eaa287aff1e1  ...        1\n115  000537213b01fd77b58a  ...        1\n\n[5 rows x 3 columns]",
            "text/html": "<div>\n<style scoped>\n    .dataframe tbody tr th:only-of-type {\n        vertical-align: middle;\n    }\n\n    .dataframe tbody tr th {\n        vertical-align: top;\n    }\n\n    .dataframe thead th {\n        text-align: right;\n    }\n</style>\n<table border=\"1\" class=\"dataframe\">\n  <thead>\n    <tr style=\"text-align: right;\">\n      <th></th>\n      <th>qid</th>\n      <th>question_text</th>\n      <th>target</th>\n    </tr>\n  </thead>\n  <tbody>\n    <tr>\n      <th>22</th>\n      <td>0000e91571b60c2fb487</td>\n      <td>Has the United States become the largest dicta...</td>\n      <td>1</td>\n    </tr>\n    <tr>\n      <th>30</th>\n      <td>00013ceca3f624b09f42</td>\n      <td>Which babies are more sweeter to their parents...</td>\n      <td>1</td>\n    </tr>\n    <tr>\n      <th>110</th>\n      <td>0004a7fcb2bf73076489</td>\n      <td>If blacks support school choice and mandatory ...</td>\n      <td>1</td>\n    </tr>\n    <tr>\n      <th>114</th>\n      <td>00052793eaa287aff1e1</td>\n      <td>I am gay boy and I love my cousin (boy). He is...</td>\n      <td>1</td>\n    </tr>\n    <tr>\n      <th>115</th>\n      <td>000537213b01fd77b58a</td>\n      <td>Which races have the smallest penis?</td>\n      <td>1</td>\n    </tr>\n  </tbody>\n</table>\n</div>"
          },
          "metadata": {}
        }
      ]
    },
    {
      "metadata": {
        "_uuid": "4b67d109a0cec1a5475b863bbce8aa3ac9d2d4fb"
      },
      "cell_type": "markdown",
      "source": "<a id=\"631\"></a> <br>\n## 6-3-1 Is data set imbalance?\n"
    },
    {
      "metadata": {
        "_uuid": "4218d492753322c50142021833efb24cfdfc6ad3",
        "trusted": true,
        "_kg_hide-input": true
      },
      "cell_type": "code",
      "source": "train_target.mean()",
      "execution_count": 44,
      "outputs": [
        {
          "output_type": "execute_result",
          "execution_count": 44,
          "data": {
            "text/plain": "0.06187017751787352"
          },
          "metadata": {}
        }
      ]
    },
    {
      "metadata": {
        "_uuid": "8e058f90ca403f00d91d0405a7d8822dc7d6de55"
      },
      "cell_type": "markdown",
      "source": "A large part of the data is unbalanced, but **how can we  solve it?**"
    },
    {
      "metadata": {
        "_kg_hide-input": true,
        "_uuid": "dc6340ee1b637d192e29cbc8d3744ae6351b9c8b",
        "trusted": true
      },
      "cell_type": "code",
      "source": "train[\"target\"].value_counts()\n# data is imbalance",
      "execution_count": 45,
      "outputs": [
        {
          "output_type": "execute_result",
          "execution_count": 45,
          "data": {
            "text/plain": "0    1225312\n1      80810\nName: target, dtype: int64"
          },
          "metadata": {}
        }
      ]
    },
    {
      "metadata": {
        "_uuid": "8c948aad0aefbea90524b91c771ad74b6261387c"
      },
      "cell_type": "markdown",
      "source": "**Imbalanced dataset** is relevant primarily in the context of supervised machine learning involving two or more classes. \n\n**Imbalance** means that the number of data points available for different the classes is different:\nIf there are two classes, then balanced data would mean 50% points for each of the class. For most machine learning techniques, little imbalance is not a problem. So, if there are 60% points for one class and 40% for the other class, it should not cause any significant performance degradation. Only when the class imbalance is high, e.g. 90% points for one class and 10% for the other, standard optimization criteria or performance measures may not be as effective and would need modification.\n\n\n<img src='https://www.datascience.com/hs-fs/hubfs/imbdata.png?t=1542328336307&width=487&name=imbdata.png'>\n[Image source](http://api.ning.com/files/vvHEZw33BGqEUW8aBYm4epYJWOfSeUBPVQAsgz7aWaNe0pmDBsjgggBxsyq*8VU1FdBshuTDdL2-bp2ALs0E-0kpCV5kVdwu/imbdata.png)\n\nA typical example of imbalanced data is encountered in e-mail classification problem where emails are classified into ham or spam. The number of spam emails is usually lower than the number of relevant (ham) emails. So, using the original distribution of two classes leads to imbalanced dataset.\n\nUsing accuracy as a performace measure for highly imbalanced datasets is not a good idea. For example, if 90% points belong to the true class in a binary  classification problem, a default prediction of true for all data poimts leads to a classifier which is 90% accurate, even though the classifier has not learnt anything about the classification problem at hand![9]"
    },
    {
      "metadata": {
        "_uuid": "873b2cfdee04b8ba087df1c4bf01ae69ef2f1c52"
      },
      "cell_type": "markdown",
      "source": "<a id=\"632\"></a> <br>\n## 6-3-2 Exploreing Question"
    },
    {
      "metadata": {
        "_kg_hide-input": true,
        "_uuid": "e445c859d7c43857cfbf370ff20060a5341d3c89",
        "trusted": true
      },
      "cell_type": "code",
      "source": "question = train['question_text']\ni=0\nfor q in question[:5]:\n    i=i+1\n    print('sample '+str(i)+':' ,q)",
      "execution_count": 46,
      "outputs": [
        {
          "output_type": "stream",
          "text": "sample 1: How did Quebec nationalists see their province as a nation in the 1960s?\nsample 2: Do you have an adopted dog, how would you encourage people to adopt and not shop?\nsample 3: Why does velocity affect time? Does velocity affect space geometry?\nsample 4: How did Otto von Guericke used the Magdeburg hemispheres?\nsample 5: Can I convert montra helicon D to a mountain bike by just changing the tyres?\n",
          "name": "stdout"
        }
      ]
    },
    {
      "metadata": {
        "_kg_hide-input": true,
        "_uuid": "fa78f61df85a9c76bd092dbf6d6bcec4b6b2631f",
        "trusted": true
      },
      "cell_type": "code",
      "source": "text_withnumber = train['question_text']\nresult = ''.join([i for i in text_withnumber if not i.isdigit()])",
      "execution_count": 47,
      "outputs": []
    },
    {
      "metadata": {
        "_uuid": "c50c6c2683c5c08a6c9c34b75be61567d5993fa0"
      },
      "cell_type": "markdown",
      "source": "<a id=\"632\"></a> <br>\n## 6-3-2 Some Feature Engineering"
    },
    {
      "metadata": {
        "_uuid": "c641754f26e07c368596af3054268f1b3b764921"
      },
      "cell_type": "markdown",
      "source": "[NLTK](https://www.nltk.org/) is one of the leading platforms for working with human language data and Python, the module NLTK is used for natural language processing. NLTK is literally an acronym for Natural Language Toolkit.\n\nWe get a set of **English stop** words using the line"
    },
    {
      "metadata": {
        "_kg_hide-input": true,
        "_uuid": "10ca7d56255b95fc774fff5adf7b4273ec7a1ea2",
        "trusted": true
      },
      "cell_type": "code",
      "source": "#from nltk.corpus import stopwords\neng_stopwords = set(stopwords.words(\"english\"))",
      "execution_count": 48,
      "outputs": []
    },
    {
      "metadata": {
        "_uuid": "3f5af107041b279ce723761f37f4ffebae2b22a3"
      },
      "cell_type": "markdown",
      "source": "The returned list stopWords contains **179 stop words**  on my computer.\nYou can view the length or contents of this array with the lines:"
    },
    {
      "metadata": {
        "_kg_hide-input": true,
        "_uuid": "eca2d53bfae70c55b3b5b0e2c244826465cb478b",
        "trusted": true
      },
      "cell_type": "code",
      "source": "print(len(eng_stopwords))\nprint(eng_stopwords)",
      "execution_count": 49,
      "outputs": [
        {
          "output_type": "stream",
          "text": "179\n{'he', \"you're\", 'theirs', \"needn't\", 'as', 'over', 'below', 'won', \"doesn't\", 'under', 'wasn', 'any', 'herself', 'at', 'himself', 'had', 'only', 'yourselves', 'more', 'but', \"couldn't\", \"it's\", 'there', 'hasn', 'for', \"isn't\", 'should', 'am', 'whom', 'such', \"hadn't\", \"you've\", 's', 'be', 'those', 'having', 'all', 'that', 'an', 'now', 'again', \"weren't\", 'were', 'and', 've', 'up', 'few', 'where', 'll', 'them', 'when', 'is', 'doing', 'wouldn', \"shan't\", 'with', 'been', 'him', 'if', 'me', 'yours', 'what', 'itself', 'myself', \"mustn't\", 'too', 'couldn', \"she's\", 'down', \"hasn't\", 'once', 't', 'here', 'on', 'they', 'hers', 'their', 'a', 'same', 'shouldn', 'does', 'both', 'd', \"won't\", 'have', 'than', 'so', 'isn', \"you'd\", 'did', 'about', 'her', 'doesn', 'was', 'my', 'will', 'yourself', 'not', 'or', \"shouldn't\", 'don', 'haven', \"you'll\", 'off', 'until', 'further', 'didn', \"mightn't\", 'mightn', 'm', 'own', 'ma', 'can', 'each', \"wasn't\", 'are', 'we', 'how', 'very', 'no', 'has', 'ain', 'these', 'before', 'out', 'because', 'hadn', 'of', \"wouldn't\", 'after', 'themselves', 'then', 'our', 'its', 'you', 're', \"haven't\", 'shan', \"aren't\", 'ours', 'being', 'most', 'mustn', 'i', 'it', 'the', 'needn', 'who', 'aren', 'into', \"that'll\", \"didn't\", 'against', 'why', 'to', 'in', \"should've\", 'just', 'y', 'from', 'between', 'nor', 'by', 'through', 'weren', 'while', 'some', 'this', 'o', 'your', 'she', 'ourselves', 'during', 'his', 'which', 'do', \"don't\", 'other', 'above'}\n",
          "name": "stdout"
        }
      ]
    },
    {
      "metadata": {
        "_uuid": "6f049c6d9633200496ed97f8066257849b4824da"
      },
      "cell_type": "markdown",
      "source": "The metafeatures that we'll create based on  SRK's  EDAs, [sudalairajkumar](http://http://www.kaggle.com/sudalairajkumar/simple-feature-engg-notebook-spooky-author) and [tunguz](https://www.kaggle.com/tunguz/just-some-simple-eda) are:\n1. Number of words in the text\n1. Number of unique words in the text\n1. Number of characters in the text\n1. Number of stopwords\n1. Number of punctuations\n1. Number of upper case words\n1. Number of title case words\n1. Average length of the words\n\n###### [Go to top](#top)"
    },
    {
      "metadata": {
        "_uuid": "f4982fc699bcb147513c247b9f4d86b02902eded"
      },
      "cell_type": "markdown",
      "source": "Number of words in the text "
    },
    {
      "metadata": {
        "_kg_hide-input": true,
        "_uuid": "5b29fbd86ab48be6bd84fcac6fb6bca84d4b8792",
        "trusted": true
      },
      "cell_type": "code",
      "source": "train[\"num_words\"] = train[\"question_text\"].apply(lambda x: len(str(x).split()))\ntest[\"num_words\"] = test[\"question_text\"].apply(lambda x: len(str(x).split()))\nprint('maximum of num_words in train',train[\"num_words\"].max())\nprint('min of num_words in train',train[\"num_words\"].min())\nprint(\"maximum of  num_words in test\",test[\"num_words\"].max())\nprint('min of num_words in train',test[\"num_words\"].min())\n",
      "execution_count": 50,
      "outputs": [
        {
          "output_type": "stream",
          "text": "maximum of num_words in train 134\nmin of num_words in train 1\nmaximum of  num_words in test 87\nmin of num_words in train 2\n",
          "name": "stdout"
        }
      ]
    },
    {
      "metadata": {
        "_uuid": "83becd8affc2abab2252e065f77c80dc0dcf53be"
      },
      "cell_type": "markdown",
      "source": "Number of unique words in the text"
    },
    {
      "metadata": {
        "_kg_hide-input": true,
        "_uuid": "72aebb943122982b891c959fa9fa36224adcb2fc",
        "trusted": true
      },
      "cell_type": "code",
      "source": "train[\"num_unique_words\"] = train[\"question_text\"].apply(lambda x: len(set(str(x).split())))\ntest[\"num_unique_words\"] = test[\"question_text\"].apply(lambda x: len(set(str(x).split())))\nprint('maximum of num_unique_words in train',train[\"num_unique_words\"].max())\nprint('mean of num_unique_words in train',train[\"num_unique_words\"].mean())\nprint(\"maximum of num_unique_words in test\",test[\"num_unique_words\"].max())\nprint('mean of num_unique_words in train',test[\"num_unique_words\"].mean())",
      "execution_count": 51,
      "outputs": [
        {
          "output_type": "stream",
          "text": "maximum of num_unique_words in train 96\nmean of num_unique_words in train 12.135776749798257\nmaximum of num_unique_words in test 61\nmean of num_unique_words in train 12.096363313819408\n",
          "name": "stdout"
        }
      ]
    },
    {
      "metadata": {
        "_uuid": "cb2719fa417f2c3fabea9b6582081738ecdf678b"
      },
      "cell_type": "markdown",
      "source": "Number of characters in the text "
    },
    {
      "metadata": {
        "_kg_hide-input": true,
        "_uuid": "a7029af9cfed9eb2e624d7177887e111a71054ff",
        "trusted": true
      },
      "cell_type": "code",
      "source": "\ntrain[\"num_chars\"] = train[\"question_text\"].apply(lambda x: len(str(x)))\ntest[\"num_chars\"] = test[\"question_text\"].apply(lambda x: len(str(x)))\nprint('maximum of num_chars in train',train[\"num_chars\"].max())\nprint(\"maximum of num_chars in test\",test[\"num_chars\"].max())",
      "execution_count": 52,
      "outputs": [
        {
          "output_type": "stream",
          "text": "maximum of num_chars in train 1017\nmaximum of num_chars in test 588\n",
          "name": "stdout"
        }
      ]
    },
    {
      "metadata": {
        "_uuid": "ddd289db2420b4f3fee7268fef94926688afd203"
      },
      "cell_type": "markdown",
      "source": "Number of stopwords in the text"
    },
    {
      "metadata": {
        "_kg_hide-input": true,
        "_uuid": "086e229b918087420c33b57c7ad51d6723cf70f7",
        "trusted": true
      },
      "cell_type": "code",
      "source": "train[\"num_stopwords\"] = train[\"question_text\"].apply(lambda x: len([w for w in str(x).lower().split() if w in eng_stopwords]))\ntest[\"num_stopwords\"] = test[\"question_text\"].apply(lambda x: len([w for w in str(x).lower().split() if w in eng_stopwords]))\nprint('maximum of num_stopwords in train',train[\"num_stopwords\"].max())\nprint(\"maximum of num_stopwords in test\",test[\"num_stopwords\"].max())",
      "execution_count": 53,
      "outputs": [
        {
          "output_type": "stream",
          "text": "maximum of num_stopwords in train 56\nmaximum of num_stopwords in test 47\n",
          "name": "stdout"
        }
      ]
    },
    {
      "metadata": {
        "_uuid": "428a009f1a3b00b73ec7d6e8558aebc995e42594"
      },
      "cell_type": "markdown",
      "source": "Number of punctuations in the text"
    },
    {
      "metadata": {
        "_kg_hide-input": true,
        "_uuid": "947abd63c51d74dc33c2891fb1e1b9381d9da23c",
        "trusted": true
      },
      "cell_type": "code",
      "source": "\ntrain[\"num_punctuations\"] =train['question_text'].apply(lambda x: len([c for c in str(x) if c in string.punctuation]) )\ntest[\"num_punctuations\"] =test['question_text'].apply(lambda x: len([c for c in str(x) if c in string.punctuation]) )\nprint('maximum of num_punctuations in train',train[\"num_punctuations\"].max())\nprint(\"maximum of num_punctuations in test\",test[\"num_punctuations\"].max())",
      "execution_count": 54,
      "outputs": [
        {
          "output_type": "stream",
          "text": "maximum of num_punctuations in train 411\nmaximum of num_punctuations in test 260\n",
          "name": "stdout"
        }
      ]
    },
    {
      "metadata": {
        "_uuid": "a93e8fd32c2ff7dffd81f62ff3b6b3a5975d6836"
      },
      "cell_type": "markdown",
      "source": "Number of title case words in the text"
    },
    {
      "metadata": {
        "_kg_hide-input": true,
        "_uuid": "82c95fcf5848ca383a6a84501fe74fef371392d1",
        "trusted": true
      },
      "cell_type": "code",
      "source": "\ntrain[\"num_words_upper\"] = train[\"question_text\"].apply(lambda x: len([w for w in str(x).split() if w.isupper()]))\ntest[\"num_words_upper\"] = test[\"question_text\"].apply(lambda x: len([w for w in str(x).split() if w.isupper()]))\nprint('maximum of num_words_upper in train',train[\"num_words_upper\"].max())\nprint(\"maximum of num_words_upper in test\",test[\"num_words_upper\"].max())",
      "execution_count": 55,
      "outputs": [
        {
          "output_type": "stream",
          "text": "maximum of num_words_upper in train 37\nmaximum of num_words_upper in test 36\n",
          "name": "stdout"
        }
      ]
    },
    {
      "metadata": {
        "_uuid": "5bc4c2b642cb8adf12fd6dbb01616079a454d384"
      },
      "cell_type": "markdown",
      "source": "Number of title case words in the text"
    },
    {
      "metadata": {
        "_kg_hide-input": true,
        "_uuid": "b938bdcfe7c418f5b4d57c9fd21c77d8bf4d3f06",
        "trusted": true
      },
      "cell_type": "code",
      "source": "\ntrain[\"num_words_title\"] = train[\"question_text\"].apply(lambda x: len([w for w in str(x).split() if w.istitle()]))\ntest[\"num_words_title\"] = test[\"question_text\"].apply(lambda x: len([w for w in str(x).split() if w.istitle()]))\nprint('maximum of num_words_title in train',train[\"num_words_title\"].max())\nprint(\"maximum of num_words_title in test\",test[\"num_words_title\"].max())",
      "execution_count": 56,
      "outputs": [
        {
          "output_type": "stream",
          "text": "maximum of num_words_title in train 37\nmaximum of num_words_title in test 24\n",
          "name": "stdout"
        }
      ]
    },
    {
      "metadata": {
        "_uuid": "2c81bb79d34d242f74b8ed650a8998efdb29e38b"
      },
      "cell_type": "markdown",
      "source": " Average length of the words in the text "
    },
    {
      "metadata": {
        "_kg_hide-input": true,
        "_uuid": "3058236ff8702754ee4132f7eb705dd54f354af4",
        "trusted": true
      },
      "cell_type": "code",
      "source": "\ntrain[\"mean_word_len\"] = train[\"question_text\"].apply(lambda x: np.mean([len(w) for w in str(x).split()]))\ntest[\"mean_word_len\"] = test[\"question_text\"].apply(lambda x: np.mean([len(w) for w in str(x).split()]))\nprint('mean_word_len in train',train[\"mean_word_len\"].max())\nprint(\"mean_word_len in test\",test[\"mean_word_len\"].max())",
      "execution_count": 57,
      "outputs": [
        {
          "output_type": "stream",
          "text": "mean_word_len in train 57.666666666666664\nmean_word_len in test 29.333333333333332\n",
          "name": "stdout"
        }
      ]
    },
    {
      "metadata": {
        "_uuid": "c91162602814ba230ab9fe30f9941ac6409133b9"
      },
      "cell_type": "markdown",
      "source": "We add some new feature to train and test data set now, print columns agains"
    },
    {
      "metadata": {
        "_uuid": "05cae032149a7c79a92a3b2bf80185c483d0e976",
        "trusted": true,
        "_kg_hide-input": true
      },
      "cell_type": "code",
      "source": "print(train.columns)\ntrain.head(1)",
      "execution_count": 58,
      "outputs": [
        {
          "output_type": "stream",
          "text": "Index(['qid', 'question_text', 'target', 'num_words', 'num_unique_words',\n       'num_chars', 'num_stopwords', 'num_punctuations', 'num_words_upper',\n       'num_words_title', 'mean_word_len'],\n      dtype='object')\n",
          "name": "stdout"
        },
        {
          "output_type": "execute_result",
          "execution_count": 58,
          "data": {
            "text/plain": "                    qid      ...      mean_word_len\n0  00002165364db923c7e6      ...           4.615385\n\n[1 rows x 11 columns]",
            "text/html": "<div>\n<style scoped>\n    .dataframe tbody tr th:only-of-type {\n        vertical-align: middle;\n    }\n\n    .dataframe tbody tr th {\n        vertical-align: top;\n    }\n\n    .dataframe thead th {\n        text-align: right;\n    }\n</style>\n<table border=\"1\" class=\"dataframe\">\n  <thead>\n    <tr style=\"text-align: right;\">\n      <th></th>\n      <th>qid</th>\n      <th>question_text</th>\n      <th>target</th>\n      <th>num_words</th>\n      <th>num_unique_words</th>\n      <th>num_chars</th>\n      <th>num_stopwords</th>\n      <th>num_punctuations</th>\n      <th>num_words_upper</th>\n      <th>num_words_title</th>\n      <th>mean_word_len</th>\n    </tr>\n  </thead>\n  <tbody>\n    <tr>\n      <th>0</th>\n      <td>00002165364db923c7e6</td>\n      <td>How did Quebec nationalists see their province...</td>\n      <td>0</td>\n      <td>13</td>\n      <td>13</td>\n      <td>72</td>\n      <td>7</td>\n      <td>1</td>\n      <td>0</td>\n      <td>2</td>\n      <td>4.615385</td>\n    </tr>\n  </tbody>\n</table>\n</div>"
          },
          "metadata": {}
        }
      ]
    },
    {
      "metadata": {
        "_uuid": "aa882e5bcdc7d5f440489eff75d1d225269655a4"
      },
      "cell_type": "markdown",
      "source": "**<< Note >>**\n>**Preprocessing and generation pipelines depend on a model type**"
    },
    {
      "metadata": {
        "_uuid": "055772bd170aa8018aabd85106b76675802c33b3"
      },
      "cell_type": "markdown",
      "source": "<a id=\"64\"></a> <br>\n## 6-4 Data Visualization\n**Data visualization**  is the presentation of data in a pictorial or graphical format. It enables decision makers to see analytics presented visually, so they can grasp difficult concepts or identify new patterns.\n\n> * Two** important rules** for Data visualization:\n>     1. Do not put too little information\n>     1. Do not put too much information\n\n###### [Go to top](#top)"
    },
    {
      "metadata": {
        "_uuid": "5d991f5a4a9e4fffcbcee4a51b3cf1cd95007427"
      },
      "cell_type": "markdown",
      "source": "<a id=\"641\"></a> <br>\n## 6-4-1 CountPlot"
    },
    {
      "metadata": {
        "_kg_hide-input": true,
        "_uuid": "1b54931579ed4e3004369a59fe9c6f23b97719de",
        "trusted": true
      },
      "cell_type": "code",
      "source": "ax=sns.countplot(x='target',hue=\"target\", data=train  ,linewidth=5,edgecolor=sns.color_palette(\"dark\", 3))\nplt.title('Is data set imbalance?');",
      "execution_count": 59,
      "outputs": [
        {
          "output_type": "display_data",
          "data": {
            "text/plain": "<Figure size 432x288 with 1 Axes>",
            "image/png": "[encoded data removed]"
          },
          "metadata": {}
        }
      ]
    },
    {
      "metadata": {
        "_kg_hide-input": true,
        "_uuid": "eb15e8fed181179a086bf0db7dc21eaabb4eb088",
        "trusted": true
      },
      "cell_type": "code",
      "source": "ax = sns.countplot(y=\"target\", hue=\"target\", data=train)\nplt.title('Is data set imbalance?');",
      "execution_count": 60,
      "outputs": [
        {
          "output_type": "display_data",
          "data": {
            "text/plain": "<Figure size 432x288 with 1 Axes>",
            "image/png": "[encoded data removed]"
          },
          "metadata": {}
        }
      ]
    },
    {
      "metadata": {
        "_uuid": "be2b936baaa6dcc2d574a861c75584ed04d3589e"
      },
      "cell_type": "markdown",
      "source": "<a id=\"642\"></a> <br>\n## 6-4-2  Pie Plot"
    },
    {
      "metadata": {
        "_kg_hide-input": true,
        "_uuid": "4a2332f8c87da0a4f8cc31f587ce547470a0d615",
        "trusted": true
      },
      "cell_type": "code",
      "source": "\nax=train['target'].value_counts().plot.pie(explode=[0,0.1],autopct='%1.1f%%' ,shadow=True)\nax.set_title('target')\nax.set_ylabel('')\nplt.show()",
      "execution_count": 61,
      "outputs": [
        {
          "output_type": "display_data",
          "data": {
            "text/plain": "<Figure size 432x288 with 1 Axes>",
            "image/png": "[encoded data removed]"
          },
          "metadata": {}
        }
      ]
    },
    {
      "metadata": {
        "_uuid": "ee5a0017d867f90a5b89a78866582e73ceef5a05",
        "trusted": true,
        "_kg_hide-input": true
      },
      "cell_type": "code",
      "source": "#plt.pie(train['target'],autopct='%1.1f%%')\n \n#plt.axis('equal')\n#plt.show()",
      "execution_count": 62,
      "outputs": []
    },
    {
      "metadata": {
        "_uuid": "fbe8c50bcc1b632f42dd249e27a9a7c14517fd29"
      },
      "cell_type": "markdown",
      "source": "<a id=\"643\"></a> <br>\n## 6-4-3  Histogram"
    },
    {
      "metadata": {
        "_kg_hide-input": true,
        "_uuid": "e41be26587175bee1bfe63e43eca1dd3f445c082",
        "trusted": true
      },
      "cell_type": "code",
      "source": "f,ax=plt.subplots(1,2,figsize=(20,10))\ntrain[train['target']==0].num_words.plot.hist(ax=ax[0],bins=20,edgecolor='black',color='red')\nax[0].set_title('target= 0')\nx1=list(range(0,85,5))\nax[0].set_xticks(x1)\ntrain[train['target']==1].num_words.plot.hist(ax=ax[1],color='green',bins=20,edgecolor='black')\nax[1].set_title('target= 1')\nx2=list(range(0,85,5))\nax[1].set_xticks(x2)\nplt.show()",
      "execution_count": 63,
      "outputs": [
        {
          "output_type": "display_data",
          "data": {
            "text/plain": "<Figure size 1440x720 with 2 Axes>",
            "image/png": "[encoded data removed]"
          },
          "metadata": {}
        }
      ]
    },
    {
      "metadata": {
        "_kg_hide-input": true,
        "_uuid": "a7d0a12e7f719781cd09e0d6df6ae1e780a6b1ab",
        "trusted": true
      },
      "cell_type": "code",
      "source": "f,ax=plt.subplots(1,2,figsize=(18,8))\ntrain[['target','num_words']].groupby(['target']).mean().plot.bar(ax=ax[0])\nax[0].set_title('num_words vs target')\nsns.countplot('num_words',hue='target',data=train,ax=ax[1])\nax[1].set_title('num_words:target=0 vs target=1')\nplt.show()",
      "execution_count": 64,
      "outputs": [
        {
          "output_type": "display_data",
          "data": {
            "text/plain": "<Figure size 1296x576 with 2 Axes>",
            "image/png": "[encoded data removed]"
          },
          "metadata": {}
        }
      ]
    },
    {
      "metadata": {
        "_kg_hide-input": true,
        "_uuid": "7870ad9dc4a007463301513963d6a2c1fe978aa4",
        "trusted": true
      },
      "cell_type": "code",
      "source": "# histograms\ntrain.hist(figsize=(15,20))\nplt.figure()",
      "execution_count": 65,
      "outputs": [
        {
          "output_type": "execute_result",
          "execution_count": 65,
          "data": {
            "text/plain": "<Figure size 432x288 with 0 Axes>"
          },
          "metadata": {}
        },
        {
          "output_type": "display_data",
          "data": {
            "text/plain": "<Figure size 1080x1440 with 9 Axes>",
            "image/png": "[encoded data removed]"
          },
          "metadata": {}
        },
        {
          "output_type": "display_data",
          "data": {
            "text/plain": "<Figure size 432x288 with 0 Axes>"
          },
          "metadata": {}
        }
      ]
    },
    {
      "metadata": {
        "_kg_hide-input": true,
        "_uuid": "e065ebff5374a9ab83df9c099a05962eb3645934",
        "trusted": true
      },
      "cell_type": "code",
      "source": "train[\"num_words\"].hist();",
      "execution_count": 66,
      "outputs": [
        {
          "output_type": "display_data",
          "data": {
            "text/plain": "<Figure size 432x288 with 1 Axes>",
            "image/png": "[encoded data removed]"
          },
          "metadata": {}
        }
      ]
    },
    {
      "metadata": {
        "_uuid": "a0df20cff46a2bcdeef476e797d1535fd66850c4"
      },
      "cell_type": "markdown",
      "source": "<a id=\"644\"></a> <br>\n## 6-4-4 Violin Plot"
    },
    {
      "metadata": {
        "_kg_hide-input": true,
        "_uuid": "fe8ca6c82ce44d745ad1ebc942826cf03e2d9895",
        "trusted": true
      },
      "cell_type": "code",
      "source": "sns.violinplot(data=train,x=\"target\", y=\"num_words\")",
      "execution_count": 67,
      "outputs": [
        {
          "output_type": "execute_result",
          "execution_count": 67,
          "data": {
            "text/plain": "<matplotlib.axes._subplots.AxesSubplot at 0x7fa7d08e59e8>"
          },
          "metadata": {}
        },
        {
          "output_type": "display_data",
          "data": {
            "text/plain": "<Figure size 432x288 with 1 Axes>",
            "image/png": "[encoded data removed]"
          },
          "metadata": {}
        }
      ]
    },
    {
      "metadata": {
        "_uuid": "8436fb0e0a159e9136a44dcd3eb9aae65a4a3b8b",
        "trusted": true,
        "_kg_hide-input": true
      },
      "cell_type": "code",
      "source": "sns.violinplot(data=train,x=\"target\", y=\"num_words_upper\")",
      "execution_count": 68,
      "outputs": [
        {
          "output_type": "execute_result",
          "execution_count": 68,
          "data": {
            "text/plain": "<matplotlib.axes._subplots.AxesSubplot at 0x7fa7d1695da0>"
          },
          "metadata": {}
        },
        {
          "output_type": "display_data",
          "data": {
            "text/plain": "<Figure size 432x288 with 1 Axes>",
            "image/png": "[encoded data removed]"
          },
          "metadata": {}
        }
      ]
    },
    {
      "metadata": {
        "_uuid": "b08771239bf613afa9f89457fdf25c044279940e"
      },
      "cell_type": "markdown",
      "source": "<a id=\"645\"></a> <br>\n## 6-4-5 KdePlot"
    },
    {
      "metadata": {
        "_kg_hide-input": true,
        "_uuid": "92f2ce0f1ff05002d196522a6a62579f0dba6ef3",
        "trusted": true
      },
      "cell_type": "code",
      "source": "sns.FacetGrid(train, hue=\"target\", size=5).map(sns.kdeplot, \"num_words\").add_legend()\nplt.show()",
      "execution_count": 69,
      "outputs": [
        {
          "output_type": "display_data",
          "data": {
            "text/plain": "<Figure size 406.6x360 with 1 Axes>",
            "image/png": "[encoded data removed]"
          },
          "metadata": {}
        }
      ]
    },
    {
      "metadata": {
        "_uuid": "a38e752250257db85554f00b9b440e5d968d4c7a"
      },
      "cell_type": "markdown",
      "source": "<a id=\"646\"></a> <br>\n## 6-4-6 BoxPlot"
    },
    {
      "metadata": {
        "_uuid": "ede2021504e4c4d9eb53c9428f643f11e827f666",
        "trusted": true,
        "_kg_hide-input": true
      },
      "cell_type": "code",
      "source": "train['num_words'].loc[train['num_words']>60] = 60 #truncation for better visuals\naxes= sns.boxplot(x='target', y='num_words', data=train)\naxes.set_xlabel('Target', fontsize=12)\naxes.set_title(\"Number of words in each class\", fontsize=15)\nplt.show()",
      "execution_count": 70,
      "outputs": [
        {
          "output_type": "display_data",
          "data": {
            "text/plain": "<Figure size 432x288 with 1 Axes>",
            "image/png": "[encoded data removed]"
          },
          "metadata": {}
        }
      ]
    },
    {
      "metadata": {
        "_uuid": "05a3de95dca3933c118bbaca719a7bd6e4c007cd",
        "trusted": true,
        "_kg_hide-input": true
      },
      "cell_type": "code",
      "source": "train['num_chars'].loc[train['num_chars']>350] = 350 #truncation for better visuals\n\naxes= sns.boxplot(x='target', y='num_chars', data=train)\naxes.set_xlabel('Target', fontsize=12)\naxes.set_title(\"Number of num_chars in each class\", fontsize=15)\nplt.show()",
      "execution_count": 71,
      "outputs": [
        {
          "output_type": "display_data",
          "data": {
            "text/plain": "<Figure size 432x288 with 1 Axes>",
            "image/png": "[encoded data removed]"
          },
          "metadata": {}
        }
      ]
    },
    {
      "metadata": {
        "_uuid": "08745636a4aef9797daf0f52610cdd84d6cfd8f7"
      },
      "cell_type": "markdown",
      "source": "<a id=\"646\"></a> <br>\n## 6-4-6 WordCloud"
    },
    {
      "metadata": {
        "_uuid": "582eb9b3a4e7ba61cea78b803c9fee55326f9940",
        "trusted": true,
        "_kg_hide-input": true
      },
      "cell_type": "code",
      "source": "def generate_wordcloud(text): \n    wordcloud = wc(relative_scaling = 1.0,stopwords = eng_stopwords).generate(text)\n    fig,ax = plt.subplots(1,1,figsize=(10,10))\n    ax.imshow(wordcloud, interpolation='bilinear')\n    ax.axis(\"off\")\n    ax.margins(x=0, y=0)\n    plt.show()",
      "execution_count": 72,
      "outputs": []
    },
    {
      "metadata": {
        "_uuid": "3d192ec8ece7238fdd16327e7a2e81fcaf0ec18c",
        "trusted": true,
        "_kg_hide-input": true
      },
      "cell_type": "code",
      "source": "text =\" \".join(train.question_text)\ngenerate_wordcloud(text)",
      "execution_count": null,
      "outputs": []
    },
    {
      "metadata": {
        "_uuid": "72cc7c7b60a33390a85b16bc34e3b9e424650cdd"
      },
      "cell_type": "markdown",
      "source": "<a id=\"7\"></a> <br>\n## 7- Apply Learning\nHow to understand what is the best way to solve our problem?!\n\nThe answer is always \"**It depends**.\" It depends on the **size**, **quality**, and **nature** of the **data**. It depends on what you want to do with the answer. It depends on how the **math** of the algorithm was translated into instructions for the computer you are using. And it depends on how much **time** you have. Even the most **experienced data scientists** can't tell which algorithm will perform best before trying them.(see a nice [cheatsheet](https://github.com/mjbahmani/10-steps-to-become-a-data-scientist/blob/master/cheatsheets/microsoft-machine-learning-algorithm-cheat-sheet-v7.pdf) for this section)\nCategorize the problem\nThe next step is to categorize the problem. This is a two-step process.\n\n1. **Categorize by input**:\n    1. If you have labelled data, it’s a supervised learning problem.\n    1. If you have unlabelled data and want to find structure, it’s an unsupervised learning problem.\n    1. If you want to optimize an objective function by interacting with an environment, it’s a reinforcement learning problem.\n1. **Categorize by output**.\n    1. If the output of your model is a number, it’s a regression problem.\n    1. If the output of your model is a class, it’s a classification problem.\n    1. If the output of your model is a set of input groups, it’s a clustering problem.\n    1. Do you want to detect an anomaly ? That’s anomaly detection\n1. **Understand your constraints**\n    1. What is your data storage capacity? Depending on the storage capacity of your system, you might not be able to store gigabytes of classification/regression models or gigabytes of data to clusterize. This is the case, for instance, for embedded systems.\n    1. Does the prediction have to be fast? In real time applications, it is obviously very important to have a prediction as fast as possible. For instance, in autonomous driving, it’s important that the classification of road signs be as fast as possible to avoid accidents.\n    1. Does the learning have to be fast? In some circumstances, training models quickly is necessary: sometimes, you need to rapidly update, on the fly, your model with a different dataset.\n1. **Find the available algorithms**\n    1. Now that you a clear understanding of where you stand, you can identify the algorithms that are applicable and practical to implement using the tools at your disposal. Some of the factors affecting the choice of a model are:\n\n    1. Whether the model meets the business goals\n    1. How much pre processing the model needs\n    1. How accurate the model is\n    1. How explainable the model is\n    1. How fast the model is: How long does it take to build a model, and how long does the model take to make predictions.\n    1. How scalable the model is\n"
    },
    {
      "metadata": {
        "_uuid": "97adc471c068fbd8d36ca19a4db0d98b0924c731"
      },
      "cell_type": "markdown",
      "source": "-----------------\n<a id=\"8\"></a> <br>\n# 8- Conclusion"
    },
    {
      "metadata": {
        "_uuid": "1adfb5ba84e0f1d8fba58a2fca30546ead095047",
        "collapsed": true
      },
      "cell_type": "markdown",
      "source": "This kernel is not completed yet , I have tried to cover all the parts related to the process of **Quora problem** with a variety of Python packages and I know that there are still some problems then I hope to get your feedback to improve it.\n"
    },
    {
      "metadata": {
        "_uuid": "cf3679a51c72dbe2d2549b5fe97e4ac5f1fa0fa0"
      },
      "cell_type": "markdown",
      "source": "you can Fork and Run this kernel on **Github**:\n> ###### [ GitHub](https://github.com/mjbahmani/10-steps-to-become-a-data-scientist)\n\n--------------------------------------\n\n **I hope you find this kernel helpful and some <font color=\"red\"><b>UPVOTES</b></font> would be very much appreciated** "
    },
    {
      "metadata": {
        "_cell_guid": "79c7e3d0-c299-4dcb-8224-4455121ee9b0",
        "_uuid": "d629ff2d2480ee46fbb7e2d37f6b5fab8052498a",
        "collapsed": true
      },
      "cell_type": "markdown",
      "source": "<a id=\"9\"></a> <br>\n\n-----------\n\n# 9- References\n## 9-1 Kaggle's Kernels\n**In the end , I want to thank all the kernels I've used in this notebook**:\n1. [SRK](https://www.kaggle.com/sudalairajkumar/simple-exploration-notebook-qiqc)\n1. [mihaskalic](https://www.kaggle.com/mihaskalic/lstm-is-all-you-need-well-maybe-embeddings-also)\n1. [artgor](https://www.kaggle.com/artgor/eda-and-lstm-cnn)\n1. [tunguz](https://www.kaggle.com/tunguz/just-some-simple-eda)\n\n## 9-2 Other References\n\n1. [Machine Learning Certification by Stanford University (Coursera)](https://www.coursera.org/learn/machine-learning/)\n\n1. [Machine Learning A-Z™: Hands-On Python & R In Data Science (Udemy)](https://www.udemy.com/machinelearning/)\n\n1. [Deep Learning Certification by Andrew Ng from deeplearning.ai (Coursera)](https://www.coursera.org/specializations/deep-learning)\n\n1. [Python for Data Science and Machine Learning Bootcamp (Udemy)](Python for Data Science and Machine Learning Bootcamp (Udemy))\n\n1. [Mathematics for Machine Learning by Imperial College London](https://www.coursera.org/specializations/mathematics-machine-learning)\n\n1. [Deep Learning A-Z™: Hands-On Artificial Neural Networks](https://www.udemy.com/deeplearning/)\n\n1. [Complete Guide to TensorFlow for Deep Learning Tutorial with Python](https://www.udemy.com/complete-guide-to-tensorflow-for-deep-learning-with-python/)\n\n1. [Data Science and Machine Learning Tutorial with Python – Hands On](https://www.udemy.com/data-science-and-machine-learning-with-python-hands-on/)\n1. [imbalanced-dataset](https://www.quora.com/What-is-an-imbalanced-dataset)\n1. [algorithm-choice](https://docs.microsoft.com/en-us/azure/machine-learning/studio/algorithm-choice)\n-------------\n\n###### [Go to top](#top)"
    },
    {
      "metadata": {
        "_uuid": "ff59d6a3d20b8615d9c58f8d4bb6e3160fbd164e"
      },
      "cell_type": "markdown",
      "source": "Go to first step: [Course Home Page](https://www.kaggle.com/mjbahmani/10-steps-to-become-a-data-scientist)\n\nGo to next step : [Titanic](https://www.kaggle.com/mjbahmani/a-comprehensive-ml-workflow-with-python)\n"
    },
    {
      "metadata": {
        "_uuid": "3218340bb7dfc4ab53987820284a5c2b1c34eb45"
      },
      "cell_type": "markdown",
      "source": "#### The kernel is not complete and will be updated soon  !!!"
    }
  ],
  "metadata": {
    "kernelspec": {
      "display_name": "Python 3",
      "language": "python",
      "name": "python3"
    },
    "language_info": {
      "name": "python",
      "version": "3.6.6",
      "mimetype": "text/x-python",
      "codemirror_mode": {
        "name": "ipython",
        "version": 3
      },
      "pygments_lexer": "ipython3",
      "nbconvert_exporter": "python",
      "file_extension": ".py"
    }
  },
  "nbformat": 4,
  "nbformat_minor": 1
}