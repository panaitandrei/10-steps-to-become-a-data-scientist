{
  "cells": [
    {
      "metadata": {
        "_uuid": "8f2839f25d086af736a60e9eeb907d3b93b6e0e5",
        "_cell_guid": "b1076dfc-b9ad-4769-8c92-a6c4dae69d19",
        "trusted": true
      },
      "cell_type": "markdown",
      "source": " #  <div style=\"text-align: center\">Probability of Earthquake  </div> \n###  <div style=\"text-align: center\">Quite Practical and Far from any Theoretical Concepts </div> \n<img src='https://cdn-images-1.medium.com/max/800/1*ZqMOkymLG5oSuUuVAKSlpg.png' width=400 height=400>\n<div style=\"text-align:center\"> last update: <b>13/01/2019</b></div>\n\n\n\nYou can Fork code  and  Follow me on:\n\n> ###### [ GitHub](https://github.com/mjbahmani/10-steps-to-become-a-data-scientist)\n> ###### [Kaggle](https://www.kaggle.com/mjbahmani/)\n-------------------------------------------------------------------------------------------------------------\n <b> I hope you find this kernel helpful and some <font color='red'>UPVOTES</font> would be very much appreciated.</b>\n    \n -----------"
    },
    {
      "metadata": {
        "_cell_guid": "79c7e3d0-c299-4dcb-8224-4455121ee9b0",
        "collapsed": true,
        "_uuid": "d629ff2d2480ee46fbb7e2d37f6b5fab8052498a",
        "trusted": false
      },
      "cell_type": "markdown",
      "source": " <a id=\"top\"></a> <br>\n## Notebook  Content\n1. [Introduction](#1)\n1. [Load packages](#2)\n    1. [import](21)\n    1. [Setup](22)\n    1. [Version](23)\n1. [Problem Definition](#3)\n    1. [Problem Feature](#31)\n    1. [Aim](#32)\n    1. [Variables](#33)\n    1. [Evaluation](#34)\n1. [Exploratory Data Analysis(EDA)](#4)\n    1. [Data Collection](#41)\n    1. [Visualization](#42)\n    1. [Data Preprocessing](#43)\n1. [Conclusion](#5)\n1. [References](#6)"
    },
    {
      "metadata": {
        "_uuid": "af63d485947264b68c37768c73ffac21bb631c0f"
      },
      "cell_type": "markdown",
      "source": " <a id=\"1\"></a> <br>\n## 1- Introduction\n**Forecasting earthquakes** is one of the most important problems in Earth science. If you agree, the earthquake forecast is likely to be related to the concepts of **probability**. In this kernel, I try to look at the prediction of the earthquake with the **help** of the concepts of probability .\n<img src='https://www.livemint.com/r/LiveMint/WebArchive/BP/Photos/2015-06-16/Processed/Mint/Web/earthquake-1.jpg'>\nFor anyone taking first steps in data science, **Probability** is a must know concept. Concepts of probability theory are the backbone of many important concepts in data science like inferential statistics to Bayesian networks. It would not be wrong to say that the journey of mastering statistics begins with probability."
    },
    {
      "metadata": {
        "_uuid": "733f1f0e45933f46a674df4d9ee6561de156d748"
      },
      "cell_type": "markdown",
      "source": " <a id=\"2\"></a> <br>\n ## 2- Load packages\n  <a id=\"21\"></a> <br>\n## 2-1 Import"
    },
    {
      "metadata": {
        "_kg_hide-input": true,
        "trusted": true,
        "_uuid": "7646c73810d475601436c096d36498cfaa489ec4"
      },
      "cell_type": "code",
      "source": "from sklearn.preprocessing import StandardScaler\nfrom sklearn.metrics import mean_absolute_error\nimport matplotlib.patches as patch\nimport matplotlib.pyplot as plt\nfrom sklearn.svm import NuSVR\nfrom scipy.stats import norm\nfrom scipy import linalg\nfrom sklearn import svm\nimport tensorflow as tf\nfrom tqdm import tqdm\nimport seaborn as sns\nimport pandas as pd\nimport numpy as np\nimport warnings\nimport random\nimport glob\nimport sys\nimport os",
      "execution_count": null,
      "outputs": []
    },
    {
      "metadata": {
        "_uuid": "ec9e63f88e677ed60bfe5a8de4bb0b2a8be8b00a"
      },
      "cell_type": "markdown",
      "source": " <a id=\"22\"></a> <br>\n##  2-2 Setup"
    },
    {
      "metadata": {
        "_kg_hide-input": true,
        "trusted": true,
        "_uuid": "16768a965c3ced6a76d33642e11ecae18f5977e8"
      },
      "cell_type": "code",
      "source": "%matplotlib inline\n%precision 4\nwarnings.filterwarnings('ignore')\nplt.style.use('ggplot')\nnp.set_printoptions(suppress=True)\npd.set_option(\"display.precision\", 15)",
      "execution_count": null,
      "outputs": []
    },
    {
      "metadata": {
        "_uuid": "9bcec14c7403174f2a9fdab866ea8248aa76328d"
      },
      "cell_type": "markdown",
      "source": " <a id=\"23\"></a> <br>\n## 2-3 Version\n"
    },
    {
      "metadata": {
        "_kg_hide-input": true,
        "trusted": true,
        "_uuid": "4644581a5ce6c2c98ec2668a95037742b189c318"
      },
      "cell_type": "code",
      "source": "print('pandas: {}'.format(pd.__version__))\nprint('numpy: {}'.format(np.__version__))\nprint('Python: {}'.format(sys.version))",
      "execution_count": null,
      "outputs": []
    },
    {
      "metadata": {
        "_uuid": "ccfe7d54dac0cf31125a49b1981d25a69e679db0"
      },
      "cell_type": "markdown",
      "source": "<a id=\"3\"></a> \n<br>\n## 3- Problem Definition\nI think one of the important things when you start a new machine learning project is Defining your problem. that means you should understand business problem.( **Problem Formalization**)\n\nProblem Definition has four steps that have illustrated in the picture below:\n<img src=\"http://s8.picofile.com/file/8338227734/ProblemDefination.png\">\n\n**Current scientific studies related to earthquake forecasting focus on three key points:** \n1. when the event will occur\n1. where it will occur\n1. how large it will be.\n"
    },
    {
      "metadata": {
        "_uuid": "dc84d5445dab932c46e2c5dfe86f2131e98aa0f1"
      },
      "cell_type": "markdown",
      "source": "<a id=\"31\"></a> \n### 3-1 Problem Feature\n\n1.     train.csv - A single, continuous training segment of experimental data.\n1.     test - A folder containing many small segments of test data.\n1.     sample_sumbission.csv - A sample submission file in the correct format.\n"
    },
    {
      "metadata": {
        "_uuid": "449535074de09edf5cdccb5a63539661fff29be6"
      },
      "cell_type": "markdown",
      "source": "<a id=\"32\"></a> \n### 3-2 Aim\nIn this competition, you will address <font color='red'><b>WHEN</b></font> the earthquake will take place"
    },
    {
      "metadata": {
        "_uuid": "184d1004ff1f90fdf9d475cbb37ea94b89dd2567"
      },
      "cell_type": "markdown",
      "source": "<a id=\"33\"></a> \n### 3-3 Variables\n\n1.     acoustic_data - the seismic signal [int16]\n1.     time_to_failure - the time (in seconds) until the next laboratory earthquake [float64]\n1.     seg_id - the test segment ids for which predictions should be made (one prediction per segment)\n"
    },
    {
      "metadata": {
        "_uuid": "81b77e49bae78bad2c31bc2ce101c1fff8296af0"
      },
      "cell_type": "markdown",
      "source": "<a id=\"34\"></a> \n## 3-4 evaluation\nSubmissions are evaluated using the [mean absolute error](https://en.wikipedia.org/wiki/Mean_absolute_error) between the predicted time remaining before the next lab earthquake and the act remaining time.\n<img src='https://wikimedia.org/api/rest_v1/media/math/render/svg/3ef87b78a9af65e308cf4aa9acf6f203efbdeded'>"
    },
    {
      "metadata": {
        "_uuid": "f8a54abda5d2e30c5cdb25c554bef1f8a341482c"
      },
      "cell_type": "markdown",
      "source": "<a id=\"4\"></a> \n## 4- Exploratory Data Analysis(EDA)\n In this section, we'll analysis how to use graphical and numerical techniques to begin uncovering the structure of your data. \n \n* Which variables suggest interesting relationships?\n* Which observations are unusual?\n* Analysis of the features!\nBy the end of the section, you'll be able to answer these questions and more, while generating graphics that are both insightful and beautiful.  then We will review analytical and statistical operations:\n\n*  Data Collection\n*  Visualization\n*  Data Preprocessing\n*  Data Cleaning"
    },
    {
      "metadata": {
        "_uuid": "c90af9d21a49adcbd478c56871149f1282c58b7f"
      },
      "cell_type": "markdown",
      "source": " <a id=\"41\"></a> <br>\n## 4-1 Data Collection"
    },
    {
      "metadata": {
        "_kg_hide-input": true,
        "trusted": true,
        "_uuid": "1c883e09dbe7e4b4d7caeb2cf380ec0f07209531"
      },
      "cell_type": "code",
      "source": "print(os.listdir(\"../input/\"))",
      "execution_count": null,
      "outputs": []
    },
    {
      "metadata": {
        "trusted": true,
        "_uuid": "4b43e8d926e4684a198791c5423b4af2846ecd63"
      },
      "cell_type": "code",
      "source": "train = pd.read_csv('../input/train.csv', dtype={'acoustic_data': np.int16, 'time_to_failure': np.float64})",
      "execution_count": null,
      "outputs": []
    },
    {
      "metadata": {
        "trusted": true,
        "_uuid": "e62c1931fef1dc46e12938d76620dde6cdcb9d60"
      },
      "cell_type": "code",
      "source": "print(\"Train: rows:{} columns:{}\".format(train.shape[0], train.shape[1]))",
      "execution_count": null,
      "outputs": []
    },
    {
      "metadata": {
        "_uuid": "27a4123149135a8288d18f20ae46641edb645a52"
      },
      "cell_type": "markdown",
      "source": "Wow so large for playing with it, let's select just 2000 rows!"
    },
    {
      "metadata": {
        "_kg_hide-input": true,
        "trusted": true,
        "_uuid": "7427d2d9ce7dff9d63a355631a1718a6fb6c5847"
      },
      "cell_type": "code",
      "source": "# we change the size of Dataset due to play with it (just loaded %0001)\nmini_train= pd.read_csv(\"../input/train.csv\",nrows=1000)",
      "execution_count": null,
      "outputs": []
    },
    {
      "metadata": {
        "_kg_hide-input": true,
        "trusted": true,
        "_uuid": "9be60393f64121beb23124bdec3cef638436e788"
      },
      "cell_type": "code",
      "source": "sample_submission = pd.read_csv('../input/sample_submission.csv')\nsample_submission.head()",
      "execution_count": null,
      "outputs": []
    },
    {
      "metadata": {
        "trusted": true,
        "_kg_hide-input": true,
        "_uuid": "1d054476a562f14b8d7e88fd2a8ea3b7b70c371c"
      },
      "cell_type": "code",
      "source": "mini_train.head()",
      "execution_count": null,
      "outputs": []
    },
    {
      "metadata": {
        "trusted": true,
        "_kg_hide-input": true,
        "_uuid": "53df1775b242c8e3374278075809c98dc3b2fb62"
      },
      "cell_type": "code",
      "source": "mini_train.describe()",
      "execution_count": null,
      "outputs": []
    },
    {
      "metadata": {
        "trusted": true,
        "_kg_hide-input": true,
        "_uuid": "b0ba2d971f1b000f2ae343dd684e8789b0fcf6cb"
      },
      "cell_type": "code",
      "source": "mini_train.shape",
      "execution_count": null,
      "outputs": []
    },
    {
      "metadata": {
        "trusted": true,
        "_kg_hide-input": true,
        "_uuid": "590ed0ff228f6161e42ada37ef2345e71f7f40f5"
      },
      "cell_type": "code",
      "source": "mini_train.isna().sum()",
      "execution_count": null,
      "outputs": []
    },
    {
      "metadata": {
        "trusted": true,
        "_uuid": "28b7d475d28834f4947d58894b662cd399f31a8a",
        "_kg_hide-input": true
      },
      "cell_type": "code",
      "source": "type(mini_train)",
      "execution_count": null,
      "outputs": []
    },
    {
      "metadata": {
        "_uuid": "c1eddbf9a17cb7b15b342b4d2d48af7f0ac79006"
      },
      "cell_type": "markdown",
      "source": " <a id=\"42\"></a> <br>\n## 4-2 Visualization"
    },
    {
      "metadata": {
        "trusted": true,
        "_uuid": "70207522d405040466649db4664f6dc9cb75849f"
      },
      "cell_type": "markdown",
      "source": "<a id=\"421\"></a> \n### 4-2-1 hist"
    },
    {
      "metadata": {
        "trusted": true,
        "_uuid": "04c95213d519d272e2ee16d16f873a2f6f22ba78",
        "_kg_hide-input": true
      },
      "cell_type": "code",
      "source": "#acoustic_data means signal\nmini_train[\"acoustic_data\"].hist();",
      "execution_count": null,
      "outputs": []
    },
    {
      "metadata": {
        "trusted": true,
        "_uuid": "9a9d90dfbe0bc0cca02c1d3db752a74fa7b9ca8d"
      },
      "cell_type": "markdown",
      "source": "<a id=\"422\"></a> \n### 4-2-2 scatter_matrix"
    },
    {
      "metadata": {
        "trusted": true,
        "_uuid": "d12937b29a26d3081c61d2128e903c9d7b09db69",
        "_kg_hide-input": true
      },
      "cell_type": "code",
      "source": "pd.plotting.scatter_matrix(mini_train,figsize=(10,10))\nplt.figure()",
      "execution_count": null,
      "outputs": []
    },
    {
      "metadata": {
        "trusted": true,
        "_uuid": "1498698d6c5175ea7a10ff3595d9f0177e1e6861"
      },
      "cell_type": "markdown",
      "source": "<a id=\"423\"></a> \n### 4-2-3 scatter_matrix"
    },
    {
      "metadata": {
        "trusted": true,
        "_uuid": "90cae6c076bcefc862828b177672c2e481b6a15b",
        "_kg_hide-input": true
      },
      "cell_type": "code",
      "source": "sns.jointplot(x='acoustic_data',y='time_to_failure' ,data=mini_train, kind='reg')",
      "execution_count": null,
      "outputs": []
    },
    {
      "metadata": {
        "trusted": true,
        "_uuid": "565eea91ba475dfb935f89052738e98c4338206a"
      },
      "cell_type": "markdown",
      "source": "<a id=\"424\"></a> \n### 4-2-4 Scatter_matrix"
    },
    {
      "metadata": {
        "trusted": true,
        "_uuid": "4cafe1f825c8f5b7d1115411cf6018649ae2c2a1",
        "_kg_hide-input": true
      },
      "cell_type": "code",
      "source": "sns.swarmplot(x='time_to_failure',y='acoustic_data',data=mini_train)",
      "execution_count": null,
      "outputs": []
    },
    {
      "metadata": {
        "trusted": true,
        "_uuid": "ed6ad0832110a8c6b1fe8056fa50e7337b408515"
      },
      "cell_type": "markdown",
      "source": "<a id=\"425\"></a> \n### 4-2-5 Time to failure histogram"
    },
    {
      "metadata": {
        "trusted": true,
        "_uuid": "610c55e007fa11a14fdbc90ba93137766bf1a8ab",
        "_kg_hide-input": true
      },
      "cell_type": "code",
      "source": "plt.plot(mini_train[\"time_to_failure\"], mini_train[\"acoustic_data\"])\nplt.title(\"time_to_failure histogram\")",
      "execution_count": null,
      "outputs": []
    },
    {
      "metadata": {
        "trusted": true,
        "_uuid": "c7c539dd31e2d389813645c30e997f1728e9f926"
      },
      "cell_type": "markdown",
      "source": "<a id=\"426\"></a> \n### 4-2-6 Distplot"
    },
    {
      "metadata": {
        "trusted": true,
        "_uuid": "bd6affcd4ac007edc297dc726b3915112384af35",
        "_kg_hide-input": true
      },
      "cell_type": "code",
      "source": "sns.distplot(mini_train[\"acoustic_data\"])",
      "execution_count": null,
      "outputs": []
    },
    {
      "metadata": {
        "trusted": true,
        "_uuid": "c36884367038758e75c922e8269fc337285949aa"
      },
      "cell_type": "markdown",
      "source": "<a id=\"427\"></a> \n### 4-2-7 kdeplot"
    },
    {
      "metadata": {
        "trusted": true,
        "_uuid": "f3c21e9aa2dae18fbb2d949f44a0ed728b987daf",
        "_kg_hide-input": true
      },
      "cell_type": "code",
      "source": "sns.kdeplot(mini_train[\"acoustic_data\"] )",
      "execution_count": null,
      "outputs": []
    },
    {
      "metadata": {
        "_uuid": "8a436a7a7f1391cb78ae3cec6c8d5adb42f41bd2"
      },
      "cell_type": "raw",
      "source": ""
    },
    {
      "metadata": {
        "_uuid": "8afaaae9f83971dd442a16af434d88318d82c352"
      },
      "cell_type": "markdown",
      "source": " <a id=\"43\"></a> <br>\n## 4-3 Data Preprocessing\n"
    },
    {
      "metadata": {
        "trusted": true,
        "_kg_hide-input": true,
        "_uuid": "22d795b93a4cfc8fcd113265b8c37971331b5a2d"
      },
      "cell_type": "code",
      "source": "mini_train.head()",
      "execution_count": null,
      "outputs": []
    },
    {
      "metadata": {
        "trusted": true,
        "_kg_hide-input": true,
        "_uuid": "f83bc9719d71a4ba3f437a350456400710d99de1"
      },
      "cell_type": "code",
      "source": "mini_train.describe()",
      "execution_count": null,
      "outputs": []
    },
    {
      "metadata": {
        "_kg_hide-input": true,
        "trusted": true,
        "_uuid": "ca9ae169e960fddc581b8da1b15c7e79d8bbe972"
      },
      "cell_type": "code",
      "source": "mini_train.acoustic_data.describe()",
      "execution_count": null,
      "outputs": []
    },
    {
      "metadata": {
        "trusted": true,
        "_kg_hide-input": true,
        "_uuid": "494ed481854c35f709b888c158646983eb126b3e"
      },
      "cell_type": "code",
      "source": "mini_train.shape",
      "execution_count": null,
      "outputs": []
    },
    {
      "metadata": {
        "trusted": true,
        "_kg_hide-input": true,
        "_uuid": "6adc1fb6f7ef818946843b3698583ade2458a218"
      },
      "cell_type": "code",
      "source": "mini_train.isna().sum()",
      "execution_count": null,
      "outputs": []
    },
    {
      "metadata": {
        "_uuid": "0372c7d4568f9dc1a9536e2891b52203283eb435"
      },
      "cell_type": "markdown",
      "source": "### 4-3-1 Some Feature engineering"
    },
    {
      "metadata": {
        "trusted": true,
        "_uuid": "c57490908f95d027596c82953c3b5c85dbdacf1a"
      },
      "cell_type": "code",
      "source": "# based on https://www.kaggle.com/inversion/basic-feature-benchmark\n\nrows = 100\nsegments = int(np.floor(mini_train.shape[0] / rows))\n\nX_train = pd.DataFrame(index=range(segments), dtype=np.float64,\n                       columns=['ave', 'std', 'max', 'min'])\ny_train = pd.DataFrame(index=range(segments), dtype=np.float64,\n                       columns=['time_to_failure'])\n\nfor segment in tqdm(range(segments)):\n    seg = mini_train.iloc[segment*rows:segment*rows+rows]\n    x = seg['acoustic_data'].values\n    y = seg['time_to_failure'].values[-1]\n    \n    y_train.loc[segment, 'time_to_failure'] = y\n    \n    X_train.loc[segment, 'ave'] = x.mean()\n    X_train.loc[segment, 'std'] = x.std()\n    X_train.loc[segment, 'max'] = x.max()\n    X_train.loc[segment, 'min'] = x.min()",
      "execution_count": null,
      "outputs": []
    },
    {
      "metadata": {
        "trusted": true,
        "_uuid": "d145e3e1c64770935294ab5049f837ed52699279"
      },
      "cell_type": "code",
      "source": "X_train.head()",
      "execution_count": null,
      "outputs": []
    },
    {
      "metadata": {
        "_uuid": "50ec9d85dd2653fc37db395ca963b1a81c2732ac"
      },
      "cell_type": "raw",
      "source": ""
    },
    {
      "metadata": {
        "_uuid": "435fe67f1a833ad62045a29288c440c6952d315c"
      },
      "cell_type": "markdown",
      "source": "you can follow me on:\n> ###### [ GitHub](https://github.com/mjbahmani/)\n> ###### [Kaggle](https://www.kaggle.com/mjbahmani/)\n\n <b>I hope you find this kernel helpful and some <font color='red'>UPVOTES</font> would be very much appreciated.<b/>\n "
    },
    {
      "metadata": {
        "_uuid": "87a2ff7337efe70afed219d3e4df4baf5763524e"
      },
      "cell_type": "markdown",
      "source": "<a id=\"5\"></a> <br>\n# 5-References\n1. [Basic Probability Data Science with examples](https://www.analyticsvidhya.com/blog/2017/02/basic-probability-data-science-with-examples/)\n1. [How to self learn statistics of data science](https://medium.com/ml-research-lab/how-to-self-learn-statistics-of-data-science-c05db1f7cfc3)\n1. [Probability statistics for data science- series](https://towardsdatascience.com/probability-statistics-for-data-science-series-83b94353ca48)\n1. [basic-statistics-in-python-probability](https://www.dataquest.io/blog/basic-statistics-in-python-probability/)\n1. [tutorialspoint](https://www.tutorialspoint.com/python/python_poisson_distribution.htm)\n\n## 5-1 Kaggle Kernels\nIn the end , I want to thank all the kernels I've used in this notebook\n1. [basic-feature-benchmark](https://www.kaggle.com/inversion/basic-feature-benchmark)"
    },
    {
      "metadata": {
        "_uuid": "6ef2c570b8457a851fc753134b587d61a4d9082e"
      },
      "cell_type": "markdown",
      "source": "Go to first step: [Course Home Page](https://www.kaggle.com/mjbahmani/10-steps-to-become-a-data-scientist)\n\nGo to next step : [Titanic](https://www.kaggle.com/mjbahmani/a-comprehensive-ml-workflow-with-python)\n"
    },
    {
      "metadata": {
        "_uuid": "c1f7f7d015529da63ac495e5c2dcd08dc563e249"
      },
      "cell_type": "markdown",
      "source": "# Not Completed yet!!!"
    }
  ],
  "metadata": {
    "kernelspec": {
      "display_name": "Python 3",
      "language": "python",
      "name": "python3"
    },
    "language_info": {
      "name": "python",
      "version": "3.6.6",
      "mimetype": "text/x-python",
      "codemirror_mode": {
        "name": "ipython",
        "version": 3
      },
      "pygments_lexer": "ipython3",
      "nbconvert_exporter": "python",
      "file_extension": ".py"
    }
  },
  "nbformat": 4,
  "nbformat_minor": 1
}