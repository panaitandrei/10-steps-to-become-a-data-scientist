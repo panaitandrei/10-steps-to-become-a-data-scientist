{
  "cells": [
    {
      "metadata": {
        "_uuid": "866e7eb37a03e1a48e71ba4e4c8f4baca43472e8"
      },
      "cell_type": "markdown",
      "source": " # <div align=\"center\">  The Data Scientist’s Toolbox Tutorial - 1 </div>\n ### <div align=\"center\"><b>Quite Practical and Far from any Theoretical Concepts</b></div>\n \n<div style=\"text-align:center\">last update: <b>12/03/2018</b></div>"
    },
    {
      "metadata": {
        "_uuid": "e02d495da0fb0ad24e0341e91848f4c4cfc35bdb"
      },
      "cell_type": "markdown",
      "source": "you may be interested have a look at it: \n>[**The Data Scientist’s Toolbox Tutorial - 2**](https://www.kaggle.com/mjbahmani/the-data-scientist-s-toolbox-tutorial-2)\n\n---------------------------------------------------------------------\nFork, Run and Follow this kernel on GitHub:\n> ###### [ GitHub](https://github.com/mjbahmani/10-steps-to-become-a-data-scientist)\n\n\n-------------------------------------------------------------------------------------------------------------\n **I hope you find this kernel helpful and some <font color=\"red\">UPVOTES</font> would be very much appreciated**\n \n -----------\n"
    },
    {
      "metadata": {
        "_uuid": "85b27cf82d3023fd69c338df2be7afb2d7afaf32"
      },
      "cell_type": "markdown",
      "source": " <a id=\"top\"></a> <br>\n**Notebook Content**\n1. [Introduction](#1)\n    1. [Import](#2)\n    1. [Version](#3)\n    1. [setup](#4)\n1. [Python](#5)\n    1. [Python Syntax compared to other programming languages](#6)\n    1. [Python: Basics](#7)\n        1. [Variables](#8)\n        1. [Operators](#9)\n    1. [Functions](#10)\n    1. [Types and Sequences](#11)\n    1. [More on Strings](#12)\n    1. [Reading and Writing CSV files](#13)\n    1. [Dates and Times](#14)\n    1. [Objects and map()](#15)\n    1. [Lambda and List Comprehensions](#16)\n    1. [OOP](#17)\n        1. [Inheritance](#18)\n    1. [ Python JSON](#19)\n        1. [Convert from Python to JSON](#20)\n    1. [Python PIP](#21)\n        1. [Install PIP](#22)\n    1. [Python Try Except](#23)\n    1. [Python Iterators](#24)\n        1. [Looping Through an Iterator](#25)\n    1. [Dictionary](#26)\n    1. [Tuples](#27)\n    1. [Set](#28)\n        1. [Add Items](#29)\n 1. [Python Packages](#30)\n1. [Numpy](#31)\n1. [Pandas](#41)\n1. [CheatSheet](#60)\n1. [Conclusion](#61)\n1. [References](#62)"
    },
    {
      "metadata": {
        "_uuid": "6b741a5af31141057f72904b11954acfb57f5772"
      },
      "cell_type": "markdown",
      "source": "<a id=\"1\"></a> <br>\n## 1-Introduction"
    },
    {
      "metadata": {
        "_uuid": "1e7678d8e7831683d0aefffdab152562c18c3188"
      },
      "cell_type": "markdown",
      "source": "In this kernel, we have a comprehensive tutorials for some important packages in python after that you can read my other kernels about machine learning."
    },
    {
      "metadata": {
        "_uuid": "918161eb40e34a545c75850d6a7dee64d9bf5cd1"
      },
      "cell_type": "markdown",
      "source": " <img src=\"http://s8.picofile.com/file/8340141626/packages1.png\"  height=\"420\" width=\"420\">\n \n ###### [Go to top](#top)"
    },
    {
      "metadata": {
        "_uuid": "953258de456acd2780aba3d18c1fc817ae689ad7"
      },
      "cell_type": "markdown",
      "source": "<a id=\"2\"></a> <br>\n## 1-1 Import"
    },
    {
      "metadata": {
        "_uuid": "4f8b6d44c99e1141bd001556f554c7efc6b77acf",
        "trusted": true,
        "_kg_hide-input": true
      },
      "cell_type": "code",
      "source": "from plotly.offline import download_plotlyjs, init_notebook_mode, plot, iplot\nimport matplotlib.pyplot as plt\nimport plotly.graph_objs as go\nimport scipy.stats as stats\nimport plotly.plotly as py\nimport seaborn as sns\nimport pandas as pd\nimport numpy as np\nimport matplotlib\nimport warnings\nimport sklearn\nimport scipy\nimport json\nimport sys\nimport csv\nimport os",
      "execution_count": 1,
      "outputs": []
    },
    {
      "metadata": {
        "_uuid": "9a30328de5327e576716f7a57ef119e63a6e77c3"
      },
      "cell_type": "markdown",
      "source": "<a id=\"3\"></a> <br>\n## 1-2 Version"
    },
    {
      "metadata": {
        "trusted": true,
        "_uuid": "3925ca44958df0a27f3b51de1dba2a18a2650110",
        "_kg_hide-input": true
      },
      "cell_type": "code",
      "source": "print('matplotlib: {}'.format(matplotlib.__version__))\nprint('sklearn: {}'.format(sklearn.__version__))\nprint('scipy: {}'.format(scipy.__version__))\nprint('seaborn: {}'.format(sns.__version__))\nprint('pandas: {}'.format(pd.__version__))\nprint('numpy: {}'.format(np.__version__))\nprint('Python: {}'.format(sys.version))",
      "execution_count": 2,
      "outputs": [
        {
          "output_type": "stream",
          "text": "matplotlib: 2.2.3\nsklearn: 0.20.1\nscipy: 1.1.0\nseaborn: 0.9.0\npandas: 0.23.4\nnumpy: 1.15.4\nPython: 3.6.6 |Anaconda, Inc.| (default, Oct  9 2018, 12:34:16) \n[GCC 7.3.0]\n",
          "name": "stdout"
        }
      ]
    },
    {
      "metadata": {
        "_uuid": "51a98c51b1bf27253f6521a2951a5d61625642bf"
      },
      "cell_type": "markdown",
      "source": "<a id=\"4\"></a> <br>\n##  1-3 Setup"
    },
    {
      "metadata": {
        "trusted": true,
        "_uuid": "cbf46ff8ec8faf08c4aa9c84eb796ffcf0a8c4c8",
        "_kg_hide-input": true
      },
      "cell_type": "code",
      "source": "warnings.filterwarnings('ignore')\nsns.set(color_codes=True)\nplt.style.available\n%matplotlib inline\n%precision 2",
      "execution_count": 3,
      "outputs": [
        {
          "output_type": "execute_result",
          "execution_count": 3,
          "data": {
            "text/plain": "'%.2f'"
          },
          "metadata": {}
        }
      ]
    },
    {
      "metadata": {
        "_uuid": "5efeff35ad9951e40551d0763eaf26f08bb4119e"
      },
      "cell_type": "markdown",
      "source": " <a id=\"5\"></a> <br>\n# 2-Python\n\n**Python** is a modern, robust, high level programming language. It is very easy to pick up even if you are completely new to programming.\n\nIt is used for:\n\n1. Web development (server-side),\n1. Software development,\n1. Mathematics,\n1. System scripting.\n1. Data Science\n\n<a id=\"6\"></a> <br>\n## 2-1 Python Syntax compared to other programming languages\n\n1. Python was designed to for readability, and has some similarities to the English language with influence from mathematics.\n1. Python uses new lines to complete a command, as opposed to other programming languages which often use semicolons or parentheses.\n1. Python relies on indentation, using whitespace, to define scope; such as the scope of loops, functions and classes. Other programming languages often use curly-brackets for this purpose.\n###### [Go to top](#top)"
    },
    {
      "metadata": {
        "_uuid": "a276b26993c902362e522d8a29a67ef670db103d"
      },
      "cell_type": "markdown",
      "source": "<a id=\"7\"></a> <br>\n# 2-2 Python: Basics\n"
    },
    {
      "metadata": {
        "_uuid": "732b4733f620d36d4ac78b27261933559f7086de",
        "trusted": true,
        "_kg_hide-input": true
      },
      "cell_type": "code",
      "source": "import this",
      "execution_count": 4,
      "outputs": [
        {
          "output_type": "stream",
          "text": "The Zen of Python, by Tim Peters\n\nBeautiful is better than ugly.\nExplicit is better than implicit.\nSimple is better than complex.\nComplex is better than complicated.\nFlat is better than nested.\nSparse is better than dense.\nReadability counts.\nSpecial cases aren't special enough to break the rules.\nAlthough practicality beats purity.\nErrors should never pass silently.\nUnless explicitly silenced.\nIn the face of ambiguity, refuse the temptation to guess.\nThere should be one-- and preferably only one --obvious way to do it.\nAlthough that way may not be obvious at first unless you're Dutch.\nNow is better than never.\nAlthough never is often better than *right* now.\nIf the implementation is hard to explain, it's a bad idea.\nIf the implementation is easy to explain, it may be a good idea.\nNamespaces are one honking great idea -- let's do more of those!\n",
          "name": "stdout"
        }
      ]
    },
    {
      "metadata": {
        "_uuid": "46d2f5efcea352bda6ee7f8721be0001548440f1"
      },
      "cell_type": "markdown",
      "source": "<a id=\"8\"></a> <br>\n### 2-2-1 Variables\nA name that is used to denote something or a value is called a variable. In python, variables can be declared and values can be assigned to it as follows,"
    },
    {
      "metadata": {
        "_uuid": "52c065c046f96806741321dcc3e40dffec8f75fe",
        "trusted": true,
        "_kg_hide-input": true
      },
      "cell_type": "code",
      "source": "x = 2\ny = 5\nxy = 'Hey'",
      "execution_count": 5,
      "outputs": []
    },
    {
      "metadata": {
        "_uuid": "762c34fcdeed69fc79fb84d7bb86c5baf8f9152e"
      },
      "cell_type": "markdown",
      "source": "<a id=\"9\"></a> <br>\n### 2-2-2 Operators"
    },
    {
      "metadata": {
        "_uuid": "9dcd3e4436aa8050f116b6f7157cc986e762c794"
      },
      "cell_type": "markdown",
      "source": "| Symbol | Task Performed |\n|----|---|\n| +  | Addition |\n| -  | Subtraction |\n| /  | division |\n| %  | mod |\n| *  | multiplication |\n| //  | floor division |\n| **  | to the power of |\n\n### Relational Operators\n| Symbol | Task Performed |\n|----|---|\n| == | True, if it is equal |\n| !=  | True, if not equal to |\n| < | less than |\n| > | greater than |\n| <=  | less than or equal to |\n| >=  | greater than or equal to |\n### Bitwise Operators\n| Symbol | Task Performed |\n|----|---|\n| &  | Logical And |\n| l  | Logical OR |\n| ^  | XOR |\n| ~  | Negate |\n| >>  | Right shift |\n| <<  | Left shift |\n\n###### [Go to top](#top)"
    },
    {
      "metadata": {
        "_uuid": "281c637be82f68519f371353afa603fe842bd5fa"
      },
      "cell_type": "markdown",
      "source": "<a id=\"10\"></a> <br>\n# 2-3 Python : Functions"
    },
    {
      "metadata": {
        "_uuid": "b513caa4821bc20e6b833577ba4d894bce011e32"
      },
      "cell_type": "markdown",
      "source": "<br>\n`add_numbers` is a function that takes two numbers and adds them together."
    },
    {
      "metadata": {
        "_uuid": "700ebb9c4d8c7c57948194e3d848b4b480e06f9a",
        "trusted": true,
        "_kg_hide-input": true
      },
      "cell_type": "code",
      "source": "def add_numbers(x, y):\n    return x + y\n\nadd_numbers(1, 2)",
      "execution_count": 6,
      "outputs": [
        {
          "output_type": "execute_result",
          "execution_count": 6,
          "data": {
            "text/plain": "3"
          },
          "metadata": {}
        }
      ]
    },
    {
      "metadata": {
        "_uuid": "0fb081fa2f33e01e616a82aad306ab6490f48a03"
      },
      "cell_type": "markdown",
      "source": "<br>\n`add_numbers` updated to take an optional 3rd parameter. Using `print` allows printing of multiple expressions within a single cell."
    },
    {
      "metadata": {
        "_uuid": "b7dd7bc4f7f52acac95ac94586c74f4b59a22acb",
        "trusted": true,
        "_kg_hide-input": true
      },
      "cell_type": "code",
      "source": "def add_numbers(x,y,z=None):\n    if (z==None):\n        return x+y\n    else:\n        return x+y+z\n\nprint(add_numbers(1, 2))\nprint(add_numbers(1, 2, 3))",
      "execution_count": 7,
      "outputs": [
        {
          "output_type": "stream",
          "text": "3\n6\n",
          "name": "stdout"
        }
      ]
    },
    {
      "metadata": {
        "_uuid": "51d91959b8088baa0884eaf191edc9520e012625"
      },
      "cell_type": "markdown",
      "source": "<br>\n`add_numbers` updated to take an optional flag parameter."
    },
    {
      "metadata": {
        "_uuid": "8f109910dd7dacbac0212d03b3a0d55e8d92b4bf",
        "trusted": true,
        "_kg_hide-input": true
      },
      "cell_type": "code",
      "source": "def add_numbers(x, y, z=None, flag=False):\n    if (flag):\n        print('Flag is true!')\n    if (z==None):\n        return x + y\n    else:\n        return x + y + z\n    \nprint(add_numbers(1, 2, flag=True))",
      "execution_count": 8,
      "outputs": [
        {
          "output_type": "stream",
          "text": "Flag is true!\n3\n",
          "name": "stdout"
        }
      ]
    },
    {
      "metadata": {
        "_uuid": "052a1ebfb11cba627a4ed7ae13360e15cfd2f5bc"
      },
      "cell_type": "markdown",
      "source": "<br>\n**Assign function** `add_numbers` to variable `a`."
    },
    {
      "metadata": {
        "_uuid": "774773afde862fefb51b22d9e676b44744410c6f",
        "trusted": true,
        "_kg_hide-input": true
      },
      "cell_type": "code",
      "source": "def add_numbers(x,y):\n    return x+y\n\na = add_numbers\na(1,2)",
      "execution_count": 9,
      "outputs": [
        {
          "output_type": "execute_result",
          "execution_count": 9,
          "data": {
            "text/plain": "3"
          },
          "metadata": {}
        }
      ]
    },
    {
      "metadata": {
        "_uuid": "54244074f574884d9c241727f559466cdc646793"
      },
      "cell_type": "markdown",
      "source": "<a id=\"11\"></a> <br>\n# 2-4 Python : Types and Sequences"
    },
    {
      "metadata": {
        "_uuid": "fe3bfa4b99b20b534a24cd4b04953de4c81a2032"
      },
      "cell_type": "markdown",
      "source": "<br>\nUse `type` to return the object's type."
    },
    {
      "metadata": {
        "_uuid": "ea5486e825425487854b66e135142787a8696547",
        "trusted": true,
        "_kg_hide-input": true
      },
      "cell_type": "code",
      "source": "type('This is a string')",
      "execution_count": 10,
      "outputs": [
        {
          "output_type": "execute_result",
          "execution_count": 10,
          "data": {
            "text/plain": "str"
          },
          "metadata": {}
        }
      ]
    },
    {
      "metadata": {
        "_uuid": "6b1b6307a4b2363c5f13c86a94a6c6ed83cf05d1",
        "trusted": true,
        "_kg_hide-input": true
      },
      "cell_type": "code",
      "source": "type(None)",
      "execution_count": 11,
      "outputs": [
        {
          "output_type": "execute_result",
          "execution_count": 11,
          "data": {
            "text/plain": "NoneType"
          },
          "metadata": {}
        }
      ]
    },
    {
      "metadata": {
        "_uuid": "1bfe51959705a633d7ae10b8e807ba752809f8a2",
        "trusted": true,
        "_kg_hide-input": true
      },
      "cell_type": "code",
      "source": "type(1)",
      "execution_count": 12,
      "outputs": [
        {
          "output_type": "execute_result",
          "execution_count": 12,
          "data": {
            "text/plain": "int"
          },
          "metadata": {}
        }
      ]
    },
    {
      "metadata": {
        "_uuid": "9c6ea01bf5fac295d6ca5dea7a867fd769d9854f",
        "trusted": true,
        "_kg_hide-input": true
      },
      "cell_type": "code",
      "source": "type(1.0)",
      "execution_count": 13,
      "outputs": [
        {
          "output_type": "execute_result",
          "execution_count": 13,
          "data": {
            "text/plain": "float"
          },
          "metadata": {}
        }
      ]
    },
    {
      "metadata": {
        "_uuid": "08e7ecceb2d59d5964d039b1307736a106abef30",
        "trusted": true,
        "_kg_hide-input": true
      },
      "cell_type": "code",
      "source": "type(add_numbers)",
      "execution_count": 14,
      "outputs": [
        {
          "output_type": "execute_result",
          "execution_count": 14,
          "data": {
            "text/plain": "function"
          },
          "metadata": {}
        }
      ]
    },
    {
      "metadata": {
        "_uuid": "843a9232374917b366c4afadc94fd123e13bc2cf"
      },
      "cell_type": "markdown",
      "source": "<br>\nTuples are an **immutable** data structure (cannot be altered)."
    },
    {
      "metadata": {
        "_uuid": "02c0f949470c05c302705b8cbde9dbc4c5e9ec58",
        "trusted": true,
        "_kg_hide-input": true
      },
      "cell_type": "code",
      "source": "x = (1, 'a', 2, 'b')\ntype(x)",
      "execution_count": 15,
      "outputs": [
        {
          "output_type": "execute_result",
          "execution_count": 15,
          "data": {
            "text/plain": "tuple"
          },
          "metadata": {}
        }
      ]
    },
    {
      "metadata": {
        "_uuid": "32e3d57ead5741f615aaf0ec276583163a6fc1a7"
      },
      "cell_type": "markdown",
      "source": "<br>\nLists are a mutable data structure."
    },
    {
      "metadata": {
        "_uuid": "e559da4fdd4adcf955e36ee33209728c7f04c873",
        "trusted": true,
        "_kg_hide-input": true
      },
      "cell_type": "code",
      "source": "x = [1, 'a', 2, 'b']\ntype(x)",
      "execution_count": 16,
      "outputs": [
        {
          "output_type": "execute_result",
          "execution_count": 16,
          "data": {
            "text/plain": "list"
          },
          "metadata": {}
        }
      ]
    },
    {
      "metadata": {
        "_uuid": "1c25590aa57c37e383007ea43e9aebd08dbb7ef8"
      },
      "cell_type": "markdown",
      "source": "<br>\nUse `append` to append an object to a list."
    },
    {
      "metadata": {
        "_uuid": "46b3996bb68391469648cfaf732d9f891aad8e76",
        "trusted": true,
        "_kg_hide-input": true
      },
      "cell_type": "code",
      "source": "x.append(3.3)\nprint(x)",
      "execution_count": 17,
      "outputs": [
        {
          "output_type": "stream",
          "text": "[1, 'a', 2, 'b', 3.3]\n",
          "name": "stdout"
        }
      ]
    },
    {
      "metadata": {
        "_uuid": "a0a9f9ad271ff5cab43f7d95c00f917dfa42cda3"
      },
      "cell_type": "markdown",
      "source": "<br>\nThis is an example of how to loop through each item in the list."
    },
    {
      "metadata": {
        "_uuid": "fdbcbc6f491284146fb7ec2288a48dca70d028f0",
        "trusted": true,
        "_kg_hide-input": true
      },
      "cell_type": "code",
      "source": "for item in x:\n    print(item)",
      "execution_count": 18,
      "outputs": [
        {
          "output_type": "stream",
          "text": "1\na\n2\nb\n3.3\n",
          "name": "stdout"
        }
      ]
    },
    {
      "metadata": {
        "_uuid": "a863bf6c33d37823812c0d373bc685f8018328c3"
      },
      "cell_type": "markdown",
      "source": "<br>\nOr using the indexing operator:"
    },
    {
      "metadata": {
        "_uuid": "34ebdc7a81ca55c6d96576e8e1032bb2e2a8c38d",
        "trusted": true,
        "_kg_hide-input": true
      },
      "cell_type": "code",
      "source": "i=0\nwhile( i != len(x) ):\n    print(x[i])\n    i = i + 1",
      "execution_count": 19,
      "outputs": [
        {
          "output_type": "stream",
          "text": "1\na\n2\nb\n3.3\n",
          "name": "stdout"
        }
      ]
    },
    {
      "metadata": {
        "_uuid": "7accd0a14f6f94b5f8f87c28e772fd7e70f5aa89"
      },
      "cell_type": "markdown",
      "source": "<br>\nUse `+` to concatenate lists."
    },
    {
      "metadata": {
        "_uuid": "2e2d33c027d2d2e66444ea8c5bc16ac182604699",
        "trusted": true,
        "_kg_hide-input": true
      },
      "cell_type": "code",
      "source": "[1,2] + [3,4]",
      "execution_count": 20,
      "outputs": [
        {
          "output_type": "execute_result",
          "execution_count": 20,
          "data": {
            "text/plain": "[1, 2, 3, 4]"
          },
          "metadata": {}
        }
      ]
    },
    {
      "metadata": {
        "_uuid": "8dac836d3bfd72d4ba18e0ad35e918fd5578e0c4"
      },
      "cell_type": "markdown",
      "source": "<br>\nUse `*` to repeat lists."
    },
    {
      "metadata": {
        "_uuid": "33fbab44facf2994b9a1f4f842b5b68db790c60c",
        "trusted": true,
        "_kg_hide-input": true
      },
      "cell_type": "code",
      "source": "[1]*3",
      "execution_count": 21,
      "outputs": [
        {
          "output_type": "execute_result",
          "execution_count": 21,
          "data": {
            "text/plain": "[1, 1, 1]"
          },
          "metadata": {}
        }
      ]
    },
    {
      "metadata": {
        "_uuid": "1bf6aa261fae9ee56cc8e2ec7ba789818619bfc7"
      },
      "cell_type": "markdown",
      "source": "<br>\nUse the `in` operator to check if something is inside a list."
    },
    {
      "metadata": {
        "_uuid": "9dcaf39b71a922a3a61f6565cb9025fe89291cc8",
        "trusted": true,
        "_kg_hide-input": true
      },
      "cell_type": "code",
      "source": "1 in [1, 2, 3]",
      "execution_count": 22,
      "outputs": [
        {
          "output_type": "execute_result",
          "execution_count": 22,
          "data": {
            "text/plain": "True"
          },
          "metadata": {}
        }
      ]
    },
    {
      "metadata": {
        "_uuid": "2fdc7e3a4da86bf2fc3daef510d521ff4f9e780a"
      },
      "cell_type": "markdown",
      "source": "<br>\nNow let's look at strings. Use bracket notation to slice a string.\n\n###### [Go to top](#top)"
    },
    {
      "metadata": {
        "_uuid": "31a527ad3d4ac52203a81f2aa05d6ccbcbefd7d0",
        "trusted": true,
        "_kg_hide-input": true
      },
      "cell_type": "code",
      "source": "x = 'This is a string'\nprint(x[0]) #first character\nprint(x[0:1]) #first character, but we have explicitly set the end character\nprint(x[0:2]) #first two characters\n",
      "execution_count": 23,
      "outputs": [
        {
          "output_type": "stream",
          "text": "T\nT\nTh\n",
          "name": "stdout"
        }
      ]
    },
    {
      "metadata": {
        "_uuid": "a2da025858712f120a1708fa8de0da26c6b8b1de"
      },
      "cell_type": "markdown",
      "source": "<br>\nThis will return the last element of the string."
    },
    {
      "metadata": {
        "_uuid": "24cb16eaabaa7e13b0a4a69dfc6cdf71ffb0238b",
        "trusted": true,
        "_kg_hide-input": true
      },
      "cell_type": "code",
      "source": "x[-1]",
      "execution_count": 24,
      "outputs": [
        {
          "output_type": "execute_result",
          "execution_count": 24,
          "data": {
            "text/plain": "'g'"
          },
          "metadata": {}
        }
      ]
    },
    {
      "metadata": {
        "_uuid": "892cb74f3b1ba32053e1b854681e9520d9ae7578"
      },
      "cell_type": "markdown",
      "source": "<br>\nThis will return the slice starting from the 4th element from the end and stopping before the 2nd element from the end."
    },
    {
      "metadata": {
        "_uuid": "b947154182b9eb7aa08f5986eb768020e9eefdcb",
        "trusted": true,
        "_kg_hide-input": true
      },
      "cell_type": "code",
      "source": "x[-4:-2]",
      "execution_count": 25,
      "outputs": [
        {
          "output_type": "execute_result",
          "execution_count": 25,
          "data": {
            "text/plain": "'ri'"
          },
          "metadata": {}
        }
      ]
    },
    {
      "metadata": {
        "_uuid": "7d88463b1e8c9555030af32e1e99cdd522c40610"
      },
      "cell_type": "markdown",
      "source": "<br>\nThis is a slice from the beginning of the string and stopping before the 3rd element."
    },
    {
      "metadata": {
        "_uuid": "961b4829e231286702b78c13f6ce68c780df7c56",
        "trusted": true,
        "_kg_hide-input": true
      },
      "cell_type": "code",
      "source": "x[:3]",
      "execution_count": 26,
      "outputs": [
        {
          "output_type": "execute_result",
          "execution_count": 26,
          "data": {
            "text/plain": "'Thi'"
          },
          "metadata": {}
        }
      ]
    },
    {
      "metadata": {
        "_uuid": "d365c72e42116bbd6c7ae960d77af0d89d35f201"
      },
      "cell_type": "markdown",
      "source": "<br>\nAnd this is a slice starting from the 3rd element of the string and going all the way to the end."
    },
    {
      "metadata": {
        "_uuid": "82c83cb0bfe09b269037a97ef0b00cd66254ab89",
        "trusted": true,
        "_kg_hide-input": true
      },
      "cell_type": "code",
      "source": "x[3:]",
      "execution_count": 27,
      "outputs": [
        {
          "output_type": "execute_result",
          "execution_count": 27,
          "data": {
            "text/plain": "'s is a string'"
          },
          "metadata": {}
        }
      ]
    },
    {
      "metadata": {
        "_uuid": "b3914291465c80995a05d30f2842f38b1e2d7255",
        "trusted": true,
        "_kg_hide-input": true
      },
      "cell_type": "code",
      "source": "firstname = 'MJ'\nlastname = 'Bahmani'\n\nprint(firstname + ' ' + lastname)\nprint(firstname*3)\nprint('mj' in firstname)\n",
      "execution_count": 28,
      "outputs": [
        {
          "output_type": "stream",
          "text": "MJ Bahmani\nMJMJMJ\nFalse\n",
          "name": "stdout"
        }
      ]
    },
    {
      "metadata": {
        "_uuid": "5e92142f11b79daaa369a0a031bab1979602457e"
      },
      "cell_type": "markdown",
      "source": "<br>\n`split` returns a list of all the words in a string, or a list split on a specific character."
    },
    {
      "metadata": {
        "_uuid": "63a7aea0881d73a1c2caab2b2bc0bf09d46e0402",
        "trusted": true,
        "_kg_hide-input": true
      },
      "cell_type": "code",
      "source": "firstname = 'Mr Dr Mj Bahmani'.split(' ')[0] # [0] selects the first element of the list\nlastname = 'Mr Dr Mj Bahmani'.split(' ')[-1] # [-1] selects the last element of the list\nprint(firstname)\nprint(lastname)",
      "execution_count": 29,
      "outputs": [
        {
          "output_type": "stream",
          "text": "Mr\nBahmani\n",
          "name": "stdout"
        }
      ]
    },
    {
      "metadata": {
        "_uuid": "a46edc198922ad4957bcdc3d990f43aaae35a464",
        "trusted": true,
        "_kg_hide-input": true
      },
      "cell_type": "code",
      "source": "'MJ' + str(2)",
      "execution_count": 30,
      "outputs": [
        {
          "output_type": "execute_result",
          "execution_count": 30,
          "data": {
            "text/plain": "'MJ2'"
          },
          "metadata": {}
        }
      ]
    },
    {
      "metadata": {
        "_uuid": "50a1372d759bcc6e0b4d8852588ba9fe1c3a1200"
      },
      "cell_type": "markdown",
      "source": "<br>\n**Dictionaries** associate keys with values."
    },
    {
      "metadata": {
        "_uuid": "b6dd088e810aca788fc74f76d23777b2115e12d0",
        "trusted": true,
        "_kg_hide-input": true
      },
      "cell_type": "code",
      "source": "x = {'MJ Bahmani': 'Mohamadjavad.bahmani@gmail.com', 'irmatlab': 'irmatlab.ir@gmail.com'}\nx['MJ Bahmani'] # Retrieve a value by using the indexing operator\n",
      "execution_count": 31,
      "outputs": [
        {
          "output_type": "execute_result",
          "execution_count": 31,
          "data": {
            "text/plain": "'Mohamadjavad.bahmani@gmail.com'"
          },
          "metadata": {}
        }
      ]
    },
    {
      "metadata": {
        "_uuid": "6ec5106de063d06587a532835173cb3e15c4c074",
        "trusted": true,
        "_kg_hide-input": true
      },
      "cell_type": "code",
      "source": "x['MJ Bahmani'] = None\nx['MJ Bahmani']",
      "execution_count": 32,
      "outputs": []
    },
    {
      "metadata": {
        "_uuid": "909deaebc50f94808fbdbe831ffbe1137066a2fe"
      },
      "cell_type": "markdown",
      "source": "<br>\nIterate over all of the keys:"
    },
    {
      "metadata": {
        "_uuid": "993e0c88238de00475ddd22a2f4594ce14aa936d",
        "scrolled": true,
        "trusted": true,
        "_kg_hide-input": true
      },
      "cell_type": "code",
      "source": "for name in x:\n    print(x[name])",
      "execution_count": 33,
      "outputs": [
        {
          "output_type": "stream",
          "text": "None\nirmatlab.ir@gmail.com\n",
          "name": "stdout"
        }
      ]
    },
    {
      "metadata": {
        "_uuid": "9248f6bfe90a9c867ca248b08ad81c8626eaf689"
      },
      "cell_type": "markdown",
      "source": "<br>\nIterate over all of the values:"
    },
    {
      "metadata": {
        "_uuid": "9f995195b06da4b3e64cabbe950d19570fbb910c",
        "trusted": true
      },
      "cell_type": "code",
      "source": "for email in x.values():\n    print(email)",
      "execution_count": 34,
      "outputs": [
        {
          "output_type": "stream",
          "text": "None\nirmatlab.ir@gmail.com\n",
          "name": "stdout"
        }
      ]
    },
    {
      "metadata": {
        "_uuid": "147f360dd1e8f878ae393c46648ec5f630d8d80c"
      },
      "cell_type": "markdown",
      "source": "<br>\nIterate over all of the **items** in the list:"
    },
    {
      "metadata": {
        "_uuid": "ab973ccad15b9f3af27e6a2cbd2425ede962be86",
        "trusted": true,
        "_kg_hide-input": true
      },
      "cell_type": "code",
      "source": "for name, email in x.items():\n    print(name,':',email) ",
      "execution_count": 35,
      "outputs": [
        {
          "output_type": "stream",
          "text": "MJ Bahmani : None\nirmatlab : irmatlab.ir@gmail.com\n",
          "name": "stdout"
        }
      ]
    },
    {
      "metadata": {
        "_uuid": "3a909b20788d5df862adec16c2d6d15e021a74dc"
      },
      "cell_type": "markdown",
      "source": "<br>\nYou can unpack a sequence into different variables:"
    },
    {
      "metadata": {
        "_uuid": "296600127a5b164c23ad4aad0e622883f6ce56b1",
        "trusted": true,
        "_kg_hide-input": true
      },
      "cell_type": "code",
      "source": "x = ('MJ', 'Bahmani', 'Mohamadjavad.bahmani@gmail.com')\nfname, lname, email = x",
      "execution_count": 36,
      "outputs": []
    },
    {
      "metadata": {
        "_uuid": "b1d783512fd2e8d76b8d1c147ed51f8584d203b7",
        "trusted": true,
        "_kg_hide-input": true
      },
      "cell_type": "code",
      "source": "fname",
      "execution_count": 37,
      "outputs": [
        {
          "output_type": "execute_result",
          "execution_count": 37,
          "data": {
            "text/plain": "'MJ'"
          },
          "metadata": {}
        }
      ]
    },
    {
      "metadata": {
        "_uuid": "a69c79b2a267725470ff843205f11c8a6e2a820e",
        "trusted": true,
        "_kg_hide-input": true
      },
      "cell_type": "code",
      "source": "lname",
      "execution_count": 38,
      "outputs": [
        {
          "output_type": "execute_result",
          "execution_count": 38,
          "data": {
            "text/plain": "'Bahmani'"
          },
          "metadata": {}
        }
      ]
    },
    {
      "metadata": {
        "_uuid": "6b069e526dd64ce6efba8cb51854ef2636e308b9"
      },
      "cell_type": "markdown",
      "source": "<a id=\"12\"></a> <br>\n# 2-5 Python: More on Strings\n\n###### [Go to top](#top)"
    },
    {
      "metadata": {
        "_uuid": "2aa934d05afb73cd7cdcb9ff223b2014798f3b18",
        "trusted": true,
        "_kg_hide-input": true
      },
      "cell_type": "code",
      "source": "print('MJ' + str(2))",
      "execution_count": 39,
      "outputs": [
        {
          "output_type": "stream",
          "text": "MJ2\n",
          "name": "stdout"
        }
      ]
    },
    {
      "metadata": {
        "_uuid": "2a9b5f81e7ae92846e4bce5c8c34ff23490b83ef"
      },
      "cell_type": "markdown",
      "source": "<br>\nPython has a built in method for convenient string formatting."
    },
    {
      "metadata": {
        "_uuid": "a8fa5e6a70f8a2e642f0799b514d96f5e8b4cf67",
        "trusted": true,
        "_kg_hide-input": true
      },
      "cell_type": "code",
      "source": "sales_record = {\n'price': 3.24,\n'num_items': 4,\n'person': 'MJ'}\n\nsales_statement = '{} bought {} item(s) at a price of {} each for a total of {}'\n\nprint(sales_statement.format(sales_record['person'],\n                             sales_record['num_items'],\n                             sales_record['price'],\n                             sales_record['num_items']*sales_record['price']))\n",
      "execution_count": 40,
      "outputs": [
        {
          "output_type": "stream",
          "text": "MJ bought 4 item(s) at a price of 3.24 each for a total of 12.96\n",
          "name": "stdout"
        }
      ]
    },
    {
      "metadata": {
        "_uuid": "7fee00e11e78abee9a0397711ca813c60b1b8c57"
      },
      "cell_type": "markdown",
      "source": "<a id=\"13\"></a> <br>\n# 2-6 Python:Reading and Writing CSV files"
    },
    {
      "metadata": {
        "_uuid": "3f79954fc298a34c3c231d35161dfb3bf743576d"
      },
      "cell_type": "markdown",
      "source": "<br>\nLet's import our datafile train.csv \n###### [Go to top](#top)"
    },
    {
      "metadata": {
        "_uuid": "ab5ab332ba1dc0fb1668d18df1b1771232cc4e35",
        "scrolled": true,
        "trusted": true,
        "_kg_hide-input": true
      },
      "cell_type": "code",
      "source": "\n\nwith open('../input/house-prices-advanced-regression-techniques/train.csv') as csvfile:\n    house_train = list(csv.DictReader(csvfile))\n    \nhouse_train[:1] # The first three dictionaries in our list.",
      "execution_count": 41,
      "outputs": [
        {
          "output_type": "execute_result",
          "execution_count": 41,
          "data": {
            "text/plain": "[OrderedDict([('Id', '1'),\n              ('MSSubClass', '60'),\n              ('MSZoning', 'RL'),\n              ('LotFrontage', '65'),\n              ('LotArea', '8450'),\n              ('Street', 'Pave'),\n              ('Alley', 'NA'),\n              ('LotShape', 'Reg'),\n              ('LandContour', 'Lvl'),\n              ('Utilities', 'AllPub'),\n              ('LotConfig', 'Inside'),\n              ('LandSlope', 'Gtl'),\n              ('Neighborhood', 'CollgCr'),\n              ('Condition1', 'Norm'),\n              ('Condition2', 'Norm'),\n              ('BldgType', '1Fam'),\n              ('HouseStyle', '2Story'),\n              ('OverallQual', '7'),\n              ('OverallCond', '5'),\n              ('YearBuilt', '2003'),\n              ('YearRemodAdd', '2003'),\n              ('RoofStyle', 'Gable'),\n              ('RoofMatl', 'CompShg'),\n              ('Exterior1st', 'VinylSd'),\n              ('Exterior2nd', 'VinylSd'),\n              ('MasVnrType', 'BrkFace'),\n              ('MasVnrArea', '196'),\n              ('ExterQual', 'Gd'),\n              ('ExterCond', 'TA'),\n              ('Foundation', 'PConc'),\n              ('BsmtQual', 'Gd'),\n              ('BsmtCond', 'TA'),\n              ('BsmtExposure', 'No'),\n              ('BsmtFinType1', 'GLQ'),\n              ('BsmtFinSF1', '706'),\n              ('BsmtFinType2', 'Unf'),\n              ('BsmtFinSF2', '0'),\n              ('BsmtUnfSF', '150'),\n              ('TotalBsmtSF', '856'),\n              ('Heating', 'GasA'),\n              ('HeatingQC', 'Ex'),\n              ('CentralAir', 'Y'),\n              ('Electrical', 'SBrkr'),\n              ('1stFlrSF', '856'),\n              ('2ndFlrSF', '854'),\n              ('LowQualFinSF', '0'),\n              ('GrLivArea', '1710'),\n              ('BsmtFullBath', '1'),\n              ('BsmtHalfBath', '0'),\n              ('FullBath', '2'),\n              ('HalfBath', '1'),\n              ('BedroomAbvGr', '3'),\n              ('KitchenAbvGr', '1'),\n              ('KitchenQual', 'Gd'),\n              ('TotRmsAbvGrd', '8'),\n              ('Functional', 'Typ'),\n              ('Fireplaces', '0'),\n              ('FireplaceQu', 'NA'),\n              ('GarageType', 'Attchd'),\n              ('GarageYrBlt', '2003'),\n              ('GarageFinish', 'RFn'),\n              ('GarageCars', '2'),\n              ('GarageArea', '548'),\n              ('GarageQual', 'TA'),\n              ('GarageCond', 'TA'),\n              ('PavedDrive', 'Y'),\n              ('WoodDeckSF', '0'),\n              ('OpenPorchSF', '61'),\n              ('EnclosedPorch', '0'),\n              ('3SsnPorch', '0'),\n              ('ScreenPorch', '0'),\n              ('PoolArea', '0'),\n              ('PoolQC', 'NA'),\n              ('Fence', 'NA'),\n              ('MiscFeature', 'NA'),\n              ('MiscVal', '0'),\n              ('MoSold', '2'),\n              ('YrSold', '2008'),\n              ('SaleType', 'WD'),\n              ('SaleCondition', 'Normal'),\n              ('SalePrice', '208500')])]"
          },
          "metadata": {}
        }
      ]
    },
    {
      "metadata": {
        "trusted": true,
        "_uuid": "1a7f91c1dafbb190b32a21907fc4c346f7eff0a0"
      },
      "cell_type": "code",
      "source": "type(house_train)",
      "execution_count": 42,
      "outputs": [
        {
          "output_type": "execute_result",
          "execution_count": 42,
          "data": {
            "text/plain": "list"
          },
          "metadata": {}
        }
      ]
    },
    {
      "metadata": {
        "_uuid": "ac3ffa35fd8725c3b1d81ab92470f1e5de19061b"
      },
      "cell_type": "markdown",
      "source": "<br>\n`csv.Dictreader` has read in each row of our csv file as a dictionary. `len` shows that our list is comprised of 234 dictionaries."
    },
    {
      "metadata": {
        "_uuid": "3f51c4e51000c69c3b3113f4cc8ed1e5e5fa005f",
        "trusted": true,
        "_kg_hide-input": true
      },
      "cell_type": "code",
      "source": "len(house_train)",
      "execution_count": 43,
      "outputs": [
        {
          "output_type": "execute_result",
          "execution_count": 43,
          "data": {
            "text/plain": "1460"
          },
          "metadata": {}
        }
      ]
    },
    {
      "metadata": {
        "_uuid": "59457b14190fe59e900f644450b66f542b2320c4"
      },
      "cell_type": "markdown",
      "source": "<br>\n`keys` gives us the column names of our csv."
    },
    {
      "metadata": {
        "_uuid": "de6d753e74e0345bcc292cb6cfded49241b696f8",
        "trusted": true,
        "_kg_hide-input": true
      },
      "cell_type": "code",
      "source": "house_train[0].keys()",
      "execution_count": 44,
      "outputs": [
        {
          "output_type": "execute_result",
          "execution_count": 44,
          "data": {
            "text/plain": "odict_keys(['Id', 'MSSubClass', 'MSZoning', 'LotFrontage', 'LotArea', 'Street', 'Alley', 'LotShape', 'LandContour', 'Utilities', 'LotConfig', 'LandSlope', 'Neighborhood', 'Condition1', 'Condition2', 'BldgType', 'HouseStyle', 'OverallQual', 'OverallCond', 'YearBuilt', 'YearRemodAdd', 'RoofStyle', 'RoofMatl', 'Exterior1st', 'Exterior2nd', 'MasVnrType', 'MasVnrArea', 'ExterQual', 'ExterCond', 'Foundation', 'BsmtQual', 'BsmtCond', 'BsmtExposure', 'BsmtFinType1', 'BsmtFinSF1', 'BsmtFinType2', 'BsmtFinSF2', 'BsmtUnfSF', 'TotalBsmtSF', 'Heating', 'HeatingQC', 'CentralAir', 'Electrical', '1stFlrSF', '2ndFlrSF', 'LowQualFinSF', 'GrLivArea', 'BsmtFullBath', 'BsmtHalfBath', 'FullBath', 'HalfBath', 'BedroomAbvGr', 'KitchenAbvGr', 'KitchenQual', 'TotRmsAbvGrd', 'Functional', 'Fireplaces', 'FireplaceQu', 'GarageType', 'GarageYrBlt', 'GarageFinish', 'GarageCars', 'GarageArea', 'GarageQual', 'GarageCond', 'PavedDrive', 'WoodDeckSF', 'OpenPorchSF', 'EnclosedPorch', '3SsnPorch', 'ScreenPorch', 'PoolArea', 'PoolQC', 'Fence', 'MiscFeature', 'MiscVal', 'MoSold', 'YrSold', 'SaleType', 'SaleCondition', 'SalePrice'])"
          },
          "metadata": {}
        }
      ]
    },
    {
      "metadata": {
        "_uuid": "391e4c865b352e70ae7bc5cbdef9559ccf396cb8"
      },
      "cell_type": "markdown",
      "source": "<br>\nHow to do some math action on the data set"
    },
    {
      "metadata": {
        "_uuid": "c654cdc458ff6f8d960caa80268f61e9f213e9e8",
        "trusted": true,
        "_kg_hide-input": true
      },
      "cell_type": "code",
      "source": "sum(float(d['SalePrice']) for d in house_train) / len(house_train)",
      "execution_count": 45,
      "outputs": [
        {
          "output_type": "execute_result",
          "execution_count": 45,
          "data": {
            "text/plain": "180921.20"
          },
          "metadata": {}
        }
      ]
    },
    {
      "metadata": {
        "_uuid": "a12ec3e5c23e0660c9cfce427333afabe5a4384c"
      },
      "cell_type": "markdown",
      "source": "<br>\nUse `set` to return the unique values for the type of Sex  in our dataset have."
    },
    {
      "metadata": {
        "_uuid": "3541bdc6bd01a88c58e408bcc99411136a953538",
        "trusted": true,
        "_kg_hide-input": true
      },
      "cell_type": "code",
      "source": "SalePrice = set(d['SalePrice'] for d in house_train)\nprint(type(SalePrice ))\nlen(SalePrice)",
      "execution_count": 46,
      "outputs": [
        {
          "output_type": "stream",
          "text": "<class 'set'>\n",
          "name": "stdout"
        },
        {
          "output_type": "execute_result",
          "execution_count": 46,
          "data": {
            "text/plain": "663"
          },
          "metadata": {}
        }
      ]
    },
    {
      "metadata": {
        "_uuid": "51bd65ce547fceba323660a1370a407d004e9abe"
      },
      "cell_type": "markdown",
      "source": "<a id=\"14\"></a> <br>\n# 2-7 Python: Dates and Times"
    },
    {
      "metadata": {
        "_uuid": "77aea246af2c06fe57b72bf45e424a4a6ae2e8c5",
        "trusted": true,
        "_kg_hide-input": true
      },
      "cell_type": "code",
      "source": "import datetime as dt\nimport time as tm",
      "execution_count": 47,
      "outputs": []
    },
    {
      "metadata": {
        "_uuid": "f14fbbf5385512cc6d6631677a62ff620d51f9ae"
      },
      "cell_type": "markdown",
      "source": "<br>\n`time` returns the current time in seconds since the Epoch. (January 1st, 1970)\n\n###### [Go to top](#top)"
    },
    {
      "metadata": {
        "_uuid": "73ffa7423c31ed5efb8bab44ead79a4162711920",
        "trusted": true,
        "_kg_hide-input": true
      },
      "cell_type": "code",
      "source": "tm.time()",
      "execution_count": 48,
      "outputs": [
        {
          "output_type": "execute_result",
          "execution_count": 48,
          "data": {
            "text/plain": "1545736840.00"
          },
          "metadata": {}
        }
      ]
    },
    {
      "metadata": {
        "_uuid": "83a2aceba5919534adf74e59c16baa61d6e24bda"
      },
      "cell_type": "markdown",
      "source": "<br>\nConvert the timestamp to datetime."
    },
    {
      "metadata": {
        "_uuid": "b0726eaf4ebb492d3da2396520a7328bbb00263c",
        "trusted": true,
        "_kg_hide-input": true
      },
      "cell_type": "code",
      "source": "dtnow = dt.datetime.fromtimestamp(tm.time())\ndtnow",
      "execution_count": 49,
      "outputs": [
        {
          "output_type": "execute_result",
          "execution_count": 49,
          "data": {
            "text/plain": "datetime.datetime(2018, 12, 25, 11, 20, 40, 5131)"
          },
          "metadata": {}
        }
      ]
    },
    {
      "metadata": {
        "_uuid": "df2a8c0e8237c6c88ea5d8f446604d6c60435b72"
      },
      "cell_type": "markdown",
      "source": "<br>\nHandy datetime attributes:"
    },
    {
      "metadata": {
        "_uuid": "3ca2dd821f01874e23fc1eccf13b6584ba21e795",
        "trusted": true,
        "_kg_hide-input": true
      },
      "cell_type": "code",
      "source": "dtnow.year, dtnow.month, dtnow.day, dtnow.hour, dtnow.minute, dtnow.second # get year, month, day, etc.from a datetime",
      "execution_count": 50,
      "outputs": [
        {
          "output_type": "execute_result",
          "execution_count": 50,
          "data": {
            "text/plain": "(2018, 12, 25, 11, 20, 40)"
          },
          "metadata": {}
        }
      ]
    },
    {
      "metadata": {
        "_uuid": "85160de1a52833048050277d7df6713172b367c9"
      },
      "cell_type": "markdown",
      "source": "<br>\n`timedelta` is a duration expressing the difference between two dates."
    },
    {
      "metadata": {
        "_uuid": "c466ccf8a9f33641fec51525f0e8a03dbec8fd62",
        "trusted": true,
        "_kg_hide-input": true
      },
      "cell_type": "code",
      "source": "delta = dt.timedelta(days = 100) # create a timedelta of 100 days\ndelta",
      "execution_count": 51,
      "outputs": [
        {
          "output_type": "execute_result",
          "execution_count": 51,
          "data": {
            "text/plain": "datetime.timedelta(100)"
          },
          "metadata": {}
        }
      ]
    },
    {
      "metadata": {
        "_uuid": "c09e3bd1c17b5a67b8e340956fdb27b2e6b32b2d"
      },
      "cell_type": "markdown",
      "source": "<br>\n`date.today` returns the current local date."
    },
    {
      "metadata": {
        "_uuid": "539408df43c0aa1b449551e14b84b49110b04beb",
        "trusted": true,
        "_kg_hide-input": true
      },
      "cell_type": "code",
      "source": "today = dt.date.today()",
      "execution_count": 52,
      "outputs": []
    },
    {
      "metadata": {
        "_uuid": "4022bf4458c6495ab1c4ddfcf82c155742641823",
        "trusted": true,
        "_kg_hide-input": true
      },
      "cell_type": "code",
      "source": "today - delta # the date 100 days ago",
      "execution_count": 53,
      "outputs": [
        {
          "output_type": "execute_result",
          "execution_count": 53,
          "data": {
            "text/plain": "datetime.date(2018, 9, 16)"
          },
          "metadata": {}
        }
      ]
    },
    {
      "metadata": {
        "_uuid": "38399dc2975b4f44e083ae319f37217286d9533a",
        "trusted": true,
        "_kg_hide-input": true
      },
      "cell_type": "code",
      "source": "today > today-delta # compare dates",
      "execution_count": 54,
      "outputs": [
        {
          "output_type": "execute_result",
          "execution_count": 54,
          "data": {
            "text/plain": "True"
          },
          "metadata": {}
        }
      ]
    },
    {
      "metadata": {
        "_uuid": "a8bcac1b08550c3f143e21cf7ca9049449304a5c"
      },
      "cell_type": "markdown",
      "source": "<a id=\"15\"></a> <br>\n# 2-8 Python: Objects and map()"
    },
    {
      "metadata": {
        "_uuid": "28be3905d37e6b7d2fb09a5f1a0e0c9df7e48559"
      },
      "cell_type": "markdown",
      "source": "<br>\nAn example of a class in python:"
    },
    {
      "metadata": {
        "_uuid": "2dc3faf4892b932cb1015902e83a13bd47125b20",
        "trusted": true,
        "_kg_hide-input": true
      },
      "cell_type": "code",
      "source": "class Person:\n    department = 'School of Information' #a class variable\n\n    def set_name(self, new_name): #a method\n        self.name = new_name\n    def set_location(self, new_location):\n        self.location = new_location",
      "execution_count": 55,
      "outputs": []
    },
    {
      "metadata": {
        "_uuid": "1da9aaf6d97f50fff89e9d08b658adb3c691a262",
        "trusted": true,
        "_kg_hide-input": true
      },
      "cell_type": "code",
      "source": "person = Person()\nperson.set_name('MJ Bahmani')\nperson.set_location('MI, Berlin, Germany')\nprint('{} live in {} and works in the department {}'.format(person.name, person.location, person.department))",
      "execution_count": 56,
      "outputs": [
        {
          "output_type": "stream",
          "text": "MJ Bahmani live in MI, Berlin, Germany and works in the department School of Information\n",
          "name": "stdout"
        }
      ]
    },
    {
      "metadata": {
        "_uuid": "8422c57273a71b4a74b6b4a9eb5535444356823d"
      },
      "cell_type": "markdown",
      "source": "<br>\nHere's an example of mapping the `min` function between two lists."
    },
    {
      "metadata": {
        "_uuid": "3052442e823ee0a450e404607e44cb3c321b508c",
        "trusted": true,
        "_kg_hide-input": true
      },
      "cell_type": "code",
      "source": "store1 = [10.00, 11.00, 12.34, 2.34]\nstore2 = [9.00, 11.10, 12.34, 2.01]\ncheapest = map(min, store1, store2)\ncheapest",
      "execution_count": 57,
      "outputs": [
        {
          "output_type": "execute_result",
          "execution_count": 57,
          "data": {
            "text/plain": "<map at 0x7f6b81b3cc50>"
          },
          "metadata": {}
        }
      ]
    },
    {
      "metadata": {
        "_uuid": "787b960d3c824c764a0eb7c2dab69d073eacfa9d"
      },
      "cell_type": "markdown",
      "source": "<br>\nNow let's iterate through the map object to see the values."
    },
    {
      "metadata": {
        "_uuid": "a9d6751e7c95241dbd10a44f0179a40df8ee3a7a",
        "scrolled": true,
        "trusted": true,
        "_kg_hide-input": true
      },
      "cell_type": "code",
      "source": "for item in cheapest:\n    print(item)",
      "execution_count": 58,
      "outputs": [
        {
          "output_type": "stream",
          "text": "9.0\n11.0\n12.34\n2.01\n",
          "name": "stdout"
        }
      ]
    },
    {
      "metadata": {
        "_uuid": "e9c6c70988cd1459c7078f31fb9a43a275965d46"
      },
      "cell_type": "markdown",
      "source": "<a id=\"16\"></a> <br>\n# 2-9-Python : Lambda and List Comprehensions"
    },
    {
      "metadata": {
        "_uuid": "b6257386671f84333b4cfae3a979a2c1f8100e76"
      },
      "cell_type": "markdown",
      "source": "<br>\nHere's an example of lambda that takes in three parameters and adds the first two."
    },
    {
      "metadata": {
        "_uuid": "a306ae5687e20ae64431306035359f33aa465382",
        "trusted": true,
        "_kg_hide-input": true
      },
      "cell_type": "code",
      "source": "my_function = lambda a, b, c : a + b",
      "execution_count": 59,
      "outputs": []
    },
    {
      "metadata": {
        "_uuid": "6bf98de2fab3b4239e41a093386d5fb9acad6367",
        "trusted": true,
        "_kg_hide-input": true
      },
      "cell_type": "code",
      "source": "my_function(1, 2, 3)",
      "execution_count": 60,
      "outputs": [
        {
          "output_type": "execute_result",
          "execution_count": 60,
          "data": {
            "text/plain": "3"
          },
          "metadata": {}
        }
      ]
    },
    {
      "metadata": {
        "_uuid": "5db80d702a02a1873aa09fa3acd26d922d74ff46"
      },
      "cell_type": "markdown",
      "source": "<br>\nLet's iterate from 0 to 9 and return the even numbers.\n\n###### [Go to top](#top)"
    },
    {
      "metadata": {
        "_uuid": "90e7eb5e7689d6ce448b8c0c801c2caef70e6d44",
        "trusted": true,
        "_kg_hide-input": true
      },
      "cell_type": "code",
      "source": "my_list = []\nfor number in range(0, 9):\n    if number % 2 == 0:\n        my_list.append(number)\nmy_list",
      "execution_count": 61,
      "outputs": [
        {
          "output_type": "execute_result",
          "execution_count": 61,
          "data": {
            "text/plain": "[0, 2, 4, 6, 8]"
          },
          "metadata": {}
        }
      ]
    },
    {
      "metadata": {
        "_uuid": "1bfe68a8553e5718a04b14a321262e6e88407b2c"
      },
      "cell_type": "markdown",
      "source": "<br>\nNow the same thing but with list comprehension."
    },
    {
      "metadata": {
        "_uuid": "ee501b9820296d1452845b8da201dbd69d4e0637",
        "trusted": true,
        "_kg_hide-input": true
      },
      "cell_type": "code",
      "source": "my_list = [number for number in range(0,10) if number % 2 == 0]\nmy_list",
      "execution_count": 62,
      "outputs": [
        {
          "output_type": "execute_result",
          "execution_count": 62,
          "data": {
            "text/plain": "[0, 2, 4, 6, 8]"
          },
          "metadata": {}
        }
      ]
    },
    {
      "metadata": {
        "_uuid": "e99f98ecb3393b8846fca621cdbad5dcaf1c60d1"
      },
      "cell_type": "markdown",
      "source": "<a id=\"17\"></a> <br>\n# 2-10 OOP\n1. **Class** − A user-defined prototype for an object that defines a set of attributes that characterize any object of the class. The attributes are data members (class variables and instance variables) and methods, accessed via dot notation.\n\n1. **Class variable** − A variable that is shared by all instances of a class. Class variables are defined within a class but outside any of the class's methods. Class variables are not used as frequently as instance variables are.\n\n1. **Data member** − A class variable or instance variable that holds data associated with a class and its objects.\n\n1. **Function overloading** − The assignment of more than one behavior to a particular function. The operation performed varies by the types of objects or arguments involved.\n\n1. **Instance variable** − A variable that is defined inside a method and belongs only to the current instance of a class.\n\n1. **Inheritance** − The transfer of the characteristics of a class to other classes that are derived from it.\n\n1. **Instance** − An individual object of a certain class. An object obj that belongs to a class Circle, for example, is an instance of the class Circle.\n\n1. **Instantiation** − The creation of an instance of a class.\n\n1. **Method** − A special kind of function that is defined in a class definition.\n\n1. **Object** − A unique instance of a data structure that's defined by its class. An object comprises both data members (class variables and instance variables) and methods.\n\n1. **Operator overloading** − The assignment of more than one function to a particular operator.[4]\n\n###### [Go to top](#top)"
    },
    {
      "metadata": {
        "_uuid": "1c3c77a74a2f45e0cfbec9e2a43ac089aaa09558",
        "trusted": true,
        "_kg_hide-input": true
      },
      "cell_type": "code",
      "source": "class FirstClass:\n    test = 'test'\n    def __init__(self,name,symbol):\n        self.name = name\n        self.symbol = symbol",
      "execution_count": 63,
      "outputs": []
    },
    {
      "metadata": {
        "_uuid": "2dd1233bc33a4e9ca7bf528968267868f4d1bbe1",
        "trusted": true
      },
      "cell_type": "code",
      "source": "eg3 = FirstClass('Three',3)",
      "execution_count": 64,
      "outputs": []
    },
    {
      "metadata": {
        "_uuid": "8bb856d47cf1407cccd295fe241825c2999e0756",
        "trusted": true,
        "_kg_hide-input": true
      },
      "cell_type": "code",
      "source": "print (eg3.test, eg3.name)",
      "execution_count": 65,
      "outputs": [
        {
          "output_type": "stream",
          "text": "test Three\n",
          "name": "stdout"
        }
      ]
    },
    {
      "metadata": {
        "_uuid": "3fa8ea01163ceea3f5cf46fe2f5eb843fa8a9cc7",
        "trusted": true,
        "_kg_hide-input": true
      },
      "cell_type": "code",
      "source": "class FirstClass:\n    def __init__(self,name,symbol):\n        self.name = name\n        self.symbol = symbol\n    def square(self):\n        return self.symbol * self.symbol\n    def cube(self):\n        return self.symbol * self.symbol * self.symbol\n    def multiply(self, x):\n        return self.symbol * x",
      "execution_count": 66,
      "outputs": []
    },
    {
      "metadata": {
        "_uuid": "6086b2eaf54cc57b3447b7c0b47e4b67f208cba3",
        "trusted": true,
        "_kg_hide-input": true
      },
      "cell_type": "code",
      "source": "eg4 = FirstClass('Five',5)",
      "execution_count": 67,
      "outputs": []
    },
    {
      "metadata": {
        "_uuid": "7029000f20ae1efcd694754d0db4b7e546cdafae",
        "trusted": true,
        "_kg_hide-input": true
      },
      "cell_type": "code",
      "source": "print (eg4.square())\nprint (eg4.cube())",
      "execution_count": 68,
      "outputs": [
        {
          "output_type": "stream",
          "text": "25\n125\n",
          "name": "stdout"
        }
      ]
    },
    {
      "metadata": {
        "_uuid": "e60cf1e71ae99cb38e6b555ae43cb6948bdfc329",
        "trusted": true,
        "_kg_hide-input": true
      },
      "cell_type": "code",
      "source": "eg4.multiply(2)",
      "execution_count": 69,
      "outputs": [
        {
          "output_type": "execute_result",
          "execution_count": 69,
          "data": {
            "text/plain": "10"
          },
          "metadata": {}
        }
      ]
    },
    {
      "metadata": {
        "_uuid": "52ccbcd46b12d802454097d1a4c6ee52c551c4a3",
        "trusted": true,
        "_kg_hide-input": true
      },
      "cell_type": "code",
      "source": "FirstClass.multiply(eg4,2)",
      "execution_count": 70,
      "outputs": [
        {
          "output_type": "execute_result",
          "execution_count": 70,
          "data": {
            "text/plain": "10"
          },
          "metadata": {}
        }
      ]
    },
    {
      "metadata": {
        "_uuid": "c68d1914adc7080d3ee9b5592420ff95ea2870e7"
      },
      "cell_type": "markdown",
      "source": "<a id=\"18\"></a> <br>\n### 2-10-1 Inheritance\n\nThere might be cases where a new class would have all the previous characteristics of an already defined class. So the new class can \"inherit\" the previous class and add it's own methods to it. This is called as inheritance.\n\nConsider class SoftwareEngineer which has a method salary."
    },
    {
      "metadata": {
        "_uuid": "ea270e5c33b3e6d6fb3c7b66a0081e8d80825a78",
        "trusted": true,
        "_kg_hide-input": true
      },
      "cell_type": "code",
      "source": "class SoftwareEngineer:\n    def __init__(self,name,age):\n        self.name = name\n        self.age = age\n    def salary(self, value):\n        self.money = value\n        print (self.name,\"earns\",self.money)",
      "execution_count": 71,
      "outputs": []
    },
    {
      "metadata": {
        "_uuid": "d63b58d87a62e2e692f25644b1bfd1b0c3c2ccff",
        "trusted": true,
        "_kg_hide-input": true
      },
      "cell_type": "code",
      "source": "a = SoftwareEngineer('Kartik',26)",
      "execution_count": 72,
      "outputs": []
    },
    {
      "metadata": {
        "_uuid": "14e20781ff108a4cc13ac68de99478293413b3d1",
        "trusted": true
      },
      "cell_type": "code",
      "source": "a.salary(40000)",
      "execution_count": 73,
      "outputs": [
        {
          "output_type": "stream",
          "text": "Kartik earns 40000\n",
          "name": "stdout"
        }
      ]
    },
    {
      "metadata": {
        "_uuid": "89cf62c093a3c6369b77536f4700f70ddf84eebf",
        "trusted": true
      },
      "cell_type": "code",
      "source": "dir(SoftwareEngineer)",
      "execution_count": 74,
      "outputs": [
        {
          "output_type": "execute_result",
          "execution_count": 74,
          "data": {
            "text/plain": "['__class__',\n '__delattr__',\n '__dict__',\n '__dir__',\n '__doc__',\n '__eq__',\n '__format__',\n '__ge__',\n '__getattribute__',\n '__gt__',\n '__hash__',\n '__init__',\n '__init_subclass__',\n '__le__',\n '__lt__',\n '__module__',\n '__ne__',\n '__new__',\n '__reduce__',\n '__reduce_ex__',\n '__repr__',\n '__setattr__',\n '__sizeof__',\n '__str__',\n '__subclasshook__',\n '__weakref__',\n 'salary']"
          },
          "metadata": {}
        }
      ]
    },
    {
      "metadata": {
        "_uuid": "edcf9e2d90a66ca3370d889ffd2109827229825f",
        "trusted": true,
        "_kg_hide-input": true
      },
      "cell_type": "code",
      "source": "class Artist:\n    def __init__(self,name,age):\n        self.name = name\n        self.age = age\n    def money(self,value):\n        self.money = value\n        print (self.name,\"earns\",self.money)\n    def artform(self, job):\n        self.job = job\n        print (self.name,\"is a\", self.job)",
      "execution_count": 75,
      "outputs": []
    },
    {
      "metadata": {
        "_uuid": "92e459938effe069d173a19f94819e68b34d4eca",
        "trusted": true,
        "_kg_hide-input": true
      },
      "cell_type": "code",
      "source": "b = Artist('Nitin',20)",
      "execution_count": 76,
      "outputs": []
    },
    {
      "metadata": {
        "_uuid": "a708a468bec5bc8314bc40ad7e830568805885bc",
        "trusted": true,
        "_kg_hide-input": true
      },
      "cell_type": "code",
      "source": "b.money(50000)\nb.artform('Musician')",
      "execution_count": 77,
      "outputs": [
        {
          "output_type": "stream",
          "text": "Nitin earns 50000\nNitin is a Musician\n",
          "name": "stdout"
        }
      ]
    },
    {
      "metadata": {
        "_uuid": "efa5a80085b1a7a6e98a88c5fd86da6c880421cf",
        "trusted": true
      },
      "cell_type": "code",
      "source": "dir(Artist)",
      "execution_count": 78,
      "outputs": [
        {
          "output_type": "execute_result",
          "execution_count": 78,
          "data": {
            "text/plain": "['__class__',\n '__delattr__',\n '__dict__',\n '__dir__',\n '__doc__',\n '__eq__',\n '__format__',\n '__ge__',\n '__getattribute__',\n '__gt__',\n '__hash__',\n '__init__',\n '__init_subclass__',\n '__le__',\n '__lt__',\n '__module__',\n '__ne__',\n '__new__',\n '__reduce__',\n '__reduce_ex__',\n '__repr__',\n '__setattr__',\n '__sizeof__',\n '__str__',\n '__subclasshook__',\n '__weakref__',\n 'artform',\n 'money']"
          },
          "metadata": {}
        }
      ]
    },
    {
      "metadata": {
        "_uuid": "843c1001213bd2cfd201e99b682a5c5bfe78c0c6"
      },
      "cell_type": "markdown",
      "source": "<a id=\"19\"></a> <br>\n## 2-11 Python JSON\n"
    },
    {
      "metadata": {
        "_uuid": "153a10fa7584e50553490e6f765284192776ee5c",
        "trusted": true,
        "_kg_hide-input": true
      },
      "cell_type": "code",
      "source": "\n\n# some JSON:\nx =  '{ \"name\":\"John\", \"age\":30, \"city\":\"New York\"}'\n\n# parse x:\ny = json.loads(x)\n\n# the result is a Python dictionary:\nprint(y[\"age\"])",
      "execution_count": 79,
      "outputs": [
        {
          "output_type": "stream",
          "text": "30\n",
          "name": "stdout"
        }
      ]
    },
    {
      "metadata": {
        "_uuid": "85876511f2a41d866fe4bfa5208372f51536e6c5"
      },
      "cell_type": "markdown",
      "source": "<a id=\"20\"></a> <br>\n## 2-11-1 Convert from Python to JSON\n"
    },
    {
      "metadata": {
        "_uuid": "06ce583a101287b07e6e95d28426ae20d5b4e64b",
        "trusted": true,
        "_kg_hide-input": true
      },
      "cell_type": "code",
      "source": "# a Python object (dict):\nx = {\n  \"name\": \"John\",\n  \"age\": 30,\n  \"city\": \"New York\"\n}\n\n# convert into JSON:\ny = json.dumps(x)\n\n# the result is a JSON string:\nprint(y)",
      "execution_count": 80,
      "outputs": [
        {
          "output_type": "stream",
          "text": "{\"name\": \"John\", \"age\": 30, \"city\": \"New York\"}\n",
          "name": "stdout"
        }
      ]
    },
    {
      "metadata": {
        "_uuid": "b016e08d500dc749010ed6495e3c02e3f1144b4e"
      },
      "cell_type": "markdown",
      "source": "You can convert Python objects of the following types, into JSON strings:\n\n* dict\n* list\n* tuple\n* string\n* int\n* float\n* True\n* False\n* None\n\n###### [Go to top](#top)"
    },
    {
      "metadata": {
        "_uuid": "2906f3ee8c9392b9be7507c2c99a1fc3db9df95d",
        "trusted": true,
        "_kg_hide-input": true
      },
      "cell_type": "code",
      "source": "print(json.dumps({\"name\": \"John\", \"age\": 30}))\nprint(json.dumps([\"apple\", \"bananas\"]))\nprint(json.dumps((\"apple\", \"bananas\")))\nprint(json.dumps(\"hello\"))\nprint(json.dumps(42))\nprint(json.dumps(31.76))\nprint(json.dumps(True))\nprint(json.dumps(False))\nprint(json.dumps(None))",
      "execution_count": 81,
      "outputs": [
        {
          "output_type": "stream",
          "text": "{\"name\": \"John\", \"age\": 30}\n[\"apple\", \"bananas\"]\n[\"apple\", \"bananas\"]\n\"hello\"\n42\n31.76\ntrue\nfalse\nnull\n",
          "name": "stdout"
        }
      ]
    },
    {
      "metadata": {
        "_uuid": "5cd4ddf30b6996185afdc94f68ad675b258ebb9a"
      },
      "cell_type": "markdown",
      "source": "Convert a Python object containing all the legal data types:"
    },
    {
      "metadata": {
        "_uuid": "7a5a584c5912ac52a6fc9796e23eb4799d5b9261",
        "trusted": true,
        "_kg_hide-input": true
      },
      "cell_type": "code",
      "source": "x = {\n  \"name\": \"John\",\n  \"age\": 30,\n  \"married\": True,\n  \"divorced\": False,\n  \"children\": (\"Ann\",\"Billy\"),\n  \"pets\": None,\n  \"cars\": [\n    {\"model\": \"BMW 230\", \"mpg\": 27.5},\n    {\"model\": \"Ford Edge\", \"mpg\": 24.1}\n  ]\n}\n\nprint(json.dumps(x))",
      "execution_count": 82,
      "outputs": [
        {
          "output_type": "stream",
          "text": "{\"name\": \"John\", \"age\": 30, \"married\": true, \"divorced\": false, \"children\": [\"Ann\", \"Billy\"], \"pets\": null, \"cars\": [{\"model\": \"BMW 230\", \"mpg\": 27.5}, {\"model\": \"Ford Edge\", \"mpg\": 24.1}]}\n",
          "name": "stdout"
        }
      ]
    },
    {
      "metadata": {
        "_uuid": "27a8da102cf08964e9cde82973cd653306e3356f"
      },
      "cell_type": "markdown",
      "source": "<a id=\"21\"></a> <br>\n## 2-12 Python PIP\n"
    },
    {
      "metadata": {
        "_uuid": "5d13a95f504b710e977b4b589c200d5dadca5bc2"
      },
      "cell_type": "markdown",
      "source": "<a id=\"21\"></a> <br>\n### 2-12-1 What is a Package?\nA package contains all the files you need for a **module**.\n\n**Modules** are Python code libraries you can include in your project.\n\n###### [Go to top](#top)"
    },
    {
      "metadata": {
        "_uuid": "cfe1ddbfe7ac5b38f1fb0d36401aaa59bf706b06"
      },
      "cell_type": "markdown",
      "source": "<a id=\"22\"></a> <br>\n### 2-12-2 Install PIP\nIf you do not have PIP installed, you can download and install it from this page: https://pypi.org/project/pip/"
    },
    {
      "metadata": {
        "_uuid": "af880b807b69c45d77b21433937a13772453b481"
      },
      "cell_type": "markdown",
      "source": "<a id=\"23\"></a> <br>\n## 2-13 Python Try Except\nThe **try** block lets you test a block of code for errors.\n\nThe **except** block lets you handle the error.\n\nThe **finally** block lets you execute code, regardless of the result of the try- and except blocks."
    },
    {
      "metadata": {
        "_uuid": "078d0a98c43a742ff43460848dd6bf31a69975ce",
        "trusted": true
      },
      "cell_type": "code",
      "source": "try:\n  print(x)\nexcept NameError:\n  print(\"Variable x is not defined\")\nexcept:\n  print(\"Something else went wrong\")",
      "execution_count": 83,
      "outputs": [
        {
          "output_type": "stream",
          "text": "{'name': 'John', 'age': 30, 'married': True, 'divorced': False, 'children': ('Ann', 'Billy'), 'pets': None, 'cars': [{'model': 'BMW 230', 'mpg': 27.5}, {'model': 'Ford Edge', 'mpg': 24.1}]}\n",
          "name": "stdout"
        }
      ]
    },
    {
      "metadata": {
        "_uuid": "c5e3cbfe7a287cda43736597455b95e2117ccf4d",
        "trusted": true,
        "_kg_hide-input": true
      },
      "cell_type": "code",
      "source": "try:\n  print(x)\nexcept:\n  print(\"Something went wrong\")\nfinally:\n  print(\"The 'try except' is finished\")",
      "execution_count": 84,
      "outputs": [
        {
          "output_type": "stream",
          "text": "{'name': 'John', 'age': 30, 'married': True, 'divorced': False, 'children': ('Ann', 'Billy'), 'pets': None, 'cars': [{'model': 'BMW 230', 'mpg': 27.5}, {'model': 'Ford Edge', 'mpg': 24.1}]}\nThe 'try except' is finished\n",
          "name": "stdout"
        }
      ]
    },
    {
      "metadata": {
        "_uuid": "6d4ae311b6798fa03dff0516dfb59e7d271b040e"
      },
      "cell_type": "markdown",
      "source": "<a id=\"24\"></a> <br>\n## 2-14 Python Iterators\nAn iterator is an object that contains a countable number of values.\n\nAn iterator is an object that can be iterated upon, meaning that you can traverse through all the values.\n\nTechnically, in Python, an iterator is an object which implements the iterator protocol, which consist of the methods __iter__() and __next__().\n###### [Go to top](#top)"
    },
    {
      "metadata": {
        "_uuid": "0fd29f43681c38533591b6cd0d3cff27e75b6b0c"
      },
      "cell_type": "markdown",
      "source": "Return a iterator from a tuple, and print each value:"
    },
    {
      "metadata": {
        "_uuid": "d4f1c3ecdad754158b847660bfc92343470e9c55",
        "trusted": true,
        "_kg_hide-input": true
      },
      "cell_type": "code",
      "source": "mytuple = (\"apple\", \"banana\", \"cherry\")\nmyit = iter(mytuple)\n\nprint(next(myit))\nprint(next(myit))\nprint(next(myit))",
      "execution_count": 85,
      "outputs": [
        {
          "output_type": "stream",
          "text": "apple\nbanana\ncherry\n",
          "name": "stdout"
        }
      ]
    },
    {
      "metadata": {
        "_uuid": "5a15f75b705e078ec25f1fb628af76ed19da0333"
      },
      "cell_type": "markdown",
      "source": "<a id=\"25\"></a> <br>\n### 2- 14-1 Looping Through an Iterator\n"
    },
    {
      "metadata": {
        "_uuid": "830a5d61f4d7afec6525f32b8f8e9c0f4783acc0",
        "trusted": true,
        "_kg_hide-input": true
      },
      "cell_type": "code",
      "source": "mytuple = (\"apple\", \"banana\", \"cherry\")\n\nfor x in mytuple:\n  print(x)",
      "execution_count": 86,
      "outputs": [
        {
          "output_type": "stream",
          "text": "apple\nbanana\ncherry\n",
          "name": "stdout"
        }
      ]
    },
    {
      "metadata": {
        "_uuid": "e7410e1e9691615946998a833fec7bea80f50cc2"
      },
      "cell_type": "markdown",
      "source": "<a id=\"26\"></a> <br>\n## 2- 15 Dictionary\nA **dictionary** is a collection which is **unordered, changeable and indexed**. In Python dictionaries are written with curly brackets, and they have **keys and values**."
    },
    {
      "metadata": {
        "trusted": true,
        "_uuid": "85f51ded66c72e13b253c5775e5b1ac914459479",
        "_kg_hide-input": true
      },
      "cell_type": "code",
      "source": "thisdict =\t{\n  \"brand\": \"Ford\",\n  \"model\": \"Mustang\",\n  \"year\": 1964\n}\nprint(thisdict)",
      "execution_count": 87,
      "outputs": [
        {
          "output_type": "stream",
          "text": "{'brand': 'Ford', 'model': 'Mustang', 'year': 1964}\n",
          "name": "stdout"
        }
      ]
    },
    {
      "metadata": {
        "_uuid": "437f23fd4289f0a757dc1c87a1e339a9c6f96c31"
      },
      "cell_type": "markdown",
      "source": "<a id=\"27\"></a> <br>\n## 2-16 Tuples\nA **tuple** is a collection which is **ordered and unchangeable**. In Python tuples are written with round brackets.\n\n"
    },
    {
      "metadata": {
        "trusted": true,
        "_uuid": "253ab9bcc46ce48b2f5b702bacad75db5d95de7c"
      },
      "cell_type": "code",
      "source": "thistuple = (\"apple\", \"banana\", \"cherry\")\nprint(thistuple)",
      "execution_count": 88,
      "outputs": [
        {
          "output_type": "stream",
          "text": "('apple', 'banana', 'cherry')\n",
          "name": "stdout"
        }
      ]
    },
    {
      "metadata": {
        "_uuid": "0d377a64581e95a0022045181a2c81530eba31d1"
      },
      "cell_type": "markdown",
      "source": "<a id=\"28\"></a> <br>\n## 2-19 Set\nA set is a collection which is unordered and unindexed. In Python sets are written with curly brackets.\n###### [Go to top](#top)"
    },
    {
      "metadata": {
        "trusted": true,
        "_uuid": "0d4b6b6a5efa453ed3a594173586fb63bb6475dc",
        "_kg_hide-input": true
      },
      "cell_type": "code",
      "source": "thisset = {\"apple\", \"banana\", \"cherry\"}\nprint(thisset)",
      "execution_count": 89,
      "outputs": [
        {
          "output_type": "stream",
          "text": "{'banana', 'cherry', 'apple'}\n",
          "name": "stdout"
        }
      ]
    },
    {
      "metadata": {
        "trusted": true,
        "_uuid": "dbb1998040fc3bdc67e0d690de391b4f47e117b8",
        "_kg_hide-input": true
      },
      "cell_type": "code",
      "source": "thisset = {\"apple\", \"banana\", \"cherry\"}\n\nfor x in thisset:\n  print(x)",
      "execution_count": 90,
      "outputs": [
        {
          "output_type": "stream",
          "text": "banana\ncherry\napple\n",
          "name": "stdout"
        }
      ]
    },
    {
      "metadata": {
        "_uuid": "2f51152b3812f1d279b3a009fed112780aedbda4"
      },
      "cell_type": "markdown",
      "source": "<a id=\"29\"></a> <br>\n### 2-17-1 Add Items\nTo add one item to a set use the add() method.\n\nTo add more than one item to a set use the update() method.\n###### [Go to top](#top)"
    },
    {
      "metadata": {
        "trusted": true,
        "_uuid": "cccd895e65e0b5bbbfbecdd96b3322a43688de78",
        "_kg_hide-input": true
      },
      "cell_type": "code",
      "source": "thisset = {\"apple\", \"banana\", \"cherry\"}\n\nthisset.add(\"orange\")\n\nprint(thisset)",
      "execution_count": 91,
      "outputs": [
        {
          "output_type": "stream",
          "text": "{'banana', 'cherry', 'orange', 'apple'}\n",
          "name": "stdout"
        }
      ]
    },
    {
      "metadata": {
        "_uuid": "1a8697f93952e076f6f949997676d40518d7b5a6"
      },
      "cell_type": "markdown",
      "source": "<a id=\"30\"></a> <br>\n# Python Packages\n* Numpy\n* Pandas\n* Matplotlib\n* Seaborn\n* Sklearn\n* plotly"
    },
    {
      "metadata": {
        "_uuid": "bfb701e45e93aea0b3ed64e148ca2fdb53559038",
        "collapsed": true
      },
      "cell_type": "markdown",
      "source": "<a id=\"31\"></a> <br>\n# 3- Numerical Python (NumPy)\n\nFor Reading this section please fork and run the following kernel:\n\n[The Data Scientist’s Toolbox Tutorial - 2](https://www.kaggle.com/mjbahmani/the-data-scientist-s-toolbox-tutorial-2/)"
    },
    {
      "metadata": {
        "_uuid": "257c95de889d517a1673e5a64cc36a1893dbe7e8"
      },
      "cell_type": "markdown",
      "source": "<a id=\"41\"></a> <br>\n# 4- Pandas\n\nFor Reading this section please fork and run the following kernel:\n\n[The Data Scientist’s Toolbox Tutorial - 2](https://www.kaggle.com/mjbahmani/the-data-scientist-s-toolbox-tutorial-2/)"
    },
    {
      "metadata": {
        "_uuid": "1cddfa2ed52693fae8532576cc1064c05777354c"
      },
      "cell_type": "markdown",
      "source": "<a id=\"58\"></a> <br>\n## 5 Courses\nThere are a lot of online courses that can help you develop your knowledge, here I have just  listed some of them:\n\n1. [Machine Learning Certification by Stanford University (Coursera)](https://www.coursera.org/learn/machine-learning/)\n\n2. [Machine Learning A-Z™: Hands-On Python & R In Data Science (Udemy)](https://www.udemy.com/machinelearning/)\n\n3. [Deep Learning Certification by Andrew Ng from deeplearning.ai (Coursera)](https://www.coursera.org/specializations/deep-learning)\n\n4. [Python for Data Science and Machine Learning Bootcamp (Udemy)](Python for Data Science and Machine Learning Bootcamp (Udemy))\n\n5. [Mathematics for Machine Learning by Imperial College London](https://www.coursera.org/specializations/mathematics-machine-learning)\n\n6. [Deep Learning A-Z™: Hands-On Artificial Neural Networks](https://www.udemy.com/deeplearning/)\n\n7. [Complete Guide to TensorFlow for Deep Learning Tutorial with Python](https://www.udemy.com/complete-guide-to-tensorflow-for-deep-learning-with-python/)\n\n8. [Data Science and Machine Learning Tutorial with Python – Hands On](https://www.udemy.com/data-science-and-machine-learning-with-python-hands-on/)\n\n9. [Machine Learning Certification by University of Washington](https://www.coursera.org/specializations/machine-learning)\n\n10. [Data Science and Machine Learning Bootcamp with R](https://www.udemy.com/data-science-and-machine-learning-bootcamp-with-r/)\n11. [Creative Applications of Deep Learning with TensorFlow](https://www.class-central.com/course/kadenze-creative-applications-of-deep-learning-with-tensorflow-6679)\n12. [Neural Networks for Machine Learning](https://www.class-central.com/mooc/398/coursera-neural-networks-for-machine-learning)\n13. [Practical Deep Learning For Coders, Part 1](https://www.class-central.com/mooc/7887/practical-deep-learning-for-coders-part-1)\n14. [Machine Learning](https://www.cs.ox.ac.uk/teaching/courses/2014-2015/ml/index.html)\n <a id=\"59\"></a> <br>\n## 6 Ebooks\nIf you love reading , here is **10 free machine learning books**\n1. [Probability and Statistics for Programmers](http://www.greenteapress.com/thinkstats/)\n2. [Bayesian Reasoning and Machine Learning](http://web4.cs.ucl.ac.uk/staff/D.Barber/textbook/091117.pdf)\n2. [An Introduction to Statistical Learning](http://www-bcf.usc.edu/~gareth/ISL/)\n2. [Understanding Machine Learning](http://www.cs.huji.ac.il/~shais/UnderstandingMachineLearning/index.html)\n2. [A Programmer’s Guide to Data Mining](http://guidetodatamining.com/)\n2. [Mining of Massive Datasets](http://infolab.stanford.edu/~ullman/mmds/book.pdf)\n2. [A Brief Introduction to Neural Networks](http://www.dkriesel.com/_media/science/neuronalenetze-en-zeta2-2col-dkrieselcom.pdf)\n2. [Deep Learning](http://www.deeplearningbook.org/)\n2. [Natural Language Processing with Python](https://www.researchgate.net/publication/220691633_Natural_Language_Processing_with_Python)\n2. [Machine Learning Yearning](http://www.mlyearning.org/)\n <a id=\"60\"></a> <br>\n## 7 Cheat Sheets\nData Science is an ever-growing field, there are numerous tools & techniques to remember. It is not possible for anyone to remember all the functions, operations and formulas of each concept. That’s why we have cheat sheets. But there are a plethora of cheat sheets available out there, choosing the right cheat sheet is a tough task. So, I decided to collect them here\n\nHere I have selected the cheat sheets on the following criteria: comprehensiveness, clarity, and content [5]:\n1. [Quick Guide to learn Python for Data Science ](https://github.com/mjbahmani/10-steps-to-become-a-data-scientist/blob/master/cheatsheets/Data-Science-in-Python.pdf)\n1. [Python for Data Science Cheat sheet ](https://github.com/mjbahmani/10-steps-to-become-a-data-scientist/blob/master/cheatsheets/beginners_python_cheat_sheet.pdf)\n1. [Python For Data Science Cheat Sheet NumPy](https://github.com/mjbahmani/10-steps-to-become-a-data-scientist/blob/master/cheatsheets/Numpy_Python_Cheat_Sheet.pdf)\n1. [Exploratory Data Analysis in Python]()\n1. [Data Exploration using Pandas in Python](https://github.com/mjbahmani/10-steps-to-become-a-data-scientist/blob/master/cheatsheets/Data-Exploration-in-Python.pdf)\n1. [Data Visualisation in Python](https://github.com/mjbahmani/10-steps-to-become-a-data-scientist/blob/master/cheatsheets/data-visualisation-infographics1.jpg)\n1. [Python For Data Science Cheat Sheet Bokeh](https://github.com/mjbahmani/10-steps-to-become-a-data-scientist/blob/master/cheatsheets/Python_Bokeh_Cheat_Sheet.pdf)\n1. [Cheat Sheet: Scikit Learn ](https://github.com/mjbahmani/10-steps-to-become-a-data-scientist/blob/master/cheatsheets/Scikit-Learn-Infographic.pdf)\n1. [MLalgorithms CheatSheet](https://github.com/mjbahmani/10-steps-to-become-a-data-scientist/blob/master/cheatsheets/MLalgorithms-.pdf)\n1. [Probability Basics  Cheat Sheet ](https://github.com/mjbahmani/10-steps-to-become-a-data-scientist/blob/master/cheatsheets/probability_cheatsheet.pdf)"
    },
    {
      "metadata": {
        "_uuid": "a4a58d0f0aa8204797f2b0836d6204404280d6f3"
      },
      "cell_type": "markdown",
      "source": "\n<a id=\"61\"></a> <br>\n## 8 -Conclusion\nYou have got an introduction to the main packages and ideas in the **The Data Scientist’s Toolbox Tutorial - 1**. I hope,  you have had fun with it also, I want to hear your voice to update this kernel. in addition, there is the new and second version of the kernel that introduces the next packages. to continue please click on [**The Data Scientist’s Toolbox Tutorial - 2**](https://www.kaggle.com/mjbahmani/the-data-scientist-s-toolbox-tutorial-2)"
    },
    {
      "metadata": {
        "_uuid": "dc985ec01fe0e62afd495b8ec461359f085071b6"
      },
      "cell_type": "markdown",
      "source": "\n\n---------------------------------------------------------------------\nFork, Run and Follow this kernel on GitHub:\n> ###### [ GitHub](https://github.com/mjbahmani/10-steps-to-become-a-data-scientist)\n\n\n-------------------------------------------------------------------------------------------------------------\n **I hope you find this kernel helpful and some <font color=\"red\">UPVOTES</font> would be very much appreciated.**\n \n -----------\n"
    },
    {
      "metadata": {
        "_uuid": "3eb9f355dc3885ea4b0f38968a4bf14d20de02fd"
      },
      "cell_type": "markdown",
      "source": "<a id=\"62\"></a> <br>\n## 9- References\n1. [Coursera](https://www.coursera.org/specializations/data-science-python)\n1. [GitHub](https://github.com/mjbahmani)\n1. [plot.ly](https://plot.ly/python/offline/)\n1. [tutorialspoint](https://www.tutorialspoint.com/python/python_classes_objects.htm)\n1. [Top 28 Cheat Sheets for Machine Learning](https://www.analyticsvidhya.com/blog/2017/02/top-28-cheat-sheets-for-machine-learning-data-science-probability-sql-big-data/)\n\n###### [Go to top](#top)"
    },
    {
      "metadata": {
        "_uuid": "68134fa4351cbb06d34542ae7a467719d7ecf6ae"
      },
      "cell_type": "markdown",
      "source": "you may be interested have a look at it: [**Course Home Page**](https://www.kaggle.com/mjbahmani/10-steps-to-become-a-data-scientist)"
    }
  ],
  "metadata": {
    "kernelspec": {
      "display_name": "Python 3",
      "language": "python",
      "name": "python3"
    },
    "language_info": {
      "name": "python",
      "version": "3.6.6",
      "mimetype": "text/x-python",
      "codemirror_mode": {
        "name": "ipython",
        "version": 3
      },
      "pygments_lexer": "ipython3",
      "nbconvert_exporter": "python",
      "file_extension": ".py"
    }
  },
  "nbformat": 4,
  "nbformat_minor": 1
}